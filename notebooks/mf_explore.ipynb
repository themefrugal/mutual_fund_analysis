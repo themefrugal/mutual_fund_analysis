{
 "cells": [
  {
   "cell_type": "code",
   "execution_count": 1,
   "id": "2dc3be14",
   "metadata": {},
   "outputs": [],
   "source": [
    "import pandas as pd\n",
    "import urllib.request, json\n",
    "import plotly_express as px\n",
    "import plotly.figure_factory as ff\n",
    "from pyxirr import xirr"
   ]
  },
  {
   "cell_type": "code",
   "execution_count": 2,
   "id": "9230a2cd",
   "metadata": {},
   "outputs": [],
   "source": [
    "import yfinance as yf"
   ]
  },
  {
   "cell_type": "code",
   "execution_count": null,
   "id": "226a833f",
   "metadata": {},
   "outputs": [],
   "source": [
    "with urllib.request.urlopen('https://api.mfapi.in/mf') as url:\n",
    "    data = json.load(url)\n",
    "df_mfs = pd.DataFrame(data)"
   ]
  },
  {
   "cell_type": "code",
   "execution_count": null,
   "id": "c915be88",
   "metadata": {},
   "outputs": [],
   "source": [
    "df_mfs[df_mfs.schemeName.str.contains('HDFC Flex')]"
   ]
  },
  {
   "cell_type": "code",
   "execution_count": null,
   "id": "e338d66e",
   "metadata": {},
   "outputs": [],
   "source": [
    "df_mfs[df_mfs.schemeName.str.startswith('Parag')]"
   ]
  },
  {
   "cell_type": "code",
   "execution_count": null,
   "id": "b0a868e0",
   "metadata": {},
   "outputs": [],
   "source": [
    "df_sel_name = df_mfs.schemeName[0]"
   ]
  },
  {
   "cell_type": "code",
   "execution_count": null,
   "id": "faac67d4",
   "metadata": {},
   "outputs": [],
   "source": [
    "df_sel_code = df_mfs[df_mfs['schemeName'] == df_sel_name]['schemeCode'][0]\n",
    "df_sel_code"
   ]
  },
  {
   "cell_type": "code",
   "execution_count": null,
   "id": "330a6fa8",
   "metadata": {},
   "outputs": [],
   "source": [
    "def get_nav(scheme_code = '122639'):\n",
    "    # scheme_code = '122639'\n",
    "    mf_url = 'https://api.mfapi.in/mf/' + scheme_code\n",
    "    with urllib.request.urlopen(mf_url) as url:\n",
    "        data = json.load(url)\n",
    "\n",
    "    df_navs = pd.DataFrame(data['data'])\n",
    "    df_navs['date'] = pd.to_datetime(df_navs.date, format='%d-%m-%Y')\n",
    "    df_navs['nav'] = df_navs['nav'].astype(float)\n",
    "    df_navs = df_navs.sort_values(['date']).set_index(['date'])\n",
    "    df_dates = pd.DataFrame(pd.date_range(start=df_navs.index.min(), end=df_navs.index.max()), columns=['date']).set_index(['date'])\n",
    "    df_navs = df_navs.join(df_dates, how='outer').ffill().reset_index()\n",
    "    return df_navs"
   ]
  },
  {
   "cell_type": "code",
   "execution_count": null,
   "id": "82b61b15",
   "metadata": {},
   "outputs": [],
   "source": [
    "df_navs = get_nav()"
   ]
  },
  {
   "cell_type": "code",
   "execution_count": null,
   "id": "47c9de62",
   "metadata": {},
   "outputs": [],
   "source": [
    "base_date = '2015-01-01'\n",
    "base_nav = df_navs.set_index(['date']).loc[base_date:].nav[0]\n",
    "df_sel_navs = df_navs[df_navs['date'] >= base_date].copy()\n",
    "df_sel_navs"
   ]
  },
  {
   "cell_type": "code",
   "execution_count": null,
   "id": "194dab32",
   "metadata": {},
   "outputs": [],
   "source": [
    "px.line(df_navs, x = 'date', y='nav', log_y=True)"
   ]
  },
  {
   "cell_type": "code",
   "execution_count": null,
   "id": "60673f46",
   "metadata": {},
   "outputs": [],
   "source": [
    "def get_cagr(df_navs_orig, num_years = 1):\n",
    "    df_navs = df_navs_orig.copy()\n",
    "    df_navs['prev_nav'] = df_navs.nav.shift(365 * num_years)\n",
    "    df_navs = df_navs.dropna()\n",
    "    df_navs['returns'] = df_navs['nav'] / df_navs['prev_nav'] - 1\n",
    "    df_navs['cagr'] = 100 * ((1 + df_navs['returns']) ** (1 / num_years) - 1)\n",
    "    df_navs['years'] = num_years\n",
    "    df_cagr = df_navs[['date', 'years', 'cagr']]\n",
    "    return df_cagr"
   ]
  },
  {
   "cell_type": "code",
   "execution_count": null,
   "id": "48dc49d2",
   "metadata": {},
   "outputs": [],
   "source": [
    "all_names = ['Parag Parikh Flexi Cap Fund - Direct Plan - Growth', 'HDFC Equity Fund - Growth Option']"
   ]
  },
  {
   "cell_type": "code",
   "execution_count": null,
   "id": "3ef6ca54",
   "metadata": {},
   "outputs": [],
   "source": [
    "list_navs = []\n",
    "for name in all_names:\n",
    "    code = df_mfs[df_mfs['schemeName'] == name].schemeCode.to_list()[0]\n",
    "    df_nav_comp = get_nav(str(code))\n",
    "    df_nav_comp = df_nav_comp.set_index('date')\n",
    "    df_nav_comp = df_nav_comp.rename(columns={'nav': name})\n",
    "    list_navs.append(df_nav_comp)\n",
    "\n",
    "df_nav_all = pd.concat(list_navs, axis=1).dropna()\n",
    "df_rebased = df_nav_all.div(df_nav_all.iloc[0]).reset_index()\n",
    "df_rebased_long = pd.melt(df_rebased, id_vars='date', value_vars=all_names, var_name='mf', value_name='nav')"
   ]
  },
  {
   "cell_type": "code",
   "execution_count": null,
   "id": "172f0f42",
   "metadata": {},
   "outputs": [],
   "source": [
    "df_nav = df_nav_comp.reset_index()\n",
    "df_nav.columns = ['date', 'nav']"
   ]
  },
  {
   "cell_type": "code",
   "execution_count": null,
   "id": "c61ecf77",
   "metadata": {},
   "outputs": [],
   "source": [
    "df_nav.dtypes"
   ]
  },
  {
   "cell_type": "code",
   "execution_count": null,
   "id": "49cc3fa8",
   "metadata": {},
   "outputs": [],
   "source": [
    "df_nav.head()"
   ]
  },
  {
   "cell_type": "code",
   "execution_count": null,
   "id": "785c71e5",
   "metadata": {},
   "outputs": [],
   "source": [
    "start_date = pd.to_datetime('2006-05-01')\n",
    "end_date = pd.to_datetime('2020-04-01')"
   ]
  },
  {
   "cell_type": "code",
   "execution_count": null,
   "id": "51ce5330",
   "metadata": {},
   "outputs": [],
   "source": [
    "df_nav[df_nav['date'] >= start_date].head()"
   ]
  },
  {
   "cell_type": "code",
   "execution_count": null,
   "id": "8d1be5c9",
   "metadata": {},
   "outputs": [],
   "source": [
    "df_dates = pd.DataFrame(pd.date_range(start=start_date, end=end_date, freq='M'))\n",
    "df_dates.columns = ['date']"
   ]
  },
  {
   "cell_type": "code",
   "execution_count": null,
   "id": "d0b610a4",
   "metadata": {},
   "outputs": [],
   "source": [
    "df_cf = df_nav.merge(df_dates, on='date')\n",
    "df_cf['amount'] = 1000\n",
    "df_cf['units'] = df_cf['amount'] / df_cf['nav']"
   ]
  },
  {
   "cell_type": "code",
   "execution_count": null,
   "id": "cad8c903",
   "metadata": {},
   "outputs": [],
   "source": [
    "df_cf['cum_units'] = df_cf['units'].cumsum()\n",
    "df_cf['inv_value'] = df_cf['cum_units'] * df_cf['nav']\n",
    "df_cf['cum_amount'] = df_cf['amount'].cumsum()"
   ]
  },
  {
   "cell_type": "code",
   "execution_count": null,
   "id": "428ee467",
   "metadata": {},
   "outputs": [],
   "source": [
    "df_daily_dates = pd.DataFrame(pd.date_range(start=df_cf['date'].min(), end=df_cf['date'].max(), freq='D'))\n",
    "df_daily_dates.columns = ['date']\n",
    "df_cfs = df_cf.merge(df_daily_dates, on='date', how='right').sort_values(['date'])\n",
    "df_cfs = df_cfs.ffill()\n",
    "df_cf_long = pd.melt(df_cfs[['date', 'cum_amount', 'inv_value']], id_vars=['date'], value_vars=['cum_amount', 'inv_value'])"
   ]
  },
  {
   "cell_type": "code",
   "execution_count": null,
   "id": "8eb21738",
   "metadata": {},
   "outputs": [],
   "source": [
    "px.line(df_cf_long, x='date', y='value', color='variable')"
   ]
  },
  {
   "cell_type": "code",
   "execution_count": null,
   "id": "b6e41d3b",
   "metadata": {},
   "outputs": [],
   "source": [
    "df_investment = df_cf[['date', 'amount']]"
   ]
  },
  {
   "cell_type": "code",
   "execution_count": null,
   "id": "1a9e0a58",
   "metadata": {},
   "outputs": [],
   "source": [
    "df_redemption = pd.DataFrame([{'date': df_cf.iloc[-1:].date.values[0], 'amount': -df_cf['units'].sum() * df_cf.iloc[-1:].nav.values[0]}])"
   ]
  },
  {
   "cell_type": "code",
   "execution_count": null,
   "id": "228afa37",
   "metadata": {},
   "outputs": [],
   "source": [
    "df_irr = pd.concat([df_investment, df_redemption]).reset_index(drop=True)\n",
    "df_irr"
   ]
  },
  {
   "cell_type": "code",
   "execution_count": null,
   "id": "f7064810",
   "metadata": {},
   "outputs": [],
   "source": [
    "xirr(df_irr[['date', 'amount']]) * 100"
   ]
  },
  {
   "cell_type": "code",
   "execution_count": null,
   "id": "d9712179",
   "metadata": {},
   "outputs": [],
   "source": [
    "float('293.323')"
   ]
  },
  {
   "cell_type": "code",
   "execution_count": null,
   "id": "e0adaa5c",
   "metadata": {},
   "outputs": [],
   "source": [
    "years = [x + 1 for x in range(9)]\n",
    "list_cagr = []\n",
    "for y in years:\n",
    "    df_cagr = get_cagr(df_navs, y)\n",
    "    list_cagr.append(df_cagr)\n",
    "df_cagrs = pd.concat(list_cagr)"
   ]
  },
  {
   "cell_type": "code",
   "execution_count": null,
   "id": "8287e339",
   "metadata": {},
   "outputs": [],
   "source": [
    "df_cagrs.dtypes"
   ]
  },
  {
   "cell_type": "code",
   "execution_count": null,
   "id": "5c710d6b",
   "metadata": {},
   "outputs": [],
   "source": [
    "import datetime\n",
    "import numpy as np"
   ]
  },
  {
   "cell_type": "code",
   "execution_count": null,
   "id": "84f9a52e",
   "metadata": {},
   "outputs": [],
   "source": [
    "np.datetime64(datetime.datetime(2002, 6, 28, 1, 0))"
   ]
  },
  {
   "cell_type": "code",
   "execution_count": null,
   "id": "3e1b7d4d",
   "metadata": {},
   "outputs": [],
   "source": [
    "px.line(df_cagrs, x='date', y='cagr', color='years')"
   ]
  },
  {
   "cell_type": "code",
   "execution_count": null,
   "id": "8e87e82d",
   "metadata": {},
   "outputs": [],
   "source": [
    "df_cagrs.head()"
   ]
  },
  {
   "cell_type": "code",
   "execution_count": null,
   "id": "db53d018",
   "metadata": {},
   "outputs": [],
   "source": [
    "dfx = df_cagrs[['date', 'years', 'cagr']].groupby('years').describe().reset_index()\n",
    "dfx.columns = [[a for (a, b) in dfx.columns][0]] + [a for a in dfx.columns.droplevel()][1:]\n",
    "dfx"
   ]
  },
  {
   "cell_type": "code",
   "execution_count": null,
   "id": "416dbe3f",
   "metadata": {},
   "outputs": [],
   "source": [
    "df_cagr"
   ]
  },
  {
   "cell_type": "code",
   "execution_count": null,
   "id": "9bda175e",
   "metadata": {},
   "outputs": [],
   "source": [
    "all_names"
   ]
  },
  {
   "cell_type": "code",
   "execution_count": null,
   "id": "062d20d0",
   "metadata": {},
   "outputs": [],
   "source": [
    "list_navs = []\n",
    "list_cagrs = []\n",
    "for name in all_names:\n",
    "    code = df_mfs[df_mfs['schemeName'] == name].schemeCode.to_list()[0]\n",
    "    df_nav_comp = get_nav(str(code))\n",
    "    years = [x for x in range(1, 11)]\n",
    "    list_cagr = []\n",
    "    for y in years:\n",
    "        df_cagr = get_cagr(df_nav_comp, y)\n",
    "        list_cagr.append(df_cagr)\n",
    "    df_cagrs_comp = pd.concat(list_cagr)\n",
    "\n",
    "    df_nav_comp = df_nav_comp.set_index('date')\n",
    "    df_nav_comp = df_nav_comp.rename(columns={'nav': name})\n",
    "    list_navs.append(df_nav_comp)\n",
    "\n",
    "    df_cagrs_comp = df_cagrs_comp.set_index(['date', 'years'])\n",
    "    df_cagrs_comp = df_cagrs_comp.rename(columns={'cagr': name})\n",
    "    list_cagrs.append(df_cagrs_comp)\n",
    "\n",
    "df_nav_all = pd.concat(list_navs, axis=1).dropna()\n",
    "df_cagr_all = pd.concat(list_cagrs, axis=1).dropna()"
   ]
  },
  {
   "cell_type": "code",
   "execution_count": null,
   "id": "652a7c65",
   "metadata": {},
   "outputs": [],
   "source": [
    "df_nav_all"
   ]
  },
  {
   "cell_type": "code",
   "execution_count": null,
   "id": "ce77d912",
   "metadata": {},
   "outputs": [],
   "source": [
    "df_cagr_all"
   ]
  },
  {
   "cell_type": "code",
   "execution_count": null,
   "id": "17ac677b",
   "metadata": {},
   "outputs": [],
   "source": [
    "df_navs_date = df_nav_all.reset_index()\n",
    "min_date = df_navs_date['date'].min()\n",
    "max_date = df_navs_date['date'].max()\n",
    "from_date = \"2020-03-23\"\n",
    "df_nav_all = df_navs_date[df_navs_date['date'] >= np.datetime64(from_date)].set_index('date')"
   ]
  },
  {
   "cell_type": "code",
   "execution_count": null,
   "id": "6fb50f52",
   "metadata": {},
   "outputs": [],
   "source": [
    "df_rebased = df_nav_all.div(df_nav_all.iloc[0]).reset_index()\n",
    "df_rebased_long = pd.melt(df_rebased, id_vars='date', value_vars=all_names, var_name='mf', value_name='nav')"
   ]
  },
  {
   "cell_type": "code",
   "execution_count": null,
   "id": "826e3cfc",
   "metadata": {},
   "outputs": [],
   "source": [
    "df_rebased"
   ]
  },
  {
   "cell_type": "code",
   "execution_count": null,
   "id": "a3af1177",
   "metadata": {},
   "outputs": [],
   "source": [
    "df_cagr_wide = df_cagr_all.reset_index()\n",
    "df_cagr_long = pd.melt(df_cagr_wide, id_vars=['date', 'years'], value_vars=all_names, var_name='mf', value_name='cagr')"
   ]
  },
  {
   "cell_type": "code",
   "execution_count": null,
   "id": "a2fd149a",
   "metadata": {},
   "outputs": [],
   "source": [
    "df_cagr_long"
   ]
  },
  {
   "cell_type": "code",
   "execution_count": null,
   "id": "895e969a",
   "metadata": {},
   "outputs": [],
   "source": [
    "px.density_contour(df_cagrs.set_index(['date']), x='cagr', color='years')"
   ]
  },
  {
   "cell_type": "code",
   "execution_count": null,
   "id": "13592f9c",
   "metadata": {},
   "outputs": [],
   "source": [
    "# df_cagrs[df_cagrs['years'] == 9]\n",
    "px.histogram(df_cagrs, x='cagr', color='years')"
   ]
  },
  {
   "cell_type": "code",
   "execution_count": null,
   "id": "051bbf4e",
   "metadata": {},
   "outputs": [],
   "source": [
    "df_cagrs['cagr_bucket'] = round(df_cagrs['cagr'] / 1, 0) * 1"
   ]
  },
  {
   "cell_type": "code",
   "execution_count": null,
   "id": "944a7659",
   "metadata": {},
   "outputs": [],
   "source": [
    "df_total = pd.DataFrame(df_cagrs.groupby(['years']).cagr.count()).reset_index()\n",
    "df_total.columns = ['years', 'total']"
   ]
  },
  {
   "cell_type": "code",
   "execution_count": null,
   "id": "27ce75b1",
   "metadata": {},
   "outputs": [],
   "source": [
    "df_counts = pd.DataFrame(df_cagrs.groupby(['years', 'cagr_bucket']).cagr.count()).reset_index()\n",
    "df_counts.columns = ['years', 'cagr_bucket', 'count']"
   ]
  },
  {
   "cell_type": "code",
   "execution_count": null,
   "id": "20d4d36a",
   "metadata": {},
   "outputs": [],
   "source": [
    "df_x = df_counts.merge(df_total, on='years', how='left')\n",
    "df_x['pct'] = df_x['count'] / df_x['total']"
   ]
  },
  {
   "cell_type": "code",
   "execution_count": null,
   "id": "16f7263c",
   "metadata": {},
   "outputs": [],
   "source": [
    "df_x['years'] = df_x['years'].astype(str)\n",
    "px.bar(df_x, x='cagr_bucket', y='pct', color='years', barmode='overlay')"
   ]
  },
  {
   "cell_type": "code",
   "execution_count": null,
   "id": "c1d5233e",
   "metadata": {},
   "outputs": [],
   "source": [
    "df_x"
   ]
  },
  {
   "cell_type": "code",
   "execution_count": null,
   "id": "aac97cce",
   "metadata": {},
   "outputs": [],
   "source": [
    "with open('../data/mf_codes.txt', 'r') as fp:\n",
    "    list_code = []\n",
    "    line = fp.readline()\n",
    "    while line:\n",
    "        words = line.strip().split(';')\n",
    "        if len(words) > 5:\n",
    "            list_code.append([words[i] for i in [0, 1, 3]])\n",
    "        line = fp.readline()"
   ]
  },
  {
   "cell_type": "code",
   "execution_count": null,
   "id": "c3624565",
   "metadata": {},
   "outputs": [],
   "source": [
    "df_codes = pd.DataFrame(list_code)"
   ]
  },
  {
   "cell_type": "code",
   "execution_count": null,
   "id": "fd58fdb5",
   "metadata": {},
   "outputs": [],
   "source": [
    "# df_codes.columns = ['code', 'isin', 'none', 'name', 'nav', 'date']\n",
    "df_codes.columns = ['schemeCode', 'schemeISIN', 'schemeName']"
   ]
  },
  {
   "cell_type": "code",
   "execution_count": null,
   "id": "e82a1ba4",
   "metadata": {},
   "outputs": [],
   "source": [
    "with urllib.request.urlopen('https://api.mfapi.in/mf') as url:\n",
    "    data = json.load(url)\n",
    "df_mfs = pd.DataFrame(data)"
   ]
  },
  {
   "cell_type": "code",
   "execution_count": null,
   "id": "91d0405f",
   "metadata": {},
   "outputs": [],
   "source": [
    "# SWP in progress"
   ]
  },
  {
   "cell_type": "code",
   "execution_count": 83,
   "id": "f4ba1a22",
   "metadata": {},
   "outputs": [],
   "source": [
    "list_scr = pd.read_html('https://www.screener.in/company/LGBBROSLTD/consolidated/')"
   ]
  },
  {
   "cell_type": "code",
   "execution_count": 84,
   "id": "55684899",
   "metadata": {},
   "outputs": [
    {
     "data": {
      "text/plain": [
       "10"
      ]
     },
     "execution_count": 84,
     "metadata": {},
     "output_type": "execute_result"
    }
   ],
   "source": [
    "len(list_scr)"
   ]
  },
  {
   "cell_type": "code",
   "execution_count": 85,
   "id": "a9e173f1",
   "metadata": {},
   "outputs": [
    {
     "data": {
      "text/html": [
       "<div>\n",
       "<style scoped>\n",
       "    .dataframe tbody tr th:only-of-type {\n",
       "        vertical-align: middle;\n",
       "    }\n",
       "\n",
       "    .dataframe tbody tr th {\n",
       "        vertical-align: top;\n",
       "    }\n",
       "\n",
       "    .dataframe thead th {\n",
       "        text-align: right;\n",
       "    }\n",
       "</style>\n",
       "<table border=\"1\" class=\"dataframe\">\n",
       "  <thead>\n",
       "    <tr style=\"text-align: right;\">\n",
       "      <th></th>\n",
       "      <th>Unnamed: 0</th>\n",
       "      <th>Dec 2019</th>\n",
       "      <th>Mar 2020</th>\n",
       "      <th>Jun 2020</th>\n",
       "      <th>Sep 2020</th>\n",
       "      <th>Dec 2020</th>\n",
       "      <th>Mar 2021</th>\n",
       "      <th>Jun 2021</th>\n",
       "      <th>Sep 2021</th>\n",
       "      <th>Dec 2021</th>\n",
       "      <th>Mar 2022</th>\n",
       "      <th>Jun 2022</th>\n",
       "      <th>Sep 2022</th>\n",
       "      <th>Dec 2022</th>\n",
       "    </tr>\n",
       "  </thead>\n",
       "  <tbody>\n",
       "    <tr>\n",
       "      <th>0</th>\n",
       "      <td>Sales +</td>\n",
       "      <td>407</td>\n",
       "      <td>356</td>\n",
       "      <td>195</td>\n",
       "      <td>417</td>\n",
       "      <td>498</td>\n",
       "      <td>499</td>\n",
       "      <td>393</td>\n",
       "      <td>577</td>\n",
       "      <td>574</td>\n",
       "      <td>559</td>\n",
       "      <td>521</td>\n",
       "      <td>578</td>\n",
       "      <td>581</td>\n",
       "    </tr>\n",
       "    <tr>\n",
       "      <th>1</th>\n",
       "      <td>Expenses +</td>\n",
       "      <td>351</td>\n",
       "      <td>322</td>\n",
       "      <td>180</td>\n",
       "      <td>359</td>\n",
       "      <td>407</td>\n",
       "      <td>410</td>\n",
       "      <td>331</td>\n",
       "      <td>470</td>\n",
       "      <td>458</td>\n",
       "      <td>454</td>\n",
       "      <td>436</td>\n",
       "      <td>476</td>\n",
       "      <td>474</td>\n",
       "    </tr>\n",
       "    <tr>\n",
       "      <th>2</th>\n",
       "      <td>Operating Profit</td>\n",
       "      <td>55</td>\n",
       "      <td>34</td>\n",
       "      <td>14</td>\n",
       "      <td>58</td>\n",
       "      <td>91</td>\n",
       "      <td>89</td>\n",
       "      <td>61</td>\n",
       "      <td>107</td>\n",
       "      <td>116</td>\n",
       "      <td>105</td>\n",
       "      <td>85</td>\n",
       "      <td>102</td>\n",
       "      <td>107</td>\n",
       "    </tr>\n",
       "    <tr>\n",
       "      <th>3</th>\n",
       "      <td>OPM %</td>\n",
       "      <td>14%</td>\n",
       "      <td>10%</td>\n",
       "      <td>7%</td>\n",
       "      <td>14%</td>\n",
       "      <td>18%</td>\n",
       "      <td>18%</td>\n",
       "      <td>16%</td>\n",
       "      <td>18%</td>\n",
       "      <td>20%</td>\n",
       "      <td>19%</td>\n",
       "      <td>16%</td>\n",
       "      <td>18%</td>\n",
       "      <td>18%</td>\n",
       "    </tr>\n",
       "    <tr>\n",
       "      <th>4</th>\n",
       "      <td>Other Income +</td>\n",
       "      <td>6</td>\n",
       "      <td>8</td>\n",
       "      <td>1</td>\n",
       "      <td>6</td>\n",
       "      <td>2</td>\n",
       "      <td>12</td>\n",
       "      <td>4</td>\n",
       "      <td>20</td>\n",
       "      <td>3</td>\n",
       "      <td>8</td>\n",
       "      <td>13</td>\n",
       "      <td>6</td>\n",
       "      <td>7</td>\n",
       "    </tr>\n",
       "    <tr>\n",
       "      <th>5</th>\n",
       "      <td>Interest</td>\n",
       "      <td>4</td>\n",
       "      <td>3</td>\n",
       "      <td>3</td>\n",
       "      <td>3</td>\n",
       "      <td>2</td>\n",
       "      <td>2</td>\n",
       "      <td>2</td>\n",
       "      <td>2</td>\n",
       "      <td>3</td>\n",
       "      <td>3</td>\n",
       "      <td>1</td>\n",
       "      <td>1</td>\n",
       "      <td>2</td>\n",
       "    </tr>\n",
       "    <tr>\n",
       "      <th>6</th>\n",
       "      <td>Depreciation</td>\n",
       "      <td>20</td>\n",
       "      <td>21</td>\n",
       "      <td>20</td>\n",
       "      <td>21</td>\n",
       "      <td>21</td>\n",
       "      <td>21</td>\n",
       "      <td>20</td>\n",
       "      <td>21</td>\n",
       "      <td>21</td>\n",
       "      <td>21</td>\n",
       "      <td>20</td>\n",
       "      <td>20</td>\n",
       "      <td>20</td>\n",
       "    </tr>\n",
       "    <tr>\n",
       "      <th>7</th>\n",
       "      <td>Profit before tax</td>\n",
       "      <td>37</td>\n",
       "      <td>18</td>\n",
       "      <td>-8</td>\n",
       "      <td>41</td>\n",
       "      <td>70</td>\n",
       "      <td>78</td>\n",
       "      <td>43</td>\n",
       "      <td>104</td>\n",
       "      <td>95</td>\n",
       "      <td>90</td>\n",
       "      <td>77</td>\n",
       "      <td>87</td>\n",
       "      <td>93</td>\n",
       "    </tr>\n",
       "    <tr>\n",
       "      <th>8</th>\n",
       "      <td>Tax %</td>\n",
       "      <td>25%</td>\n",
       "      <td>30%</td>\n",
       "      <td>25%</td>\n",
       "      <td>33%</td>\n",
       "      <td>23%</td>\n",
       "      <td>25%</td>\n",
       "      <td>23%</td>\n",
       "      <td>25%</td>\n",
       "      <td>25%</td>\n",
       "      <td>29%</td>\n",
       "      <td>24%</td>\n",
       "      <td>23%</td>\n",
       "      <td>22%</td>\n",
       "    </tr>\n",
       "    <tr>\n",
       "      <th>9</th>\n",
       "      <td>Net Profit</td>\n",
       "      <td>28</td>\n",
       "      <td>13</td>\n",
       "      <td>-6</td>\n",
       "      <td>27</td>\n",
       "      <td>54</td>\n",
       "      <td>58</td>\n",
       "      <td>33</td>\n",
       "      <td>78</td>\n",
       "      <td>71</td>\n",
       "      <td>64</td>\n",
       "      <td>58</td>\n",
       "      <td>67</td>\n",
       "      <td>72</td>\n",
       "    </tr>\n",
       "    <tr>\n",
       "      <th>10</th>\n",
       "      <td>EPS in Rs</td>\n",
       "      <td>8.87</td>\n",
       "      <td>4.13</td>\n",
       "      <td>-1.93</td>\n",
       "      <td>8.86</td>\n",
       "      <td>17.11</td>\n",
       "      <td>18.47</td>\n",
       "      <td>10.50</td>\n",
       "      <td>24.82</td>\n",
       "      <td>22.64</td>\n",
       "      <td>20.24</td>\n",
       "      <td>18.57</td>\n",
       "      <td>21.37</td>\n",
       "      <td>22.98</td>\n",
       "    </tr>\n",
       "    <tr>\n",
       "      <th>11</th>\n",
       "      <td>Raw PDF</td>\n",
       "      <td>NaN</td>\n",
       "      <td>NaN</td>\n",
       "      <td>NaN</td>\n",
       "      <td>NaN</td>\n",
       "      <td>NaN</td>\n",
       "      <td>NaN</td>\n",
       "      <td>NaN</td>\n",
       "      <td>NaN</td>\n",
       "      <td>NaN</td>\n",
       "      <td>NaN</td>\n",
       "      <td>NaN</td>\n",
       "      <td>NaN</td>\n",
       "      <td>NaN</td>\n",
       "    </tr>\n",
       "  </tbody>\n",
       "</table>\n",
       "</div>"
      ],
      "text/plain": [
       "           Unnamed: 0 Dec 2019 Mar 2020 Jun 2020 Sep 2020 Dec 2020 Mar 2021  \\\n",
       "0             Sales +      407      356      195      417      498      499   \n",
       "1          Expenses +      351      322      180      359      407      410   \n",
       "2    Operating Profit       55       34       14       58       91       89   \n",
       "3               OPM %      14%      10%       7%      14%      18%      18%   \n",
       "4      Other Income +        6        8        1        6        2       12   \n",
       "5            Interest        4        3        3        3        2        2   \n",
       "6        Depreciation       20       21       20       21       21       21   \n",
       "7   Profit before tax       37       18       -8       41       70       78   \n",
       "8               Tax %      25%      30%      25%      33%      23%      25%   \n",
       "9          Net Profit       28       13       -6       27       54       58   \n",
       "10          EPS in Rs     8.87     4.13    -1.93     8.86    17.11    18.47   \n",
       "11            Raw PDF      NaN      NaN      NaN      NaN      NaN      NaN   \n",
       "\n",
       "   Jun 2021 Sep 2021 Dec 2021 Mar 2022 Jun 2022 Sep 2022 Dec 2022  \n",
       "0       393      577      574      559      521      578      581  \n",
       "1       331      470      458      454      436      476      474  \n",
       "2        61      107      116      105       85      102      107  \n",
       "3       16%      18%      20%      19%      16%      18%      18%  \n",
       "4         4       20        3        8       13        6        7  \n",
       "5         2        2        3        3        1        1        2  \n",
       "6        20       21       21       21       20       20       20  \n",
       "7        43      104       95       90       77       87       93  \n",
       "8       23%      25%      25%      29%      24%      23%      22%  \n",
       "9        33       78       71       64       58       67       72  \n",
       "10    10.50    24.82    22.64    20.24    18.57    21.37    22.98  \n",
       "11      NaN      NaN      NaN      NaN      NaN      NaN      NaN  "
      ]
     },
     "execution_count": 85,
     "metadata": {},
     "output_type": "execute_result"
    }
   ],
   "source": [
    "list_scr[0]"
   ]
  },
  {
   "cell_type": "code",
   "execution_count": 144,
   "id": "0963a29c",
   "metadata": {},
   "outputs": [],
   "source": [
    "df_qly_sales = list_scr[0].rename({'Unnamed: 0': 'Metric'}, axis=1)\n",
    "df_yly_sales = list_scr[1].rename({'Unnamed: 0': 'Metric'}, axis=1)"
   ]
  },
  {
   "cell_type": "code",
   "execution_count": 145,
   "id": "c6e506dc",
   "metadata": {},
   "outputs": [
    {
     "data": {
      "text/html": [
       "<div>\n",
       "<style scoped>\n",
       "    .dataframe tbody tr th:only-of-type {\n",
       "        vertical-align: middle;\n",
       "    }\n",
       "\n",
       "    .dataframe tbody tr th {\n",
       "        vertical-align: top;\n",
       "    }\n",
       "\n",
       "    .dataframe thead th {\n",
       "        text-align: right;\n",
       "    }\n",
       "</style>\n",
       "<table border=\"1\" class=\"dataframe\">\n",
       "  <thead>\n",
       "    <tr style=\"text-align: right;\">\n",
       "      <th></th>\n",
       "      <th>Metric</th>\n",
       "      <th>Mar 2011</th>\n",
       "      <th>Mar 2012</th>\n",
       "      <th>Mar 2013</th>\n",
       "      <th>Mar 2014</th>\n",
       "      <th>Mar 2015</th>\n",
       "      <th>Mar 2016</th>\n",
       "      <th>Mar 2017</th>\n",
       "      <th>Mar 2018</th>\n",
       "      <th>Mar 2019</th>\n",
       "      <th>Mar 2020</th>\n",
       "      <th>Mar 2021</th>\n",
       "      <th>Mar 2022</th>\n",
       "      <th>TTM</th>\n",
       "    </tr>\n",
       "  </thead>\n",
       "  <tbody>\n",
       "    <tr>\n",
       "      <th>0</th>\n",
       "      <td>Sales +</td>\n",
       "      <td>704</td>\n",
       "      <td>898</td>\n",
       "      <td>939</td>\n",
       "      <td>1085</td>\n",
       "      <td>1151</td>\n",
       "      <td>1175</td>\n",
       "      <td>1258</td>\n",
       "      <td>1418</td>\n",
       "      <td>1688</td>\n",
       "      <td>1543</td>\n",
       "      <td>1609</td>\n",
       "      <td>2102</td>\n",
       "      <td>2239</td>\n",
       "    </tr>\n",
       "    <tr>\n",
       "      <th>1</th>\n",
       "      <td>Expenses +</td>\n",
       "      <td>616</td>\n",
       "      <td>794</td>\n",
       "      <td>850</td>\n",
       "      <td>959</td>\n",
       "      <td>1009</td>\n",
       "      <td>1037</td>\n",
       "      <td>1095</td>\n",
       "      <td>1222</td>\n",
       "      <td>1479</td>\n",
       "      <td>1355</td>\n",
       "      <td>1355</td>\n",
       "      <td>1713</td>\n",
       "      <td>1840</td>\n",
       "    </tr>\n",
       "    <tr>\n",
       "      <th>2</th>\n",
       "      <td>Operating Profit</td>\n",
       "      <td>87</td>\n",
       "      <td>104</td>\n",
       "      <td>89</td>\n",
       "      <td>126</td>\n",
       "      <td>142</td>\n",
       "      <td>138</td>\n",
       "      <td>162</td>\n",
       "      <td>196</td>\n",
       "      <td>209</td>\n",
       "      <td>187</td>\n",
       "      <td>254</td>\n",
       "      <td>389</td>\n",
       "      <td>399</td>\n",
       "    </tr>\n",
       "    <tr>\n",
       "      <th>3</th>\n",
       "      <td>OPM %</td>\n",
       "      <td>12%</td>\n",
       "      <td>12%</td>\n",
       "      <td>10%</td>\n",
       "      <td>12%</td>\n",
       "      <td>12%</td>\n",
       "      <td>12%</td>\n",
       "      <td>13%</td>\n",
       "      <td>14%</td>\n",
       "      <td>12%</td>\n",
       "      <td>12%</td>\n",
       "      <td>16%</td>\n",
       "      <td>19%</td>\n",
       "      <td>18%</td>\n",
       "    </tr>\n",
       "    <tr>\n",
       "      <th>4</th>\n",
       "      <td>Other Income +</td>\n",
       "      <td>2</td>\n",
       "      <td>2</td>\n",
       "      <td>4</td>\n",
       "      <td>5</td>\n",
       "      <td>9</td>\n",
       "      <td>4</td>\n",
       "      <td>10</td>\n",
       "      <td>5</td>\n",
       "      <td>15</td>\n",
       "      <td>22</td>\n",
       "      <td>21</td>\n",
       "      <td>35</td>\n",
       "      <td>35</td>\n",
       "    </tr>\n",
       "    <tr>\n",
       "      <th>5</th>\n",
       "      <td>Interest</td>\n",
       "      <td>15</td>\n",
       "      <td>18</td>\n",
       "      <td>23</td>\n",
       "      <td>18</td>\n",
       "      <td>18</td>\n",
       "      <td>18</td>\n",
       "      <td>16</td>\n",
       "      <td>12</td>\n",
       "      <td>13</td>\n",
       "      <td>16</td>\n",
       "      <td>11</td>\n",
       "      <td>9</td>\n",
       "      <td>7</td>\n",
       "    </tr>\n",
       "    <tr>\n",
       "      <th>6</th>\n",
       "      <td>Depreciation</td>\n",
       "      <td>26</td>\n",
       "      <td>29</td>\n",
       "      <td>30</td>\n",
       "      <td>33</td>\n",
       "      <td>39</td>\n",
       "      <td>46</td>\n",
       "      <td>53</td>\n",
       "      <td>58</td>\n",
       "      <td>68</td>\n",
       "      <td>79</td>\n",
       "      <td>83</td>\n",
       "      <td>83</td>\n",
       "      <td>80</td>\n",
       "    </tr>\n",
       "    <tr>\n",
       "      <th>7</th>\n",
       "      <td>Profit before tax</td>\n",
       "      <td>48</td>\n",
       "      <td>59</td>\n",
       "      <td>40</td>\n",
       "      <td>80</td>\n",
       "      <td>94</td>\n",
       "      <td>78</td>\n",
       "      <td>103</td>\n",
       "      <td>131</td>\n",
       "      <td>143</td>\n",
       "      <td>115</td>\n",
       "      <td>180</td>\n",
       "      <td>332</td>\n",
       "      <td>347</td>\n",
       "    </tr>\n",
       "    <tr>\n",
       "      <th>8</th>\n",
       "      <td>Tax %</td>\n",
       "      <td>4%</td>\n",
       "      <td>25%</td>\n",
       "      <td>19%</td>\n",
       "      <td>19%</td>\n",
       "      <td>22%</td>\n",
       "      <td>17%</td>\n",
       "      <td>28%</td>\n",
       "      <td>33%</td>\n",
       "      <td>32%</td>\n",
       "      <td>22%</td>\n",
       "      <td>26%</td>\n",
       "      <td>26%</td>\n",
       "      <td>NaN</td>\n",
       "    </tr>\n",
       "    <tr>\n",
       "      <th>9</th>\n",
       "      <td>Net Profit</td>\n",
       "      <td>46</td>\n",
       "      <td>44</td>\n",
       "      <td>33</td>\n",
       "      <td>66</td>\n",
       "      <td>74</td>\n",
       "      <td>66</td>\n",
       "      <td>75</td>\n",
       "      <td>89</td>\n",
       "      <td>100</td>\n",
       "      <td>91</td>\n",
       "      <td>133</td>\n",
       "      <td>246</td>\n",
       "      <td>261</td>\n",
       "    </tr>\n",
       "    <tr>\n",
       "      <th>10</th>\n",
       "      <td>EPS in Rs</td>\n",
       "      <td>14.74</td>\n",
       "      <td>14.09</td>\n",
       "      <td>10.42</td>\n",
       "      <td>20.01</td>\n",
       "      <td>22.68</td>\n",
       "      <td>20.22</td>\n",
       "      <td>22.61</td>\n",
       "      <td>27.41</td>\n",
       "      <td>31.72</td>\n",
       "      <td>29.19</td>\n",
       "      <td>42.51</td>\n",
       "      <td>78.20</td>\n",
       "      <td>83.16</td>\n",
       "    </tr>\n",
       "    <tr>\n",
       "      <th>11</th>\n",
       "      <td>Dividend Payout %</td>\n",
       "      <td>17%</td>\n",
       "      <td>20%</td>\n",
       "      <td>18%</td>\n",
       "      <td>15%</td>\n",
       "      <td>15%</td>\n",
       "      <td>15%</td>\n",
       "      <td>15%</td>\n",
       "      <td>8%</td>\n",
       "      <td>16%</td>\n",
       "      <td>17%</td>\n",
       "      <td>24%</td>\n",
       "      <td>19%</td>\n",
       "      <td>NaN</td>\n",
       "    </tr>\n",
       "  </tbody>\n",
       "</table>\n",
       "</div>"
      ],
      "text/plain": [
       "               Metric Mar 2011 Mar 2012 Mar 2013 Mar 2014 Mar 2015 Mar 2016  \\\n",
       "0             Sales +      704      898      939     1085     1151     1175   \n",
       "1          Expenses +      616      794      850      959     1009     1037   \n",
       "2    Operating Profit       87      104       89      126      142      138   \n",
       "3               OPM %      12%      12%      10%      12%      12%      12%   \n",
       "4      Other Income +        2        2        4        5        9        4   \n",
       "5            Interest       15       18       23       18       18       18   \n",
       "6        Depreciation       26       29       30       33       39       46   \n",
       "7   Profit before tax       48       59       40       80       94       78   \n",
       "8               Tax %       4%      25%      19%      19%      22%      17%   \n",
       "9          Net Profit       46       44       33       66       74       66   \n",
       "10          EPS in Rs    14.74    14.09    10.42    20.01    22.68    20.22   \n",
       "11  Dividend Payout %      17%      20%      18%      15%      15%      15%   \n",
       "\n",
       "   Mar 2017 Mar 2018 Mar 2019 Mar 2020 Mar 2021 Mar 2022    TTM  \n",
       "0      1258     1418     1688     1543     1609     2102   2239  \n",
       "1      1095     1222     1479     1355     1355     1713   1840  \n",
       "2       162      196      209      187      254      389    399  \n",
       "3       13%      14%      12%      12%      16%      19%    18%  \n",
       "4        10        5       15       22       21       35     35  \n",
       "5        16       12       13       16       11        9      7  \n",
       "6        53       58       68       79       83       83     80  \n",
       "7       103      131      143      115      180      332    347  \n",
       "8       28%      33%      32%      22%      26%      26%    NaN  \n",
       "9        75       89      100       91      133      246    261  \n",
       "10    22.61    27.41    31.72    29.19    42.51    78.20  83.16  \n",
       "11      15%       8%      16%      17%      24%      19%    NaN  "
      ]
     },
     "execution_count": 145,
     "metadata": {},
     "output_type": "execute_result"
    }
   ],
   "source": [
    "df_yly_sales"
   ]
  },
  {
   "cell_type": "code",
   "execution_count": 146,
   "id": "b36e4e9d",
   "metadata": {},
   "outputs": [
    {
     "data": {
      "text/plain": [
       "'OPM %'"
      ]
     },
     "execution_count": 146,
     "metadata": {},
     "output_type": "execute_result"
    }
   ],
   "source": [
    "df_qly_sales.Metric[3]"
   ]
  },
  {
   "cell_type": "code",
   "execution_count": 124,
   "id": "330cdc4b",
   "metadata": {},
   "outputs": [],
   "source": [
    "df_qly = df_qly_sales[df_qly_sales['Metric'] == df_qly_sales.Metric[0]].transpose()\n",
    "df_qly = df_qly.reset_index()\n",
    "df_qly.columns = ['Date', 'Sales (Cr)']\n",
    "df_qly = df_qly[df_qly['Date'] != 'Metric']\n",
    "df_qly['Sales (Cr)'] = df_qly['Sales (Cr)'].astype(float)"
   ]
  },
  {
   "cell_type": "code",
   "execution_count": 134,
   "id": "a9e89531",
   "metadata": {},
   "outputs": [
    {
     "data": {
      "application/vnd.plotly.v1+json": {
       "config": {
        "plotlyServerURL": "https://plot.ly"
       },
       "data": [
        {
         "alignmentgroup": "True",
         "hovertemplate": "Date=%{x}<br>Sales (Cr)=%{y}<extra></extra>",
         "legendgroup": "",
         "marker": {
          "color": "#636efa",
          "pattern": {
           "shape": ""
          }
         },
         "name": "",
         "offsetgroup": "",
         "orientation": "v",
         "showlegend": false,
         "textposition": "auto",
         "type": "bar",
         "x": [
          "Dec 2019",
          "Mar 2020",
          "Jun 2020",
          "Sep 2020",
          "Dec 2020",
          "Mar 2021",
          "Jun 2021",
          "Sep 2021",
          "Dec 2021",
          "Mar 2022",
          "Jun 2022",
          "Sep 2022",
          "Dec 2022"
         ],
         "xaxis": "x",
         "y": [
          407,
          356,
          195,
          417,
          498,
          499,
          393,
          577,
          574,
          559,
          521,
          578,
          581
         ],
         "yaxis": "y"
        }
       ],
       "layout": {
        "barmode": "relative",
        "legend": {
         "tracegroupgap": 0
        },
        "template": {
         "data": {
          "bar": [
           {
            "error_x": {
             "color": "#2a3f5f"
            },
            "error_y": {
             "color": "#2a3f5f"
            },
            "marker": {
             "line": {
              "color": "#E5ECF6",
              "width": 0.5
             },
             "pattern": {
              "fillmode": "overlay",
              "size": 10,
              "solidity": 0.2
             }
            },
            "type": "bar"
           }
          ],
          "barpolar": [
           {
            "marker": {
             "line": {
              "color": "#E5ECF6",
              "width": 0.5
             },
             "pattern": {
              "fillmode": "overlay",
              "size": 10,
              "solidity": 0.2
             }
            },
            "type": "barpolar"
           }
          ],
          "carpet": [
           {
            "aaxis": {
             "endlinecolor": "#2a3f5f",
             "gridcolor": "white",
             "linecolor": "white",
             "minorgridcolor": "white",
             "startlinecolor": "#2a3f5f"
            },
            "baxis": {
             "endlinecolor": "#2a3f5f",
             "gridcolor": "white",
             "linecolor": "white",
             "minorgridcolor": "white",
             "startlinecolor": "#2a3f5f"
            },
            "type": "carpet"
           }
          ],
          "choropleth": [
           {
            "colorbar": {
             "outlinewidth": 0,
             "ticks": ""
            },
            "type": "choropleth"
           }
          ],
          "contour": [
           {
            "colorbar": {
             "outlinewidth": 0,
             "ticks": ""
            },
            "colorscale": [
             [
              0,
              "#0d0887"
             ],
             [
              0.1111111111111111,
              "#46039f"
             ],
             [
              0.2222222222222222,
              "#7201a8"
             ],
             [
              0.3333333333333333,
              "#9c179e"
             ],
             [
              0.4444444444444444,
              "#bd3786"
             ],
             [
              0.5555555555555556,
              "#d8576b"
             ],
             [
              0.6666666666666666,
              "#ed7953"
             ],
             [
              0.7777777777777778,
              "#fb9f3a"
             ],
             [
              0.8888888888888888,
              "#fdca26"
             ],
             [
              1,
              "#f0f921"
             ]
            ],
            "type": "contour"
           }
          ],
          "contourcarpet": [
           {
            "colorbar": {
             "outlinewidth": 0,
             "ticks": ""
            },
            "type": "contourcarpet"
           }
          ],
          "heatmap": [
           {
            "colorbar": {
             "outlinewidth": 0,
             "ticks": ""
            },
            "colorscale": [
             [
              0,
              "#0d0887"
             ],
             [
              0.1111111111111111,
              "#46039f"
             ],
             [
              0.2222222222222222,
              "#7201a8"
             ],
             [
              0.3333333333333333,
              "#9c179e"
             ],
             [
              0.4444444444444444,
              "#bd3786"
             ],
             [
              0.5555555555555556,
              "#d8576b"
             ],
             [
              0.6666666666666666,
              "#ed7953"
             ],
             [
              0.7777777777777778,
              "#fb9f3a"
             ],
             [
              0.8888888888888888,
              "#fdca26"
             ],
             [
              1,
              "#f0f921"
             ]
            ],
            "type": "heatmap"
           }
          ],
          "heatmapgl": [
           {
            "colorbar": {
             "outlinewidth": 0,
             "ticks": ""
            },
            "colorscale": [
             [
              0,
              "#0d0887"
             ],
             [
              0.1111111111111111,
              "#46039f"
             ],
             [
              0.2222222222222222,
              "#7201a8"
             ],
             [
              0.3333333333333333,
              "#9c179e"
             ],
             [
              0.4444444444444444,
              "#bd3786"
             ],
             [
              0.5555555555555556,
              "#d8576b"
             ],
             [
              0.6666666666666666,
              "#ed7953"
             ],
             [
              0.7777777777777778,
              "#fb9f3a"
             ],
             [
              0.8888888888888888,
              "#fdca26"
             ],
             [
              1,
              "#f0f921"
             ]
            ],
            "type": "heatmapgl"
           }
          ],
          "histogram": [
           {
            "marker": {
             "pattern": {
              "fillmode": "overlay",
              "size": 10,
              "solidity": 0.2
             }
            },
            "type": "histogram"
           }
          ],
          "histogram2d": [
           {
            "colorbar": {
             "outlinewidth": 0,
             "ticks": ""
            },
            "colorscale": [
             [
              0,
              "#0d0887"
             ],
             [
              0.1111111111111111,
              "#46039f"
             ],
             [
              0.2222222222222222,
              "#7201a8"
             ],
             [
              0.3333333333333333,
              "#9c179e"
             ],
             [
              0.4444444444444444,
              "#bd3786"
             ],
             [
              0.5555555555555556,
              "#d8576b"
             ],
             [
              0.6666666666666666,
              "#ed7953"
             ],
             [
              0.7777777777777778,
              "#fb9f3a"
             ],
             [
              0.8888888888888888,
              "#fdca26"
             ],
             [
              1,
              "#f0f921"
             ]
            ],
            "type": "histogram2d"
           }
          ],
          "histogram2dcontour": [
           {
            "colorbar": {
             "outlinewidth": 0,
             "ticks": ""
            },
            "colorscale": [
             [
              0,
              "#0d0887"
             ],
             [
              0.1111111111111111,
              "#46039f"
             ],
             [
              0.2222222222222222,
              "#7201a8"
             ],
             [
              0.3333333333333333,
              "#9c179e"
             ],
             [
              0.4444444444444444,
              "#bd3786"
             ],
             [
              0.5555555555555556,
              "#d8576b"
             ],
             [
              0.6666666666666666,
              "#ed7953"
             ],
             [
              0.7777777777777778,
              "#fb9f3a"
             ],
             [
              0.8888888888888888,
              "#fdca26"
             ],
             [
              1,
              "#f0f921"
             ]
            ],
            "type": "histogram2dcontour"
           }
          ],
          "mesh3d": [
           {
            "colorbar": {
             "outlinewidth": 0,
             "ticks": ""
            },
            "type": "mesh3d"
           }
          ],
          "parcoords": [
           {
            "line": {
             "colorbar": {
              "outlinewidth": 0,
              "ticks": ""
             }
            },
            "type": "parcoords"
           }
          ],
          "pie": [
           {
            "automargin": true,
            "type": "pie"
           }
          ],
          "scatter": [
           {
            "marker": {
             "colorbar": {
              "outlinewidth": 0,
              "ticks": ""
             }
            },
            "type": "scatter"
           }
          ],
          "scatter3d": [
           {
            "line": {
             "colorbar": {
              "outlinewidth": 0,
              "ticks": ""
             }
            },
            "marker": {
             "colorbar": {
              "outlinewidth": 0,
              "ticks": ""
             }
            },
            "type": "scatter3d"
           }
          ],
          "scattercarpet": [
           {
            "marker": {
             "colorbar": {
              "outlinewidth": 0,
              "ticks": ""
             }
            },
            "type": "scattercarpet"
           }
          ],
          "scattergeo": [
           {
            "marker": {
             "colorbar": {
              "outlinewidth": 0,
              "ticks": ""
             }
            },
            "type": "scattergeo"
           }
          ],
          "scattergl": [
           {
            "marker": {
             "colorbar": {
              "outlinewidth": 0,
              "ticks": ""
             }
            },
            "type": "scattergl"
           }
          ],
          "scattermapbox": [
           {
            "marker": {
             "colorbar": {
              "outlinewidth": 0,
              "ticks": ""
             }
            },
            "type": "scattermapbox"
           }
          ],
          "scatterpolar": [
           {
            "marker": {
             "colorbar": {
              "outlinewidth": 0,
              "ticks": ""
             }
            },
            "type": "scatterpolar"
           }
          ],
          "scatterpolargl": [
           {
            "marker": {
             "colorbar": {
              "outlinewidth": 0,
              "ticks": ""
             }
            },
            "type": "scatterpolargl"
           }
          ],
          "scatterternary": [
           {
            "marker": {
             "colorbar": {
              "outlinewidth": 0,
              "ticks": ""
             }
            },
            "type": "scatterternary"
           }
          ],
          "surface": [
           {
            "colorbar": {
             "outlinewidth": 0,
             "ticks": ""
            },
            "colorscale": [
             [
              0,
              "#0d0887"
             ],
             [
              0.1111111111111111,
              "#46039f"
             ],
             [
              0.2222222222222222,
              "#7201a8"
             ],
             [
              0.3333333333333333,
              "#9c179e"
             ],
             [
              0.4444444444444444,
              "#bd3786"
             ],
             [
              0.5555555555555556,
              "#d8576b"
             ],
             [
              0.6666666666666666,
              "#ed7953"
             ],
             [
              0.7777777777777778,
              "#fb9f3a"
             ],
             [
              0.8888888888888888,
              "#fdca26"
             ],
             [
              1,
              "#f0f921"
             ]
            ],
            "type": "surface"
           }
          ],
          "table": [
           {
            "cells": {
             "fill": {
              "color": "#EBF0F8"
             },
             "line": {
              "color": "white"
             }
            },
            "header": {
             "fill": {
              "color": "#C8D4E3"
             },
             "line": {
              "color": "white"
             }
            },
            "type": "table"
           }
          ]
         },
         "layout": {
          "annotationdefaults": {
           "arrowcolor": "#2a3f5f",
           "arrowhead": 0,
           "arrowwidth": 1
          },
          "autotypenumbers": "strict",
          "coloraxis": {
           "colorbar": {
            "outlinewidth": 0,
            "ticks": ""
           }
          },
          "colorscale": {
           "diverging": [
            [
             0,
             "#8e0152"
            ],
            [
             0.1,
             "#c51b7d"
            ],
            [
             0.2,
             "#de77ae"
            ],
            [
             0.3,
             "#f1b6da"
            ],
            [
             0.4,
             "#fde0ef"
            ],
            [
             0.5,
             "#f7f7f7"
            ],
            [
             0.6,
             "#e6f5d0"
            ],
            [
             0.7,
             "#b8e186"
            ],
            [
             0.8,
             "#7fbc41"
            ],
            [
             0.9,
             "#4d9221"
            ],
            [
             1,
             "#276419"
            ]
           ],
           "sequential": [
            [
             0,
             "#0d0887"
            ],
            [
             0.1111111111111111,
             "#46039f"
            ],
            [
             0.2222222222222222,
             "#7201a8"
            ],
            [
             0.3333333333333333,
             "#9c179e"
            ],
            [
             0.4444444444444444,
             "#bd3786"
            ],
            [
             0.5555555555555556,
             "#d8576b"
            ],
            [
             0.6666666666666666,
             "#ed7953"
            ],
            [
             0.7777777777777778,
             "#fb9f3a"
            ],
            [
             0.8888888888888888,
             "#fdca26"
            ],
            [
             1,
             "#f0f921"
            ]
           ],
           "sequentialminus": [
            [
             0,
             "#0d0887"
            ],
            [
             0.1111111111111111,
             "#46039f"
            ],
            [
             0.2222222222222222,
             "#7201a8"
            ],
            [
             0.3333333333333333,
             "#9c179e"
            ],
            [
             0.4444444444444444,
             "#bd3786"
            ],
            [
             0.5555555555555556,
             "#d8576b"
            ],
            [
             0.6666666666666666,
             "#ed7953"
            ],
            [
             0.7777777777777778,
             "#fb9f3a"
            ],
            [
             0.8888888888888888,
             "#fdca26"
            ],
            [
             1,
             "#f0f921"
            ]
           ]
          },
          "colorway": [
           "#636efa",
           "#EF553B",
           "#00cc96",
           "#ab63fa",
           "#FFA15A",
           "#19d3f3",
           "#FF6692",
           "#B6E880",
           "#FF97FF",
           "#FECB52"
          ],
          "font": {
           "color": "#2a3f5f"
          },
          "geo": {
           "bgcolor": "white",
           "lakecolor": "white",
           "landcolor": "#E5ECF6",
           "showlakes": true,
           "showland": true,
           "subunitcolor": "white"
          },
          "hoverlabel": {
           "align": "left"
          },
          "hovermode": "closest",
          "mapbox": {
           "style": "light"
          },
          "paper_bgcolor": "white",
          "plot_bgcolor": "#E5ECF6",
          "polar": {
           "angularaxis": {
            "gridcolor": "white",
            "linecolor": "white",
            "ticks": ""
           },
           "bgcolor": "#E5ECF6",
           "radialaxis": {
            "gridcolor": "white",
            "linecolor": "white",
            "ticks": ""
           }
          },
          "scene": {
           "xaxis": {
            "backgroundcolor": "#E5ECF6",
            "gridcolor": "white",
            "gridwidth": 2,
            "linecolor": "white",
            "showbackground": true,
            "ticks": "",
            "zerolinecolor": "white"
           },
           "yaxis": {
            "backgroundcolor": "#E5ECF6",
            "gridcolor": "white",
            "gridwidth": 2,
            "linecolor": "white",
            "showbackground": true,
            "ticks": "",
            "zerolinecolor": "white"
           },
           "zaxis": {
            "backgroundcolor": "#E5ECF6",
            "gridcolor": "white",
            "gridwidth": 2,
            "linecolor": "white",
            "showbackground": true,
            "ticks": "",
            "zerolinecolor": "white"
           }
          },
          "shapedefaults": {
           "line": {
            "color": "#2a3f5f"
           }
          },
          "ternary": {
           "aaxis": {
            "gridcolor": "white",
            "linecolor": "white",
            "ticks": ""
           },
           "baxis": {
            "gridcolor": "white",
            "linecolor": "white",
            "ticks": ""
           },
           "bgcolor": "#E5ECF6",
           "caxis": {
            "gridcolor": "white",
            "linecolor": "white",
            "ticks": ""
           }
          },
          "title": {
           "x": 0.05
          },
          "xaxis": {
           "automargin": true,
           "gridcolor": "white",
           "linecolor": "white",
           "ticks": "",
           "title": {
            "standoff": 15
           },
           "zerolinecolor": "white",
           "zerolinewidth": 2
          },
          "yaxis": {
           "automargin": true,
           "gridcolor": "white",
           "linecolor": "white",
           "ticks": "",
           "title": {
            "standoff": 15
           },
           "zerolinecolor": "white",
           "zerolinewidth": 2
          }
         }
        },
        "title": {
         "text": "Quarterly Sales"
        },
        "xaxis": {
         "anchor": "y",
         "domain": [
          0,
          1
         ],
         "title": {
          "text": "Date"
         }
        },
        "yaxis": {
         "anchor": "x",
         "domain": [
          0,
          1
         ],
         "title": {
          "text": "Sales (Cr)"
         }
        }
       }
      },
      "text/html": [
       "<div>                            <div id=\"1a59b10d-4fda-45ce-b1a4-f3b63a6eeaab\" class=\"plotly-graph-div\" style=\"height:525px; width:100%;\"></div>            <script type=\"text/javascript\">                require([\"plotly\"], function(Plotly) {                    window.PLOTLYENV=window.PLOTLYENV || {};                                    if (document.getElementById(\"1a59b10d-4fda-45ce-b1a4-f3b63a6eeaab\")) {                    Plotly.newPlot(                        \"1a59b10d-4fda-45ce-b1a4-f3b63a6eeaab\",                        [{\"alignmentgroup\":\"True\",\"hovertemplate\":\"Date=%{x}<br>Sales (Cr)=%{y}<extra></extra>\",\"legendgroup\":\"\",\"marker\":{\"color\":\"#636efa\",\"pattern\":{\"shape\":\"\"}},\"name\":\"\",\"offsetgroup\":\"\",\"orientation\":\"v\",\"showlegend\":false,\"textposition\":\"auto\",\"x\":[\"Dec 2019\",\"Mar 2020\",\"Jun 2020\",\"Sep 2020\",\"Dec 2020\",\"Mar 2021\",\"Jun 2021\",\"Sep 2021\",\"Dec 2021\",\"Mar 2022\",\"Jun 2022\",\"Sep 2022\",\"Dec 2022\"],\"xaxis\":\"x\",\"y\":[407.0,356.0,195.0,417.0,498.0,499.0,393.0,577.0,574.0,559.0,521.0,578.0,581.0],\"yaxis\":\"y\",\"type\":\"bar\"}],                        {\"template\":{\"data\":{\"bar\":[{\"error_x\":{\"color\":\"#2a3f5f\"},\"error_y\":{\"color\":\"#2a3f5f\"},\"marker\":{\"line\":{\"color\":\"#E5ECF6\",\"width\":0.5},\"pattern\":{\"fillmode\":\"overlay\",\"size\":10,\"solidity\":0.2}},\"type\":\"bar\"}],\"barpolar\":[{\"marker\":{\"line\":{\"color\":\"#E5ECF6\",\"width\":0.5},\"pattern\":{\"fillmode\":\"overlay\",\"size\":10,\"solidity\":0.2}},\"type\":\"barpolar\"}],\"carpet\":[{\"aaxis\":{\"endlinecolor\":\"#2a3f5f\",\"gridcolor\":\"white\",\"linecolor\":\"white\",\"minorgridcolor\":\"white\",\"startlinecolor\":\"#2a3f5f\"},\"baxis\":{\"endlinecolor\":\"#2a3f5f\",\"gridcolor\":\"white\",\"linecolor\":\"white\",\"minorgridcolor\":\"white\",\"startlinecolor\":\"#2a3f5f\"},\"type\":\"carpet\"}],\"choropleth\":[{\"colorbar\":{\"outlinewidth\":0,\"ticks\":\"\"},\"type\":\"choropleth\"}],\"contour\":[{\"colorbar\":{\"outlinewidth\":0,\"ticks\":\"\"},\"colorscale\":[[0.0,\"#0d0887\"],[0.1111111111111111,\"#46039f\"],[0.2222222222222222,\"#7201a8\"],[0.3333333333333333,\"#9c179e\"],[0.4444444444444444,\"#bd3786\"],[0.5555555555555556,\"#d8576b\"],[0.6666666666666666,\"#ed7953\"],[0.7777777777777778,\"#fb9f3a\"],[0.8888888888888888,\"#fdca26\"],[1.0,\"#f0f921\"]],\"type\":\"contour\"}],\"contourcarpet\":[{\"colorbar\":{\"outlinewidth\":0,\"ticks\":\"\"},\"type\":\"contourcarpet\"}],\"heatmap\":[{\"colorbar\":{\"outlinewidth\":0,\"ticks\":\"\"},\"colorscale\":[[0.0,\"#0d0887\"],[0.1111111111111111,\"#46039f\"],[0.2222222222222222,\"#7201a8\"],[0.3333333333333333,\"#9c179e\"],[0.4444444444444444,\"#bd3786\"],[0.5555555555555556,\"#d8576b\"],[0.6666666666666666,\"#ed7953\"],[0.7777777777777778,\"#fb9f3a\"],[0.8888888888888888,\"#fdca26\"],[1.0,\"#f0f921\"]],\"type\":\"heatmap\"}],\"heatmapgl\":[{\"colorbar\":{\"outlinewidth\":0,\"ticks\":\"\"},\"colorscale\":[[0.0,\"#0d0887\"],[0.1111111111111111,\"#46039f\"],[0.2222222222222222,\"#7201a8\"],[0.3333333333333333,\"#9c179e\"],[0.4444444444444444,\"#bd3786\"],[0.5555555555555556,\"#d8576b\"],[0.6666666666666666,\"#ed7953\"],[0.7777777777777778,\"#fb9f3a\"],[0.8888888888888888,\"#fdca26\"],[1.0,\"#f0f921\"]],\"type\":\"heatmapgl\"}],\"histogram\":[{\"marker\":{\"pattern\":{\"fillmode\":\"overlay\",\"size\":10,\"solidity\":0.2}},\"type\":\"histogram\"}],\"histogram2d\":[{\"colorbar\":{\"outlinewidth\":0,\"ticks\":\"\"},\"colorscale\":[[0.0,\"#0d0887\"],[0.1111111111111111,\"#46039f\"],[0.2222222222222222,\"#7201a8\"],[0.3333333333333333,\"#9c179e\"],[0.4444444444444444,\"#bd3786\"],[0.5555555555555556,\"#d8576b\"],[0.6666666666666666,\"#ed7953\"],[0.7777777777777778,\"#fb9f3a\"],[0.8888888888888888,\"#fdca26\"],[1.0,\"#f0f921\"]],\"type\":\"histogram2d\"}],\"histogram2dcontour\":[{\"colorbar\":{\"outlinewidth\":0,\"ticks\":\"\"},\"colorscale\":[[0.0,\"#0d0887\"],[0.1111111111111111,\"#46039f\"],[0.2222222222222222,\"#7201a8\"],[0.3333333333333333,\"#9c179e\"],[0.4444444444444444,\"#bd3786\"],[0.5555555555555556,\"#d8576b\"],[0.6666666666666666,\"#ed7953\"],[0.7777777777777778,\"#fb9f3a\"],[0.8888888888888888,\"#fdca26\"],[1.0,\"#f0f921\"]],\"type\":\"histogram2dcontour\"}],\"mesh3d\":[{\"colorbar\":{\"outlinewidth\":0,\"ticks\":\"\"},\"type\":\"mesh3d\"}],\"parcoords\":[{\"line\":{\"colorbar\":{\"outlinewidth\":0,\"ticks\":\"\"}},\"type\":\"parcoords\"}],\"pie\":[{\"automargin\":true,\"type\":\"pie\"}],\"scatter\":[{\"marker\":{\"colorbar\":{\"outlinewidth\":0,\"ticks\":\"\"}},\"type\":\"scatter\"}],\"scatter3d\":[{\"line\":{\"colorbar\":{\"outlinewidth\":0,\"ticks\":\"\"}},\"marker\":{\"colorbar\":{\"outlinewidth\":0,\"ticks\":\"\"}},\"type\":\"scatter3d\"}],\"scattercarpet\":[{\"marker\":{\"colorbar\":{\"outlinewidth\":0,\"ticks\":\"\"}},\"type\":\"scattercarpet\"}],\"scattergeo\":[{\"marker\":{\"colorbar\":{\"outlinewidth\":0,\"ticks\":\"\"}},\"type\":\"scattergeo\"}],\"scattergl\":[{\"marker\":{\"colorbar\":{\"outlinewidth\":0,\"ticks\":\"\"}},\"type\":\"scattergl\"}],\"scattermapbox\":[{\"marker\":{\"colorbar\":{\"outlinewidth\":0,\"ticks\":\"\"}},\"type\":\"scattermapbox\"}],\"scatterpolar\":[{\"marker\":{\"colorbar\":{\"outlinewidth\":0,\"ticks\":\"\"}},\"type\":\"scatterpolar\"}],\"scatterpolargl\":[{\"marker\":{\"colorbar\":{\"outlinewidth\":0,\"ticks\":\"\"}},\"type\":\"scatterpolargl\"}],\"scatterternary\":[{\"marker\":{\"colorbar\":{\"outlinewidth\":0,\"ticks\":\"\"}},\"type\":\"scatterternary\"}],\"surface\":[{\"colorbar\":{\"outlinewidth\":0,\"ticks\":\"\"},\"colorscale\":[[0.0,\"#0d0887\"],[0.1111111111111111,\"#46039f\"],[0.2222222222222222,\"#7201a8\"],[0.3333333333333333,\"#9c179e\"],[0.4444444444444444,\"#bd3786\"],[0.5555555555555556,\"#d8576b\"],[0.6666666666666666,\"#ed7953\"],[0.7777777777777778,\"#fb9f3a\"],[0.8888888888888888,\"#fdca26\"],[1.0,\"#f0f921\"]],\"type\":\"surface\"}],\"table\":[{\"cells\":{\"fill\":{\"color\":\"#EBF0F8\"},\"line\":{\"color\":\"white\"}},\"header\":{\"fill\":{\"color\":\"#C8D4E3\"},\"line\":{\"color\":\"white\"}},\"type\":\"table\"}]},\"layout\":{\"annotationdefaults\":{\"arrowcolor\":\"#2a3f5f\",\"arrowhead\":0,\"arrowwidth\":1},\"autotypenumbers\":\"strict\",\"coloraxis\":{\"colorbar\":{\"outlinewidth\":0,\"ticks\":\"\"}},\"colorscale\":{\"diverging\":[[0,\"#8e0152\"],[0.1,\"#c51b7d\"],[0.2,\"#de77ae\"],[0.3,\"#f1b6da\"],[0.4,\"#fde0ef\"],[0.5,\"#f7f7f7\"],[0.6,\"#e6f5d0\"],[0.7,\"#b8e186\"],[0.8,\"#7fbc41\"],[0.9,\"#4d9221\"],[1,\"#276419\"]],\"sequential\":[[0.0,\"#0d0887\"],[0.1111111111111111,\"#46039f\"],[0.2222222222222222,\"#7201a8\"],[0.3333333333333333,\"#9c179e\"],[0.4444444444444444,\"#bd3786\"],[0.5555555555555556,\"#d8576b\"],[0.6666666666666666,\"#ed7953\"],[0.7777777777777778,\"#fb9f3a\"],[0.8888888888888888,\"#fdca26\"],[1.0,\"#f0f921\"]],\"sequentialminus\":[[0.0,\"#0d0887\"],[0.1111111111111111,\"#46039f\"],[0.2222222222222222,\"#7201a8\"],[0.3333333333333333,\"#9c179e\"],[0.4444444444444444,\"#bd3786\"],[0.5555555555555556,\"#d8576b\"],[0.6666666666666666,\"#ed7953\"],[0.7777777777777778,\"#fb9f3a\"],[0.8888888888888888,\"#fdca26\"],[1.0,\"#f0f921\"]]},\"colorway\":[\"#636efa\",\"#EF553B\",\"#00cc96\",\"#ab63fa\",\"#FFA15A\",\"#19d3f3\",\"#FF6692\",\"#B6E880\",\"#FF97FF\",\"#FECB52\"],\"font\":{\"color\":\"#2a3f5f\"},\"geo\":{\"bgcolor\":\"white\",\"lakecolor\":\"white\",\"landcolor\":\"#E5ECF6\",\"showlakes\":true,\"showland\":true,\"subunitcolor\":\"white\"},\"hoverlabel\":{\"align\":\"left\"},\"hovermode\":\"closest\",\"mapbox\":{\"style\":\"light\"},\"paper_bgcolor\":\"white\",\"plot_bgcolor\":\"#E5ECF6\",\"polar\":{\"angularaxis\":{\"gridcolor\":\"white\",\"linecolor\":\"white\",\"ticks\":\"\"},\"bgcolor\":\"#E5ECF6\",\"radialaxis\":{\"gridcolor\":\"white\",\"linecolor\":\"white\",\"ticks\":\"\"}},\"scene\":{\"xaxis\":{\"backgroundcolor\":\"#E5ECF6\",\"gridcolor\":\"white\",\"gridwidth\":2,\"linecolor\":\"white\",\"showbackground\":true,\"ticks\":\"\",\"zerolinecolor\":\"white\"},\"yaxis\":{\"backgroundcolor\":\"#E5ECF6\",\"gridcolor\":\"white\",\"gridwidth\":2,\"linecolor\":\"white\",\"showbackground\":true,\"ticks\":\"\",\"zerolinecolor\":\"white\"},\"zaxis\":{\"backgroundcolor\":\"#E5ECF6\",\"gridcolor\":\"white\",\"gridwidth\":2,\"linecolor\":\"white\",\"showbackground\":true,\"ticks\":\"\",\"zerolinecolor\":\"white\"}},\"shapedefaults\":{\"line\":{\"color\":\"#2a3f5f\"}},\"ternary\":{\"aaxis\":{\"gridcolor\":\"white\",\"linecolor\":\"white\",\"ticks\":\"\"},\"baxis\":{\"gridcolor\":\"white\",\"linecolor\":\"white\",\"ticks\":\"\"},\"bgcolor\":\"#E5ECF6\",\"caxis\":{\"gridcolor\":\"white\",\"linecolor\":\"white\",\"ticks\":\"\"}},\"title\":{\"x\":0.05},\"xaxis\":{\"automargin\":true,\"gridcolor\":\"white\",\"linecolor\":\"white\",\"ticks\":\"\",\"title\":{\"standoff\":15},\"zerolinecolor\":\"white\",\"zerolinewidth\":2},\"yaxis\":{\"automargin\":true,\"gridcolor\":\"white\",\"linecolor\":\"white\",\"ticks\":\"\",\"title\":{\"standoff\":15},\"zerolinecolor\":\"white\",\"zerolinewidth\":2}}},\"xaxis\":{\"anchor\":\"y\",\"domain\":[0.0,1.0],\"title\":{\"text\":\"Date\"}},\"yaxis\":{\"anchor\":\"x\",\"domain\":[0.0,1.0],\"title\":{\"text\":\"Sales (Cr)\"}},\"legend\":{\"tracegroupgap\":0},\"title\":{\"text\":\"Quarterly Sales\"},\"barmode\":\"relative\"},                        {\"responsive\": true}                    ).then(function(){\n",
       "                            \n",
       "var gd = document.getElementById('1a59b10d-4fda-45ce-b1a4-f3b63a6eeaab');\n",
       "var x = new MutationObserver(function (mutations, observer) {{\n",
       "        var display = window.getComputedStyle(gd).display;\n",
       "        if (!display || display === 'none') {{\n",
       "            console.log([gd, 'removed!']);\n",
       "            Plotly.purge(gd);\n",
       "            observer.disconnect();\n",
       "        }}\n",
       "}});\n",
       "\n",
       "// Listen for the removal of the full notebook cells\n",
       "var notebookContainer = gd.closest('#notebook-container');\n",
       "if (notebookContainer) {{\n",
       "    x.observe(notebookContainer, {childList: true});\n",
       "}}\n",
       "\n",
       "// Listen for the clearing of the current output cell\n",
       "var outputEl = gd.closest('.output');\n",
       "if (outputEl) {{\n",
       "    x.observe(outputEl, {childList: true});\n",
       "}}\n",
       "\n",
       "                        })                };                });            </script>        </div>"
      ]
     },
     "metadata": {},
     "output_type": "display_data"
    }
   ],
   "source": [
    "px.bar(df_qly, x='Date', y='Sales (Cr)', title='Quarterly Sales')"
   ]
  },
  {
   "cell_type": "code",
   "execution_count": 136,
   "id": "ce3a53fc",
   "metadata": {},
   "outputs": [],
   "source": [
    "df_qly['QoQ Growth (%)'] = df_qly['Sales (Cr)'].pct_change() * 100\n",
    "df_qly['YoY Growth (%)'] = df_qly['Sales (Cr)'].pct_change(4) * 100"
   ]
  },
  {
   "cell_type": "code",
   "execution_count": 142,
   "id": "98a61a75",
   "metadata": {},
   "outputs": [
    {
     "data": {
      "application/vnd.plotly.v1+json": {
       "config": {
        "plotlyServerURL": "https://plot.ly"
       },
       "data": [
        {
         "alignmentgroup": "True",
         "hovertemplate": "Date=%{x}<br>QoQ Growth (%)=%{y}<extra></extra>",
         "legendgroup": "",
         "marker": {
          "color": "#636efa",
          "pattern": {
           "shape": ""
          }
         },
         "name": "",
         "offsetgroup": "",
         "orientation": "v",
         "showlegend": false,
         "textposition": "auto",
         "type": "bar",
         "x": [
          "Dec 2019",
          "Mar 2020",
          "Jun 2020",
          "Sep 2020",
          "Dec 2020",
          "Mar 2021",
          "Jun 2021",
          "Sep 2021",
          "Dec 2021",
          "Mar 2022",
          "Jun 2022",
          "Sep 2022",
          "Dec 2022"
         ],
         "xaxis": "x",
         "y": [
          null,
          -12.53071253071253,
          -45.2247191011236,
          113.84615384615384,
          19.424460431654666,
          0.20080321285140812,
          -21.24248496993988,
          46.81933842239185,
          -0.5199306759098743,
          -2.6132404181184676,
          -6.797853309481217,
          10.940499040307095,
          0.519031141868509
         ],
         "yaxis": "y"
        }
       ],
       "layout": {
        "barmode": "relative",
        "legend": {
         "tracegroupgap": 0
        },
        "template": {
         "data": {
          "bar": [
           {
            "error_x": {
             "color": "#2a3f5f"
            },
            "error_y": {
             "color": "#2a3f5f"
            },
            "marker": {
             "line": {
              "color": "#E5ECF6",
              "width": 0.5
             },
             "pattern": {
              "fillmode": "overlay",
              "size": 10,
              "solidity": 0.2
             }
            },
            "type": "bar"
           }
          ],
          "barpolar": [
           {
            "marker": {
             "line": {
              "color": "#E5ECF6",
              "width": 0.5
             },
             "pattern": {
              "fillmode": "overlay",
              "size": 10,
              "solidity": 0.2
             }
            },
            "type": "barpolar"
           }
          ],
          "carpet": [
           {
            "aaxis": {
             "endlinecolor": "#2a3f5f",
             "gridcolor": "white",
             "linecolor": "white",
             "minorgridcolor": "white",
             "startlinecolor": "#2a3f5f"
            },
            "baxis": {
             "endlinecolor": "#2a3f5f",
             "gridcolor": "white",
             "linecolor": "white",
             "minorgridcolor": "white",
             "startlinecolor": "#2a3f5f"
            },
            "type": "carpet"
           }
          ],
          "choropleth": [
           {
            "colorbar": {
             "outlinewidth": 0,
             "ticks": ""
            },
            "type": "choropleth"
           }
          ],
          "contour": [
           {
            "colorbar": {
             "outlinewidth": 0,
             "ticks": ""
            },
            "colorscale": [
             [
              0,
              "#0d0887"
             ],
             [
              0.1111111111111111,
              "#46039f"
             ],
             [
              0.2222222222222222,
              "#7201a8"
             ],
             [
              0.3333333333333333,
              "#9c179e"
             ],
             [
              0.4444444444444444,
              "#bd3786"
             ],
             [
              0.5555555555555556,
              "#d8576b"
             ],
             [
              0.6666666666666666,
              "#ed7953"
             ],
             [
              0.7777777777777778,
              "#fb9f3a"
             ],
             [
              0.8888888888888888,
              "#fdca26"
             ],
             [
              1,
              "#f0f921"
             ]
            ],
            "type": "contour"
           }
          ],
          "contourcarpet": [
           {
            "colorbar": {
             "outlinewidth": 0,
             "ticks": ""
            },
            "type": "contourcarpet"
           }
          ],
          "heatmap": [
           {
            "colorbar": {
             "outlinewidth": 0,
             "ticks": ""
            },
            "colorscale": [
             [
              0,
              "#0d0887"
             ],
             [
              0.1111111111111111,
              "#46039f"
             ],
             [
              0.2222222222222222,
              "#7201a8"
             ],
             [
              0.3333333333333333,
              "#9c179e"
             ],
             [
              0.4444444444444444,
              "#bd3786"
             ],
             [
              0.5555555555555556,
              "#d8576b"
             ],
             [
              0.6666666666666666,
              "#ed7953"
             ],
             [
              0.7777777777777778,
              "#fb9f3a"
             ],
             [
              0.8888888888888888,
              "#fdca26"
             ],
             [
              1,
              "#f0f921"
             ]
            ],
            "type": "heatmap"
           }
          ],
          "heatmapgl": [
           {
            "colorbar": {
             "outlinewidth": 0,
             "ticks": ""
            },
            "colorscale": [
             [
              0,
              "#0d0887"
             ],
             [
              0.1111111111111111,
              "#46039f"
             ],
             [
              0.2222222222222222,
              "#7201a8"
             ],
             [
              0.3333333333333333,
              "#9c179e"
             ],
             [
              0.4444444444444444,
              "#bd3786"
             ],
             [
              0.5555555555555556,
              "#d8576b"
             ],
             [
              0.6666666666666666,
              "#ed7953"
             ],
             [
              0.7777777777777778,
              "#fb9f3a"
             ],
             [
              0.8888888888888888,
              "#fdca26"
             ],
             [
              1,
              "#f0f921"
             ]
            ],
            "type": "heatmapgl"
           }
          ],
          "histogram": [
           {
            "marker": {
             "pattern": {
              "fillmode": "overlay",
              "size": 10,
              "solidity": 0.2
             }
            },
            "type": "histogram"
           }
          ],
          "histogram2d": [
           {
            "colorbar": {
             "outlinewidth": 0,
             "ticks": ""
            },
            "colorscale": [
             [
              0,
              "#0d0887"
             ],
             [
              0.1111111111111111,
              "#46039f"
             ],
             [
              0.2222222222222222,
              "#7201a8"
             ],
             [
              0.3333333333333333,
              "#9c179e"
             ],
             [
              0.4444444444444444,
              "#bd3786"
             ],
             [
              0.5555555555555556,
              "#d8576b"
             ],
             [
              0.6666666666666666,
              "#ed7953"
             ],
             [
              0.7777777777777778,
              "#fb9f3a"
             ],
             [
              0.8888888888888888,
              "#fdca26"
             ],
             [
              1,
              "#f0f921"
             ]
            ],
            "type": "histogram2d"
           }
          ],
          "histogram2dcontour": [
           {
            "colorbar": {
             "outlinewidth": 0,
             "ticks": ""
            },
            "colorscale": [
             [
              0,
              "#0d0887"
             ],
             [
              0.1111111111111111,
              "#46039f"
             ],
             [
              0.2222222222222222,
              "#7201a8"
             ],
             [
              0.3333333333333333,
              "#9c179e"
             ],
             [
              0.4444444444444444,
              "#bd3786"
             ],
             [
              0.5555555555555556,
              "#d8576b"
             ],
             [
              0.6666666666666666,
              "#ed7953"
             ],
             [
              0.7777777777777778,
              "#fb9f3a"
             ],
             [
              0.8888888888888888,
              "#fdca26"
             ],
             [
              1,
              "#f0f921"
             ]
            ],
            "type": "histogram2dcontour"
           }
          ],
          "mesh3d": [
           {
            "colorbar": {
             "outlinewidth": 0,
             "ticks": ""
            },
            "type": "mesh3d"
           }
          ],
          "parcoords": [
           {
            "line": {
             "colorbar": {
              "outlinewidth": 0,
              "ticks": ""
             }
            },
            "type": "parcoords"
           }
          ],
          "pie": [
           {
            "automargin": true,
            "type": "pie"
           }
          ],
          "scatter": [
           {
            "marker": {
             "colorbar": {
              "outlinewidth": 0,
              "ticks": ""
             }
            },
            "type": "scatter"
           }
          ],
          "scatter3d": [
           {
            "line": {
             "colorbar": {
              "outlinewidth": 0,
              "ticks": ""
             }
            },
            "marker": {
             "colorbar": {
              "outlinewidth": 0,
              "ticks": ""
             }
            },
            "type": "scatter3d"
           }
          ],
          "scattercarpet": [
           {
            "marker": {
             "colorbar": {
              "outlinewidth": 0,
              "ticks": ""
             }
            },
            "type": "scattercarpet"
           }
          ],
          "scattergeo": [
           {
            "marker": {
             "colorbar": {
              "outlinewidth": 0,
              "ticks": ""
             }
            },
            "type": "scattergeo"
           }
          ],
          "scattergl": [
           {
            "marker": {
             "colorbar": {
              "outlinewidth": 0,
              "ticks": ""
             }
            },
            "type": "scattergl"
           }
          ],
          "scattermapbox": [
           {
            "marker": {
             "colorbar": {
              "outlinewidth": 0,
              "ticks": ""
             }
            },
            "type": "scattermapbox"
           }
          ],
          "scatterpolar": [
           {
            "marker": {
             "colorbar": {
              "outlinewidth": 0,
              "ticks": ""
             }
            },
            "type": "scatterpolar"
           }
          ],
          "scatterpolargl": [
           {
            "marker": {
             "colorbar": {
              "outlinewidth": 0,
              "ticks": ""
             }
            },
            "type": "scatterpolargl"
           }
          ],
          "scatterternary": [
           {
            "marker": {
             "colorbar": {
              "outlinewidth": 0,
              "ticks": ""
             }
            },
            "type": "scatterternary"
           }
          ],
          "surface": [
           {
            "colorbar": {
             "outlinewidth": 0,
             "ticks": ""
            },
            "colorscale": [
             [
              0,
              "#0d0887"
             ],
             [
              0.1111111111111111,
              "#46039f"
             ],
             [
              0.2222222222222222,
              "#7201a8"
             ],
             [
              0.3333333333333333,
              "#9c179e"
             ],
             [
              0.4444444444444444,
              "#bd3786"
             ],
             [
              0.5555555555555556,
              "#d8576b"
             ],
             [
              0.6666666666666666,
              "#ed7953"
             ],
             [
              0.7777777777777778,
              "#fb9f3a"
             ],
             [
              0.8888888888888888,
              "#fdca26"
             ],
             [
              1,
              "#f0f921"
             ]
            ],
            "type": "surface"
           }
          ],
          "table": [
           {
            "cells": {
             "fill": {
              "color": "#EBF0F8"
             },
             "line": {
              "color": "white"
             }
            },
            "header": {
             "fill": {
              "color": "#C8D4E3"
             },
             "line": {
              "color": "white"
             }
            },
            "type": "table"
           }
          ]
         },
         "layout": {
          "annotationdefaults": {
           "arrowcolor": "#2a3f5f",
           "arrowhead": 0,
           "arrowwidth": 1
          },
          "autotypenumbers": "strict",
          "coloraxis": {
           "colorbar": {
            "outlinewidth": 0,
            "ticks": ""
           }
          },
          "colorscale": {
           "diverging": [
            [
             0,
             "#8e0152"
            ],
            [
             0.1,
             "#c51b7d"
            ],
            [
             0.2,
             "#de77ae"
            ],
            [
             0.3,
             "#f1b6da"
            ],
            [
             0.4,
             "#fde0ef"
            ],
            [
             0.5,
             "#f7f7f7"
            ],
            [
             0.6,
             "#e6f5d0"
            ],
            [
             0.7,
             "#b8e186"
            ],
            [
             0.8,
             "#7fbc41"
            ],
            [
             0.9,
             "#4d9221"
            ],
            [
             1,
             "#276419"
            ]
           ],
           "sequential": [
            [
             0,
             "#0d0887"
            ],
            [
             0.1111111111111111,
             "#46039f"
            ],
            [
             0.2222222222222222,
             "#7201a8"
            ],
            [
             0.3333333333333333,
             "#9c179e"
            ],
            [
             0.4444444444444444,
             "#bd3786"
            ],
            [
             0.5555555555555556,
             "#d8576b"
            ],
            [
             0.6666666666666666,
             "#ed7953"
            ],
            [
             0.7777777777777778,
             "#fb9f3a"
            ],
            [
             0.8888888888888888,
             "#fdca26"
            ],
            [
             1,
             "#f0f921"
            ]
           ],
           "sequentialminus": [
            [
             0,
             "#0d0887"
            ],
            [
             0.1111111111111111,
             "#46039f"
            ],
            [
             0.2222222222222222,
             "#7201a8"
            ],
            [
             0.3333333333333333,
             "#9c179e"
            ],
            [
             0.4444444444444444,
             "#bd3786"
            ],
            [
             0.5555555555555556,
             "#d8576b"
            ],
            [
             0.6666666666666666,
             "#ed7953"
            ],
            [
             0.7777777777777778,
             "#fb9f3a"
            ],
            [
             0.8888888888888888,
             "#fdca26"
            ],
            [
             1,
             "#f0f921"
            ]
           ]
          },
          "colorway": [
           "#636efa",
           "#EF553B",
           "#00cc96",
           "#ab63fa",
           "#FFA15A",
           "#19d3f3",
           "#FF6692",
           "#B6E880",
           "#FF97FF",
           "#FECB52"
          ],
          "font": {
           "color": "#2a3f5f"
          },
          "geo": {
           "bgcolor": "white",
           "lakecolor": "white",
           "landcolor": "#E5ECF6",
           "showlakes": true,
           "showland": true,
           "subunitcolor": "white"
          },
          "hoverlabel": {
           "align": "left"
          },
          "hovermode": "closest",
          "mapbox": {
           "style": "light"
          },
          "paper_bgcolor": "white",
          "plot_bgcolor": "#E5ECF6",
          "polar": {
           "angularaxis": {
            "gridcolor": "white",
            "linecolor": "white",
            "ticks": ""
           },
           "bgcolor": "#E5ECF6",
           "radialaxis": {
            "gridcolor": "white",
            "linecolor": "white",
            "ticks": ""
           }
          },
          "scene": {
           "xaxis": {
            "backgroundcolor": "#E5ECF6",
            "gridcolor": "white",
            "gridwidth": 2,
            "linecolor": "white",
            "showbackground": true,
            "ticks": "",
            "zerolinecolor": "white"
           },
           "yaxis": {
            "backgroundcolor": "#E5ECF6",
            "gridcolor": "white",
            "gridwidth": 2,
            "linecolor": "white",
            "showbackground": true,
            "ticks": "",
            "zerolinecolor": "white"
           },
           "zaxis": {
            "backgroundcolor": "#E5ECF6",
            "gridcolor": "white",
            "gridwidth": 2,
            "linecolor": "white",
            "showbackground": true,
            "ticks": "",
            "zerolinecolor": "white"
           }
          },
          "shapedefaults": {
           "line": {
            "color": "#2a3f5f"
           }
          },
          "ternary": {
           "aaxis": {
            "gridcolor": "white",
            "linecolor": "white",
            "ticks": ""
           },
           "baxis": {
            "gridcolor": "white",
            "linecolor": "white",
            "ticks": ""
           },
           "bgcolor": "#E5ECF6",
           "caxis": {
            "gridcolor": "white",
            "linecolor": "white",
            "ticks": ""
           }
          },
          "title": {
           "x": 0.05
          },
          "xaxis": {
           "automargin": true,
           "gridcolor": "white",
           "linecolor": "white",
           "ticks": "",
           "title": {
            "standoff": 15
           },
           "zerolinecolor": "white",
           "zerolinewidth": 2
          },
          "yaxis": {
           "automargin": true,
           "gridcolor": "white",
           "linecolor": "white",
           "ticks": "",
           "title": {
            "standoff": 15
           },
           "zerolinecolor": "white",
           "zerolinewidth": 2
          }
         }
        },
        "title": {
         "text": "Quarterly Sales (QoQ)"
        },
        "xaxis": {
         "anchor": "y",
         "domain": [
          0,
          1
         ],
         "title": {
          "text": "Date"
         }
        },
        "yaxis": {
         "anchor": "x",
         "domain": [
          0,
          1
         ],
         "title": {
          "text": "QoQ Growth (%)"
         }
        }
       }
      },
      "text/html": [
       "<div>                            <div id=\"028241ed-0ecb-4586-8c86-541053f2ca95\" class=\"plotly-graph-div\" style=\"height:525px; width:100%;\"></div>            <script type=\"text/javascript\">                require([\"plotly\"], function(Plotly) {                    window.PLOTLYENV=window.PLOTLYENV || {};                                    if (document.getElementById(\"028241ed-0ecb-4586-8c86-541053f2ca95\")) {                    Plotly.newPlot(                        \"028241ed-0ecb-4586-8c86-541053f2ca95\",                        [{\"alignmentgroup\":\"True\",\"hovertemplate\":\"Date=%{x}<br>QoQ Growth (%)=%{y}<extra></extra>\",\"legendgroup\":\"\",\"marker\":{\"color\":\"#636efa\",\"pattern\":{\"shape\":\"\"}},\"name\":\"\",\"offsetgroup\":\"\",\"orientation\":\"v\",\"showlegend\":false,\"textposition\":\"auto\",\"x\":[\"Dec 2019\",\"Mar 2020\",\"Jun 2020\",\"Sep 2020\",\"Dec 2020\",\"Mar 2021\",\"Jun 2021\",\"Sep 2021\",\"Dec 2021\",\"Mar 2022\",\"Jun 2022\",\"Sep 2022\",\"Dec 2022\"],\"xaxis\":\"x\",\"y\":[null,-12.53071253071253,-45.2247191011236,113.84615384615384,19.424460431654666,0.20080321285140812,-21.24248496993988,46.81933842239185,-0.5199306759098743,-2.6132404181184676,-6.797853309481217,10.940499040307095,0.519031141868509],\"yaxis\":\"y\",\"type\":\"bar\"}],                        {\"template\":{\"data\":{\"bar\":[{\"error_x\":{\"color\":\"#2a3f5f\"},\"error_y\":{\"color\":\"#2a3f5f\"},\"marker\":{\"line\":{\"color\":\"#E5ECF6\",\"width\":0.5},\"pattern\":{\"fillmode\":\"overlay\",\"size\":10,\"solidity\":0.2}},\"type\":\"bar\"}],\"barpolar\":[{\"marker\":{\"line\":{\"color\":\"#E5ECF6\",\"width\":0.5},\"pattern\":{\"fillmode\":\"overlay\",\"size\":10,\"solidity\":0.2}},\"type\":\"barpolar\"}],\"carpet\":[{\"aaxis\":{\"endlinecolor\":\"#2a3f5f\",\"gridcolor\":\"white\",\"linecolor\":\"white\",\"minorgridcolor\":\"white\",\"startlinecolor\":\"#2a3f5f\"},\"baxis\":{\"endlinecolor\":\"#2a3f5f\",\"gridcolor\":\"white\",\"linecolor\":\"white\",\"minorgridcolor\":\"white\",\"startlinecolor\":\"#2a3f5f\"},\"type\":\"carpet\"}],\"choropleth\":[{\"colorbar\":{\"outlinewidth\":0,\"ticks\":\"\"},\"type\":\"choropleth\"}],\"contour\":[{\"colorbar\":{\"outlinewidth\":0,\"ticks\":\"\"},\"colorscale\":[[0.0,\"#0d0887\"],[0.1111111111111111,\"#46039f\"],[0.2222222222222222,\"#7201a8\"],[0.3333333333333333,\"#9c179e\"],[0.4444444444444444,\"#bd3786\"],[0.5555555555555556,\"#d8576b\"],[0.6666666666666666,\"#ed7953\"],[0.7777777777777778,\"#fb9f3a\"],[0.8888888888888888,\"#fdca26\"],[1.0,\"#f0f921\"]],\"type\":\"contour\"}],\"contourcarpet\":[{\"colorbar\":{\"outlinewidth\":0,\"ticks\":\"\"},\"type\":\"contourcarpet\"}],\"heatmap\":[{\"colorbar\":{\"outlinewidth\":0,\"ticks\":\"\"},\"colorscale\":[[0.0,\"#0d0887\"],[0.1111111111111111,\"#46039f\"],[0.2222222222222222,\"#7201a8\"],[0.3333333333333333,\"#9c179e\"],[0.4444444444444444,\"#bd3786\"],[0.5555555555555556,\"#d8576b\"],[0.6666666666666666,\"#ed7953\"],[0.7777777777777778,\"#fb9f3a\"],[0.8888888888888888,\"#fdca26\"],[1.0,\"#f0f921\"]],\"type\":\"heatmap\"}],\"heatmapgl\":[{\"colorbar\":{\"outlinewidth\":0,\"ticks\":\"\"},\"colorscale\":[[0.0,\"#0d0887\"],[0.1111111111111111,\"#46039f\"],[0.2222222222222222,\"#7201a8\"],[0.3333333333333333,\"#9c179e\"],[0.4444444444444444,\"#bd3786\"],[0.5555555555555556,\"#d8576b\"],[0.6666666666666666,\"#ed7953\"],[0.7777777777777778,\"#fb9f3a\"],[0.8888888888888888,\"#fdca26\"],[1.0,\"#f0f921\"]],\"type\":\"heatmapgl\"}],\"histogram\":[{\"marker\":{\"pattern\":{\"fillmode\":\"overlay\",\"size\":10,\"solidity\":0.2}},\"type\":\"histogram\"}],\"histogram2d\":[{\"colorbar\":{\"outlinewidth\":0,\"ticks\":\"\"},\"colorscale\":[[0.0,\"#0d0887\"],[0.1111111111111111,\"#46039f\"],[0.2222222222222222,\"#7201a8\"],[0.3333333333333333,\"#9c179e\"],[0.4444444444444444,\"#bd3786\"],[0.5555555555555556,\"#d8576b\"],[0.6666666666666666,\"#ed7953\"],[0.7777777777777778,\"#fb9f3a\"],[0.8888888888888888,\"#fdca26\"],[1.0,\"#f0f921\"]],\"type\":\"histogram2d\"}],\"histogram2dcontour\":[{\"colorbar\":{\"outlinewidth\":0,\"ticks\":\"\"},\"colorscale\":[[0.0,\"#0d0887\"],[0.1111111111111111,\"#46039f\"],[0.2222222222222222,\"#7201a8\"],[0.3333333333333333,\"#9c179e\"],[0.4444444444444444,\"#bd3786\"],[0.5555555555555556,\"#d8576b\"],[0.6666666666666666,\"#ed7953\"],[0.7777777777777778,\"#fb9f3a\"],[0.8888888888888888,\"#fdca26\"],[1.0,\"#f0f921\"]],\"type\":\"histogram2dcontour\"}],\"mesh3d\":[{\"colorbar\":{\"outlinewidth\":0,\"ticks\":\"\"},\"type\":\"mesh3d\"}],\"parcoords\":[{\"line\":{\"colorbar\":{\"outlinewidth\":0,\"ticks\":\"\"}},\"type\":\"parcoords\"}],\"pie\":[{\"automargin\":true,\"type\":\"pie\"}],\"scatter\":[{\"marker\":{\"colorbar\":{\"outlinewidth\":0,\"ticks\":\"\"}},\"type\":\"scatter\"}],\"scatter3d\":[{\"line\":{\"colorbar\":{\"outlinewidth\":0,\"ticks\":\"\"}},\"marker\":{\"colorbar\":{\"outlinewidth\":0,\"ticks\":\"\"}},\"type\":\"scatter3d\"}],\"scattercarpet\":[{\"marker\":{\"colorbar\":{\"outlinewidth\":0,\"ticks\":\"\"}},\"type\":\"scattercarpet\"}],\"scattergeo\":[{\"marker\":{\"colorbar\":{\"outlinewidth\":0,\"ticks\":\"\"}},\"type\":\"scattergeo\"}],\"scattergl\":[{\"marker\":{\"colorbar\":{\"outlinewidth\":0,\"ticks\":\"\"}},\"type\":\"scattergl\"}],\"scattermapbox\":[{\"marker\":{\"colorbar\":{\"outlinewidth\":0,\"ticks\":\"\"}},\"type\":\"scattermapbox\"}],\"scatterpolar\":[{\"marker\":{\"colorbar\":{\"outlinewidth\":0,\"ticks\":\"\"}},\"type\":\"scatterpolar\"}],\"scatterpolargl\":[{\"marker\":{\"colorbar\":{\"outlinewidth\":0,\"ticks\":\"\"}},\"type\":\"scatterpolargl\"}],\"scatterternary\":[{\"marker\":{\"colorbar\":{\"outlinewidth\":0,\"ticks\":\"\"}},\"type\":\"scatterternary\"}],\"surface\":[{\"colorbar\":{\"outlinewidth\":0,\"ticks\":\"\"},\"colorscale\":[[0.0,\"#0d0887\"],[0.1111111111111111,\"#46039f\"],[0.2222222222222222,\"#7201a8\"],[0.3333333333333333,\"#9c179e\"],[0.4444444444444444,\"#bd3786\"],[0.5555555555555556,\"#d8576b\"],[0.6666666666666666,\"#ed7953\"],[0.7777777777777778,\"#fb9f3a\"],[0.8888888888888888,\"#fdca26\"],[1.0,\"#f0f921\"]],\"type\":\"surface\"}],\"table\":[{\"cells\":{\"fill\":{\"color\":\"#EBF0F8\"},\"line\":{\"color\":\"white\"}},\"header\":{\"fill\":{\"color\":\"#C8D4E3\"},\"line\":{\"color\":\"white\"}},\"type\":\"table\"}]},\"layout\":{\"annotationdefaults\":{\"arrowcolor\":\"#2a3f5f\",\"arrowhead\":0,\"arrowwidth\":1},\"autotypenumbers\":\"strict\",\"coloraxis\":{\"colorbar\":{\"outlinewidth\":0,\"ticks\":\"\"}},\"colorscale\":{\"diverging\":[[0,\"#8e0152\"],[0.1,\"#c51b7d\"],[0.2,\"#de77ae\"],[0.3,\"#f1b6da\"],[0.4,\"#fde0ef\"],[0.5,\"#f7f7f7\"],[0.6,\"#e6f5d0\"],[0.7,\"#b8e186\"],[0.8,\"#7fbc41\"],[0.9,\"#4d9221\"],[1,\"#276419\"]],\"sequential\":[[0.0,\"#0d0887\"],[0.1111111111111111,\"#46039f\"],[0.2222222222222222,\"#7201a8\"],[0.3333333333333333,\"#9c179e\"],[0.4444444444444444,\"#bd3786\"],[0.5555555555555556,\"#d8576b\"],[0.6666666666666666,\"#ed7953\"],[0.7777777777777778,\"#fb9f3a\"],[0.8888888888888888,\"#fdca26\"],[1.0,\"#f0f921\"]],\"sequentialminus\":[[0.0,\"#0d0887\"],[0.1111111111111111,\"#46039f\"],[0.2222222222222222,\"#7201a8\"],[0.3333333333333333,\"#9c179e\"],[0.4444444444444444,\"#bd3786\"],[0.5555555555555556,\"#d8576b\"],[0.6666666666666666,\"#ed7953\"],[0.7777777777777778,\"#fb9f3a\"],[0.8888888888888888,\"#fdca26\"],[1.0,\"#f0f921\"]]},\"colorway\":[\"#636efa\",\"#EF553B\",\"#00cc96\",\"#ab63fa\",\"#FFA15A\",\"#19d3f3\",\"#FF6692\",\"#B6E880\",\"#FF97FF\",\"#FECB52\"],\"font\":{\"color\":\"#2a3f5f\"},\"geo\":{\"bgcolor\":\"white\",\"lakecolor\":\"white\",\"landcolor\":\"#E5ECF6\",\"showlakes\":true,\"showland\":true,\"subunitcolor\":\"white\"},\"hoverlabel\":{\"align\":\"left\"},\"hovermode\":\"closest\",\"mapbox\":{\"style\":\"light\"},\"paper_bgcolor\":\"white\",\"plot_bgcolor\":\"#E5ECF6\",\"polar\":{\"angularaxis\":{\"gridcolor\":\"white\",\"linecolor\":\"white\",\"ticks\":\"\"},\"bgcolor\":\"#E5ECF6\",\"radialaxis\":{\"gridcolor\":\"white\",\"linecolor\":\"white\",\"ticks\":\"\"}},\"scene\":{\"xaxis\":{\"backgroundcolor\":\"#E5ECF6\",\"gridcolor\":\"white\",\"gridwidth\":2,\"linecolor\":\"white\",\"showbackground\":true,\"ticks\":\"\",\"zerolinecolor\":\"white\"},\"yaxis\":{\"backgroundcolor\":\"#E5ECF6\",\"gridcolor\":\"white\",\"gridwidth\":2,\"linecolor\":\"white\",\"showbackground\":true,\"ticks\":\"\",\"zerolinecolor\":\"white\"},\"zaxis\":{\"backgroundcolor\":\"#E5ECF6\",\"gridcolor\":\"white\",\"gridwidth\":2,\"linecolor\":\"white\",\"showbackground\":true,\"ticks\":\"\",\"zerolinecolor\":\"white\"}},\"shapedefaults\":{\"line\":{\"color\":\"#2a3f5f\"}},\"ternary\":{\"aaxis\":{\"gridcolor\":\"white\",\"linecolor\":\"white\",\"ticks\":\"\"},\"baxis\":{\"gridcolor\":\"white\",\"linecolor\":\"white\",\"ticks\":\"\"},\"bgcolor\":\"#E5ECF6\",\"caxis\":{\"gridcolor\":\"white\",\"linecolor\":\"white\",\"ticks\":\"\"}},\"title\":{\"x\":0.05},\"xaxis\":{\"automargin\":true,\"gridcolor\":\"white\",\"linecolor\":\"white\",\"ticks\":\"\",\"title\":{\"standoff\":15},\"zerolinecolor\":\"white\",\"zerolinewidth\":2},\"yaxis\":{\"automargin\":true,\"gridcolor\":\"white\",\"linecolor\":\"white\",\"ticks\":\"\",\"title\":{\"standoff\":15},\"zerolinecolor\":\"white\",\"zerolinewidth\":2}}},\"xaxis\":{\"anchor\":\"y\",\"domain\":[0.0,1.0],\"title\":{\"text\":\"Date\"}},\"yaxis\":{\"anchor\":\"x\",\"domain\":[0.0,1.0],\"title\":{\"text\":\"QoQ Growth (%)\"}},\"legend\":{\"tracegroupgap\":0},\"title\":{\"text\":\"Quarterly Sales (QoQ)\"},\"barmode\":\"relative\"},                        {\"responsive\": true}                    ).then(function(){\n",
       "                            \n",
       "var gd = document.getElementById('028241ed-0ecb-4586-8c86-541053f2ca95');\n",
       "var x = new MutationObserver(function (mutations, observer) {{\n",
       "        var display = window.getComputedStyle(gd).display;\n",
       "        if (!display || display === 'none') {{\n",
       "            console.log([gd, 'removed!']);\n",
       "            Plotly.purge(gd);\n",
       "            observer.disconnect();\n",
       "        }}\n",
       "}});\n",
       "\n",
       "// Listen for the removal of the full notebook cells\n",
       "var notebookContainer = gd.closest('#notebook-container');\n",
       "if (notebookContainer) {{\n",
       "    x.observe(notebookContainer, {childList: true});\n",
       "}}\n",
       "\n",
       "// Listen for the clearing of the current output cell\n",
       "var outputEl = gd.closest('.output');\n",
       "if (outputEl) {{\n",
       "    x.observe(outputEl, {childList: true});\n",
       "}}\n",
       "\n",
       "                        })                };                });            </script>        </div>"
      ]
     },
     "metadata": {},
     "output_type": "display_data"
    }
   ],
   "source": [
    "px.bar(df_qly, x='Date', y='QoQ Growth (%)', title='Quarterly Sales (QoQ)')"
   ]
  },
  {
   "cell_type": "code",
   "execution_count": 143,
   "id": "489dfae9",
   "metadata": {},
   "outputs": [
    {
     "data": {
      "application/vnd.plotly.v1+json": {
       "config": {
        "plotlyServerURL": "https://plot.ly"
       },
       "data": [
        {
         "alignmentgroup": "True",
         "hovertemplate": "Date=%{x}<br>YoY Growth (%)=%{y}<extra></extra>",
         "legendgroup": "",
         "marker": {
          "color": "#636efa",
          "pattern": {
           "shape": ""
          }
         },
         "name": "",
         "offsetgroup": "",
         "orientation": "v",
         "showlegend": false,
         "textposition": "auto",
         "type": "bar",
         "x": [
          "Dec 2020",
          "Mar 2021",
          "Jun 2021",
          "Sep 2021",
          "Dec 2021",
          "Mar 2022",
          "Jun 2022",
          "Sep 2022",
          "Dec 2022"
         ],
         "xaxis": "x",
         "y": [
          22.35872235872236,
          40.1685393258427,
          101.53846153846153,
          38.36930455635492,
          15.261044176706818,
          12.024048096192374,
          32.56997455470738,
          0.17331022530329143,
          1.2195121951219523
         ],
         "yaxis": "y"
        }
       ],
       "layout": {
        "barmode": "relative",
        "legend": {
         "tracegroupgap": 0
        },
        "template": {
         "data": {
          "bar": [
           {
            "error_x": {
             "color": "#2a3f5f"
            },
            "error_y": {
             "color": "#2a3f5f"
            },
            "marker": {
             "line": {
              "color": "#E5ECF6",
              "width": 0.5
             },
             "pattern": {
              "fillmode": "overlay",
              "size": 10,
              "solidity": 0.2
             }
            },
            "type": "bar"
           }
          ],
          "barpolar": [
           {
            "marker": {
             "line": {
              "color": "#E5ECF6",
              "width": 0.5
             },
             "pattern": {
              "fillmode": "overlay",
              "size": 10,
              "solidity": 0.2
             }
            },
            "type": "barpolar"
           }
          ],
          "carpet": [
           {
            "aaxis": {
             "endlinecolor": "#2a3f5f",
             "gridcolor": "white",
             "linecolor": "white",
             "minorgridcolor": "white",
             "startlinecolor": "#2a3f5f"
            },
            "baxis": {
             "endlinecolor": "#2a3f5f",
             "gridcolor": "white",
             "linecolor": "white",
             "minorgridcolor": "white",
             "startlinecolor": "#2a3f5f"
            },
            "type": "carpet"
           }
          ],
          "choropleth": [
           {
            "colorbar": {
             "outlinewidth": 0,
             "ticks": ""
            },
            "type": "choropleth"
           }
          ],
          "contour": [
           {
            "colorbar": {
             "outlinewidth": 0,
             "ticks": ""
            },
            "colorscale": [
             [
              0,
              "#0d0887"
             ],
             [
              0.1111111111111111,
              "#46039f"
             ],
             [
              0.2222222222222222,
              "#7201a8"
             ],
             [
              0.3333333333333333,
              "#9c179e"
             ],
             [
              0.4444444444444444,
              "#bd3786"
             ],
             [
              0.5555555555555556,
              "#d8576b"
             ],
             [
              0.6666666666666666,
              "#ed7953"
             ],
             [
              0.7777777777777778,
              "#fb9f3a"
             ],
             [
              0.8888888888888888,
              "#fdca26"
             ],
             [
              1,
              "#f0f921"
             ]
            ],
            "type": "contour"
           }
          ],
          "contourcarpet": [
           {
            "colorbar": {
             "outlinewidth": 0,
             "ticks": ""
            },
            "type": "contourcarpet"
           }
          ],
          "heatmap": [
           {
            "colorbar": {
             "outlinewidth": 0,
             "ticks": ""
            },
            "colorscale": [
             [
              0,
              "#0d0887"
             ],
             [
              0.1111111111111111,
              "#46039f"
             ],
             [
              0.2222222222222222,
              "#7201a8"
             ],
             [
              0.3333333333333333,
              "#9c179e"
             ],
             [
              0.4444444444444444,
              "#bd3786"
             ],
             [
              0.5555555555555556,
              "#d8576b"
             ],
             [
              0.6666666666666666,
              "#ed7953"
             ],
             [
              0.7777777777777778,
              "#fb9f3a"
             ],
             [
              0.8888888888888888,
              "#fdca26"
             ],
             [
              1,
              "#f0f921"
             ]
            ],
            "type": "heatmap"
           }
          ],
          "heatmapgl": [
           {
            "colorbar": {
             "outlinewidth": 0,
             "ticks": ""
            },
            "colorscale": [
             [
              0,
              "#0d0887"
             ],
             [
              0.1111111111111111,
              "#46039f"
             ],
             [
              0.2222222222222222,
              "#7201a8"
             ],
             [
              0.3333333333333333,
              "#9c179e"
             ],
             [
              0.4444444444444444,
              "#bd3786"
             ],
             [
              0.5555555555555556,
              "#d8576b"
             ],
             [
              0.6666666666666666,
              "#ed7953"
             ],
             [
              0.7777777777777778,
              "#fb9f3a"
             ],
             [
              0.8888888888888888,
              "#fdca26"
             ],
             [
              1,
              "#f0f921"
             ]
            ],
            "type": "heatmapgl"
           }
          ],
          "histogram": [
           {
            "marker": {
             "pattern": {
              "fillmode": "overlay",
              "size": 10,
              "solidity": 0.2
             }
            },
            "type": "histogram"
           }
          ],
          "histogram2d": [
           {
            "colorbar": {
             "outlinewidth": 0,
             "ticks": ""
            },
            "colorscale": [
             [
              0,
              "#0d0887"
             ],
             [
              0.1111111111111111,
              "#46039f"
             ],
             [
              0.2222222222222222,
              "#7201a8"
             ],
             [
              0.3333333333333333,
              "#9c179e"
             ],
             [
              0.4444444444444444,
              "#bd3786"
             ],
             [
              0.5555555555555556,
              "#d8576b"
             ],
             [
              0.6666666666666666,
              "#ed7953"
             ],
             [
              0.7777777777777778,
              "#fb9f3a"
             ],
             [
              0.8888888888888888,
              "#fdca26"
             ],
             [
              1,
              "#f0f921"
             ]
            ],
            "type": "histogram2d"
           }
          ],
          "histogram2dcontour": [
           {
            "colorbar": {
             "outlinewidth": 0,
             "ticks": ""
            },
            "colorscale": [
             [
              0,
              "#0d0887"
             ],
             [
              0.1111111111111111,
              "#46039f"
             ],
             [
              0.2222222222222222,
              "#7201a8"
             ],
             [
              0.3333333333333333,
              "#9c179e"
             ],
             [
              0.4444444444444444,
              "#bd3786"
             ],
             [
              0.5555555555555556,
              "#d8576b"
             ],
             [
              0.6666666666666666,
              "#ed7953"
             ],
             [
              0.7777777777777778,
              "#fb9f3a"
             ],
             [
              0.8888888888888888,
              "#fdca26"
             ],
             [
              1,
              "#f0f921"
             ]
            ],
            "type": "histogram2dcontour"
           }
          ],
          "mesh3d": [
           {
            "colorbar": {
             "outlinewidth": 0,
             "ticks": ""
            },
            "type": "mesh3d"
           }
          ],
          "parcoords": [
           {
            "line": {
             "colorbar": {
              "outlinewidth": 0,
              "ticks": ""
             }
            },
            "type": "parcoords"
           }
          ],
          "pie": [
           {
            "automargin": true,
            "type": "pie"
           }
          ],
          "scatter": [
           {
            "marker": {
             "colorbar": {
              "outlinewidth": 0,
              "ticks": ""
             }
            },
            "type": "scatter"
           }
          ],
          "scatter3d": [
           {
            "line": {
             "colorbar": {
              "outlinewidth": 0,
              "ticks": ""
             }
            },
            "marker": {
             "colorbar": {
              "outlinewidth": 0,
              "ticks": ""
             }
            },
            "type": "scatter3d"
           }
          ],
          "scattercarpet": [
           {
            "marker": {
             "colorbar": {
              "outlinewidth": 0,
              "ticks": ""
             }
            },
            "type": "scattercarpet"
           }
          ],
          "scattergeo": [
           {
            "marker": {
             "colorbar": {
              "outlinewidth": 0,
              "ticks": ""
             }
            },
            "type": "scattergeo"
           }
          ],
          "scattergl": [
           {
            "marker": {
             "colorbar": {
              "outlinewidth": 0,
              "ticks": ""
             }
            },
            "type": "scattergl"
           }
          ],
          "scattermapbox": [
           {
            "marker": {
             "colorbar": {
              "outlinewidth": 0,
              "ticks": ""
             }
            },
            "type": "scattermapbox"
           }
          ],
          "scatterpolar": [
           {
            "marker": {
             "colorbar": {
              "outlinewidth": 0,
              "ticks": ""
             }
            },
            "type": "scatterpolar"
           }
          ],
          "scatterpolargl": [
           {
            "marker": {
             "colorbar": {
              "outlinewidth": 0,
              "ticks": ""
             }
            },
            "type": "scatterpolargl"
           }
          ],
          "scatterternary": [
           {
            "marker": {
             "colorbar": {
              "outlinewidth": 0,
              "ticks": ""
             }
            },
            "type": "scatterternary"
           }
          ],
          "surface": [
           {
            "colorbar": {
             "outlinewidth": 0,
             "ticks": ""
            },
            "colorscale": [
             [
              0,
              "#0d0887"
             ],
             [
              0.1111111111111111,
              "#46039f"
             ],
             [
              0.2222222222222222,
              "#7201a8"
             ],
             [
              0.3333333333333333,
              "#9c179e"
             ],
             [
              0.4444444444444444,
              "#bd3786"
             ],
             [
              0.5555555555555556,
              "#d8576b"
             ],
             [
              0.6666666666666666,
              "#ed7953"
             ],
             [
              0.7777777777777778,
              "#fb9f3a"
             ],
             [
              0.8888888888888888,
              "#fdca26"
             ],
             [
              1,
              "#f0f921"
             ]
            ],
            "type": "surface"
           }
          ],
          "table": [
           {
            "cells": {
             "fill": {
              "color": "#EBF0F8"
             },
             "line": {
              "color": "white"
             }
            },
            "header": {
             "fill": {
              "color": "#C8D4E3"
             },
             "line": {
              "color": "white"
             }
            },
            "type": "table"
           }
          ]
         },
         "layout": {
          "annotationdefaults": {
           "arrowcolor": "#2a3f5f",
           "arrowhead": 0,
           "arrowwidth": 1
          },
          "autotypenumbers": "strict",
          "coloraxis": {
           "colorbar": {
            "outlinewidth": 0,
            "ticks": ""
           }
          },
          "colorscale": {
           "diverging": [
            [
             0,
             "#8e0152"
            ],
            [
             0.1,
             "#c51b7d"
            ],
            [
             0.2,
             "#de77ae"
            ],
            [
             0.3,
             "#f1b6da"
            ],
            [
             0.4,
             "#fde0ef"
            ],
            [
             0.5,
             "#f7f7f7"
            ],
            [
             0.6,
             "#e6f5d0"
            ],
            [
             0.7,
             "#b8e186"
            ],
            [
             0.8,
             "#7fbc41"
            ],
            [
             0.9,
             "#4d9221"
            ],
            [
             1,
             "#276419"
            ]
           ],
           "sequential": [
            [
             0,
             "#0d0887"
            ],
            [
             0.1111111111111111,
             "#46039f"
            ],
            [
             0.2222222222222222,
             "#7201a8"
            ],
            [
             0.3333333333333333,
             "#9c179e"
            ],
            [
             0.4444444444444444,
             "#bd3786"
            ],
            [
             0.5555555555555556,
             "#d8576b"
            ],
            [
             0.6666666666666666,
             "#ed7953"
            ],
            [
             0.7777777777777778,
             "#fb9f3a"
            ],
            [
             0.8888888888888888,
             "#fdca26"
            ],
            [
             1,
             "#f0f921"
            ]
           ],
           "sequentialminus": [
            [
             0,
             "#0d0887"
            ],
            [
             0.1111111111111111,
             "#46039f"
            ],
            [
             0.2222222222222222,
             "#7201a8"
            ],
            [
             0.3333333333333333,
             "#9c179e"
            ],
            [
             0.4444444444444444,
             "#bd3786"
            ],
            [
             0.5555555555555556,
             "#d8576b"
            ],
            [
             0.6666666666666666,
             "#ed7953"
            ],
            [
             0.7777777777777778,
             "#fb9f3a"
            ],
            [
             0.8888888888888888,
             "#fdca26"
            ],
            [
             1,
             "#f0f921"
            ]
           ]
          },
          "colorway": [
           "#636efa",
           "#EF553B",
           "#00cc96",
           "#ab63fa",
           "#FFA15A",
           "#19d3f3",
           "#FF6692",
           "#B6E880",
           "#FF97FF",
           "#FECB52"
          ],
          "font": {
           "color": "#2a3f5f"
          },
          "geo": {
           "bgcolor": "white",
           "lakecolor": "white",
           "landcolor": "#E5ECF6",
           "showlakes": true,
           "showland": true,
           "subunitcolor": "white"
          },
          "hoverlabel": {
           "align": "left"
          },
          "hovermode": "closest",
          "mapbox": {
           "style": "light"
          },
          "paper_bgcolor": "white",
          "plot_bgcolor": "#E5ECF6",
          "polar": {
           "angularaxis": {
            "gridcolor": "white",
            "linecolor": "white",
            "ticks": ""
           },
           "bgcolor": "#E5ECF6",
           "radialaxis": {
            "gridcolor": "white",
            "linecolor": "white",
            "ticks": ""
           }
          },
          "scene": {
           "xaxis": {
            "backgroundcolor": "#E5ECF6",
            "gridcolor": "white",
            "gridwidth": 2,
            "linecolor": "white",
            "showbackground": true,
            "ticks": "",
            "zerolinecolor": "white"
           },
           "yaxis": {
            "backgroundcolor": "#E5ECF6",
            "gridcolor": "white",
            "gridwidth": 2,
            "linecolor": "white",
            "showbackground": true,
            "ticks": "",
            "zerolinecolor": "white"
           },
           "zaxis": {
            "backgroundcolor": "#E5ECF6",
            "gridcolor": "white",
            "gridwidth": 2,
            "linecolor": "white",
            "showbackground": true,
            "ticks": "",
            "zerolinecolor": "white"
           }
          },
          "shapedefaults": {
           "line": {
            "color": "#2a3f5f"
           }
          },
          "ternary": {
           "aaxis": {
            "gridcolor": "white",
            "linecolor": "white",
            "ticks": ""
           },
           "baxis": {
            "gridcolor": "white",
            "linecolor": "white",
            "ticks": ""
           },
           "bgcolor": "#E5ECF6",
           "caxis": {
            "gridcolor": "white",
            "linecolor": "white",
            "ticks": ""
           }
          },
          "title": {
           "x": 0.05
          },
          "xaxis": {
           "automargin": true,
           "gridcolor": "white",
           "linecolor": "white",
           "ticks": "",
           "title": {
            "standoff": 15
           },
           "zerolinecolor": "white",
           "zerolinewidth": 2
          },
          "yaxis": {
           "automargin": true,
           "gridcolor": "white",
           "linecolor": "white",
           "ticks": "",
           "title": {
            "standoff": 15
           },
           "zerolinecolor": "white",
           "zerolinewidth": 2
          }
         }
        },
        "title": {
         "text": "Quarterly Sales (YoY)"
        },
        "xaxis": {
         "anchor": "y",
         "domain": [
          0,
          1
         ],
         "title": {
          "text": "Date"
         }
        },
        "yaxis": {
         "anchor": "x",
         "domain": [
          0,
          1
         ],
         "title": {
          "text": "YoY Growth (%)"
         }
        }
       }
      },
      "text/html": [
       "<div>                            <div id=\"a45fd05b-8b88-455b-9c1d-7c8ee6411451\" class=\"plotly-graph-div\" style=\"height:525px; width:100%;\"></div>            <script type=\"text/javascript\">                require([\"plotly\"], function(Plotly) {                    window.PLOTLYENV=window.PLOTLYENV || {};                                    if (document.getElementById(\"a45fd05b-8b88-455b-9c1d-7c8ee6411451\")) {                    Plotly.newPlot(                        \"a45fd05b-8b88-455b-9c1d-7c8ee6411451\",                        [{\"alignmentgroup\":\"True\",\"hovertemplate\":\"Date=%{x}<br>YoY Growth (%)=%{y}<extra></extra>\",\"legendgroup\":\"\",\"marker\":{\"color\":\"#636efa\",\"pattern\":{\"shape\":\"\"}},\"name\":\"\",\"offsetgroup\":\"\",\"orientation\":\"v\",\"showlegend\":false,\"textposition\":\"auto\",\"x\":[\"Dec 2020\",\"Mar 2021\",\"Jun 2021\",\"Sep 2021\",\"Dec 2021\",\"Mar 2022\",\"Jun 2022\",\"Sep 2022\",\"Dec 2022\"],\"xaxis\":\"x\",\"y\":[22.35872235872236,40.1685393258427,101.53846153846153,38.36930455635492,15.261044176706818,12.024048096192374,32.56997455470738,0.17331022530329143,1.2195121951219523],\"yaxis\":\"y\",\"type\":\"bar\"}],                        {\"template\":{\"data\":{\"bar\":[{\"error_x\":{\"color\":\"#2a3f5f\"},\"error_y\":{\"color\":\"#2a3f5f\"},\"marker\":{\"line\":{\"color\":\"#E5ECF6\",\"width\":0.5},\"pattern\":{\"fillmode\":\"overlay\",\"size\":10,\"solidity\":0.2}},\"type\":\"bar\"}],\"barpolar\":[{\"marker\":{\"line\":{\"color\":\"#E5ECF6\",\"width\":0.5},\"pattern\":{\"fillmode\":\"overlay\",\"size\":10,\"solidity\":0.2}},\"type\":\"barpolar\"}],\"carpet\":[{\"aaxis\":{\"endlinecolor\":\"#2a3f5f\",\"gridcolor\":\"white\",\"linecolor\":\"white\",\"minorgridcolor\":\"white\",\"startlinecolor\":\"#2a3f5f\"},\"baxis\":{\"endlinecolor\":\"#2a3f5f\",\"gridcolor\":\"white\",\"linecolor\":\"white\",\"minorgridcolor\":\"white\",\"startlinecolor\":\"#2a3f5f\"},\"type\":\"carpet\"}],\"choropleth\":[{\"colorbar\":{\"outlinewidth\":0,\"ticks\":\"\"},\"type\":\"choropleth\"}],\"contour\":[{\"colorbar\":{\"outlinewidth\":0,\"ticks\":\"\"},\"colorscale\":[[0.0,\"#0d0887\"],[0.1111111111111111,\"#46039f\"],[0.2222222222222222,\"#7201a8\"],[0.3333333333333333,\"#9c179e\"],[0.4444444444444444,\"#bd3786\"],[0.5555555555555556,\"#d8576b\"],[0.6666666666666666,\"#ed7953\"],[0.7777777777777778,\"#fb9f3a\"],[0.8888888888888888,\"#fdca26\"],[1.0,\"#f0f921\"]],\"type\":\"contour\"}],\"contourcarpet\":[{\"colorbar\":{\"outlinewidth\":0,\"ticks\":\"\"},\"type\":\"contourcarpet\"}],\"heatmap\":[{\"colorbar\":{\"outlinewidth\":0,\"ticks\":\"\"},\"colorscale\":[[0.0,\"#0d0887\"],[0.1111111111111111,\"#46039f\"],[0.2222222222222222,\"#7201a8\"],[0.3333333333333333,\"#9c179e\"],[0.4444444444444444,\"#bd3786\"],[0.5555555555555556,\"#d8576b\"],[0.6666666666666666,\"#ed7953\"],[0.7777777777777778,\"#fb9f3a\"],[0.8888888888888888,\"#fdca26\"],[1.0,\"#f0f921\"]],\"type\":\"heatmap\"}],\"heatmapgl\":[{\"colorbar\":{\"outlinewidth\":0,\"ticks\":\"\"},\"colorscale\":[[0.0,\"#0d0887\"],[0.1111111111111111,\"#46039f\"],[0.2222222222222222,\"#7201a8\"],[0.3333333333333333,\"#9c179e\"],[0.4444444444444444,\"#bd3786\"],[0.5555555555555556,\"#d8576b\"],[0.6666666666666666,\"#ed7953\"],[0.7777777777777778,\"#fb9f3a\"],[0.8888888888888888,\"#fdca26\"],[1.0,\"#f0f921\"]],\"type\":\"heatmapgl\"}],\"histogram\":[{\"marker\":{\"pattern\":{\"fillmode\":\"overlay\",\"size\":10,\"solidity\":0.2}},\"type\":\"histogram\"}],\"histogram2d\":[{\"colorbar\":{\"outlinewidth\":0,\"ticks\":\"\"},\"colorscale\":[[0.0,\"#0d0887\"],[0.1111111111111111,\"#46039f\"],[0.2222222222222222,\"#7201a8\"],[0.3333333333333333,\"#9c179e\"],[0.4444444444444444,\"#bd3786\"],[0.5555555555555556,\"#d8576b\"],[0.6666666666666666,\"#ed7953\"],[0.7777777777777778,\"#fb9f3a\"],[0.8888888888888888,\"#fdca26\"],[1.0,\"#f0f921\"]],\"type\":\"histogram2d\"}],\"histogram2dcontour\":[{\"colorbar\":{\"outlinewidth\":0,\"ticks\":\"\"},\"colorscale\":[[0.0,\"#0d0887\"],[0.1111111111111111,\"#46039f\"],[0.2222222222222222,\"#7201a8\"],[0.3333333333333333,\"#9c179e\"],[0.4444444444444444,\"#bd3786\"],[0.5555555555555556,\"#d8576b\"],[0.6666666666666666,\"#ed7953\"],[0.7777777777777778,\"#fb9f3a\"],[0.8888888888888888,\"#fdca26\"],[1.0,\"#f0f921\"]],\"type\":\"histogram2dcontour\"}],\"mesh3d\":[{\"colorbar\":{\"outlinewidth\":0,\"ticks\":\"\"},\"type\":\"mesh3d\"}],\"parcoords\":[{\"line\":{\"colorbar\":{\"outlinewidth\":0,\"ticks\":\"\"}},\"type\":\"parcoords\"}],\"pie\":[{\"automargin\":true,\"type\":\"pie\"}],\"scatter\":[{\"marker\":{\"colorbar\":{\"outlinewidth\":0,\"ticks\":\"\"}},\"type\":\"scatter\"}],\"scatter3d\":[{\"line\":{\"colorbar\":{\"outlinewidth\":0,\"ticks\":\"\"}},\"marker\":{\"colorbar\":{\"outlinewidth\":0,\"ticks\":\"\"}},\"type\":\"scatter3d\"}],\"scattercarpet\":[{\"marker\":{\"colorbar\":{\"outlinewidth\":0,\"ticks\":\"\"}},\"type\":\"scattercarpet\"}],\"scattergeo\":[{\"marker\":{\"colorbar\":{\"outlinewidth\":0,\"ticks\":\"\"}},\"type\":\"scattergeo\"}],\"scattergl\":[{\"marker\":{\"colorbar\":{\"outlinewidth\":0,\"ticks\":\"\"}},\"type\":\"scattergl\"}],\"scattermapbox\":[{\"marker\":{\"colorbar\":{\"outlinewidth\":0,\"ticks\":\"\"}},\"type\":\"scattermapbox\"}],\"scatterpolar\":[{\"marker\":{\"colorbar\":{\"outlinewidth\":0,\"ticks\":\"\"}},\"type\":\"scatterpolar\"}],\"scatterpolargl\":[{\"marker\":{\"colorbar\":{\"outlinewidth\":0,\"ticks\":\"\"}},\"type\":\"scatterpolargl\"}],\"scatterternary\":[{\"marker\":{\"colorbar\":{\"outlinewidth\":0,\"ticks\":\"\"}},\"type\":\"scatterternary\"}],\"surface\":[{\"colorbar\":{\"outlinewidth\":0,\"ticks\":\"\"},\"colorscale\":[[0.0,\"#0d0887\"],[0.1111111111111111,\"#46039f\"],[0.2222222222222222,\"#7201a8\"],[0.3333333333333333,\"#9c179e\"],[0.4444444444444444,\"#bd3786\"],[0.5555555555555556,\"#d8576b\"],[0.6666666666666666,\"#ed7953\"],[0.7777777777777778,\"#fb9f3a\"],[0.8888888888888888,\"#fdca26\"],[1.0,\"#f0f921\"]],\"type\":\"surface\"}],\"table\":[{\"cells\":{\"fill\":{\"color\":\"#EBF0F8\"},\"line\":{\"color\":\"white\"}},\"header\":{\"fill\":{\"color\":\"#C8D4E3\"},\"line\":{\"color\":\"white\"}},\"type\":\"table\"}]},\"layout\":{\"annotationdefaults\":{\"arrowcolor\":\"#2a3f5f\",\"arrowhead\":0,\"arrowwidth\":1},\"autotypenumbers\":\"strict\",\"coloraxis\":{\"colorbar\":{\"outlinewidth\":0,\"ticks\":\"\"}},\"colorscale\":{\"diverging\":[[0,\"#8e0152\"],[0.1,\"#c51b7d\"],[0.2,\"#de77ae\"],[0.3,\"#f1b6da\"],[0.4,\"#fde0ef\"],[0.5,\"#f7f7f7\"],[0.6,\"#e6f5d0\"],[0.7,\"#b8e186\"],[0.8,\"#7fbc41\"],[0.9,\"#4d9221\"],[1,\"#276419\"]],\"sequential\":[[0.0,\"#0d0887\"],[0.1111111111111111,\"#46039f\"],[0.2222222222222222,\"#7201a8\"],[0.3333333333333333,\"#9c179e\"],[0.4444444444444444,\"#bd3786\"],[0.5555555555555556,\"#d8576b\"],[0.6666666666666666,\"#ed7953\"],[0.7777777777777778,\"#fb9f3a\"],[0.8888888888888888,\"#fdca26\"],[1.0,\"#f0f921\"]],\"sequentialminus\":[[0.0,\"#0d0887\"],[0.1111111111111111,\"#46039f\"],[0.2222222222222222,\"#7201a8\"],[0.3333333333333333,\"#9c179e\"],[0.4444444444444444,\"#bd3786\"],[0.5555555555555556,\"#d8576b\"],[0.6666666666666666,\"#ed7953\"],[0.7777777777777778,\"#fb9f3a\"],[0.8888888888888888,\"#fdca26\"],[1.0,\"#f0f921\"]]},\"colorway\":[\"#636efa\",\"#EF553B\",\"#00cc96\",\"#ab63fa\",\"#FFA15A\",\"#19d3f3\",\"#FF6692\",\"#B6E880\",\"#FF97FF\",\"#FECB52\"],\"font\":{\"color\":\"#2a3f5f\"},\"geo\":{\"bgcolor\":\"white\",\"lakecolor\":\"white\",\"landcolor\":\"#E5ECF6\",\"showlakes\":true,\"showland\":true,\"subunitcolor\":\"white\"},\"hoverlabel\":{\"align\":\"left\"},\"hovermode\":\"closest\",\"mapbox\":{\"style\":\"light\"},\"paper_bgcolor\":\"white\",\"plot_bgcolor\":\"#E5ECF6\",\"polar\":{\"angularaxis\":{\"gridcolor\":\"white\",\"linecolor\":\"white\",\"ticks\":\"\"},\"bgcolor\":\"#E5ECF6\",\"radialaxis\":{\"gridcolor\":\"white\",\"linecolor\":\"white\",\"ticks\":\"\"}},\"scene\":{\"xaxis\":{\"backgroundcolor\":\"#E5ECF6\",\"gridcolor\":\"white\",\"gridwidth\":2,\"linecolor\":\"white\",\"showbackground\":true,\"ticks\":\"\",\"zerolinecolor\":\"white\"},\"yaxis\":{\"backgroundcolor\":\"#E5ECF6\",\"gridcolor\":\"white\",\"gridwidth\":2,\"linecolor\":\"white\",\"showbackground\":true,\"ticks\":\"\",\"zerolinecolor\":\"white\"},\"zaxis\":{\"backgroundcolor\":\"#E5ECF6\",\"gridcolor\":\"white\",\"gridwidth\":2,\"linecolor\":\"white\",\"showbackground\":true,\"ticks\":\"\",\"zerolinecolor\":\"white\"}},\"shapedefaults\":{\"line\":{\"color\":\"#2a3f5f\"}},\"ternary\":{\"aaxis\":{\"gridcolor\":\"white\",\"linecolor\":\"white\",\"ticks\":\"\"},\"baxis\":{\"gridcolor\":\"white\",\"linecolor\":\"white\",\"ticks\":\"\"},\"bgcolor\":\"#E5ECF6\",\"caxis\":{\"gridcolor\":\"white\",\"linecolor\":\"white\",\"ticks\":\"\"}},\"title\":{\"x\":0.05},\"xaxis\":{\"automargin\":true,\"gridcolor\":\"white\",\"linecolor\":\"white\",\"ticks\":\"\",\"title\":{\"standoff\":15},\"zerolinecolor\":\"white\",\"zerolinewidth\":2},\"yaxis\":{\"automargin\":true,\"gridcolor\":\"white\",\"linecolor\":\"white\",\"ticks\":\"\",\"title\":{\"standoff\":15},\"zerolinecolor\":\"white\",\"zerolinewidth\":2}}},\"xaxis\":{\"anchor\":\"y\",\"domain\":[0.0,1.0],\"title\":{\"text\":\"Date\"}},\"yaxis\":{\"anchor\":\"x\",\"domain\":[0.0,1.0],\"title\":{\"text\":\"YoY Growth (%)\"}},\"legend\":{\"tracegroupgap\":0},\"title\":{\"text\":\"Quarterly Sales (YoY)\"},\"barmode\":\"relative\"},                        {\"responsive\": true}                    ).then(function(){\n",
       "                            \n",
       "var gd = document.getElementById('a45fd05b-8b88-455b-9c1d-7c8ee6411451');\n",
       "var x = new MutationObserver(function (mutations, observer) {{\n",
       "        var display = window.getComputedStyle(gd).display;\n",
       "        if (!display || display === 'none') {{\n",
       "            console.log([gd, 'removed!']);\n",
       "            Plotly.purge(gd);\n",
       "            observer.disconnect();\n",
       "        }}\n",
       "}});\n",
       "\n",
       "// Listen for the removal of the full notebook cells\n",
       "var notebookContainer = gd.closest('#notebook-container');\n",
       "if (notebookContainer) {{\n",
       "    x.observe(notebookContainer, {childList: true});\n",
       "}}\n",
       "\n",
       "// Listen for the clearing of the current output cell\n",
       "var outputEl = gd.closest('.output');\n",
       "if (outputEl) {{\n",
       "    x.observe(outputEl, {childList: true});\n",
       "}}\n",
       "\n",
       "                        })                };                });            </script>        </div>"
      ]
     },
     "metadata": {},
     "output_type": "display_data"
    }
   ],
   "source": [
    "px.bar(df_qly.dropna(), x='Date', y='YoY Growth (%)', title='Quarterly Sales (YoY)')"
   ]
  },
  {
   "cell_type": "code",
   "execution_count": 3,
   "id": "718fc00c",
   "metadata": {},
   "outputs": [
    {
     "name": "stdout",
     "output_type": "stream",
     "text": [
      "Help on function download in module yfinance.multi:\n",
      "\n",
      "download(tickers, start=None, end=None, actions=False, threads=True, group_by='column', auto_adjust=False, back_adjust=False, progress=True, period='max', show_errors=True, interval='1d', prepost=False, proxy=None, rounding=False, timeout=None, **kwargs)\n",
      "    Download yahoo tickers\n",
      "    :Parameters:\n",
      "        tickers : str, list\n",
      "            List of tickers to download\n",
      "        period : str\n",
      "            Valid periods: 1d,5d,1mo,3mo,6mo,1y,2y,5y,10y,ytd,max\n",
      "            Either Use period parameter or use start and end\n",
      "        interval : str\n",
      "            Valid intervals: 1m,2m,5m,15m,30m,60m,90m,1h,1d,5d,1wk,1mo,3mo\n",
      "            Intraday data cannot extend last 60 days\n",
      "        start: str\n",
      "            Download start date string (YYYY-MM-DD) or _datetime.\n",
      "            Default is 1900-01-01\n",
      "        end: str\n",
      "            Download end date string (YYYY-MM-DD) or _datetime.\n",
      "            Default is now\n",
      "        group_by : str\n",
      "            Group by 'ticker' or 'column' (default)\n",
      "        prepost : bool\n",
      "            Include Pre and Post market data in results?\n",
      "            Default is False\n",
      "        auto_adjust: bool\n",
      "            Adjust all OHLC automatically? Default is False\n",
      "        actions: bool\n",
      "            Download dividend + stock splits data. Default is False\n",
      "        threads: bool / int\n",
      "            How many threads to use for mass downloading. Default is True\n",
      "        proxy: str\n",
      "            Optional. Proxy server URL scheme. Default is None\n",
      "        rounding: bool\n",
      "            Optional. Round values to 2 decimal places?\n",
      "        show_errors: bool\n",
      "            Optional. Doesn't print errors if True\n",
      "        timeout: None or float\n",
      "            If not None stops waiting for a response after given number of\n",
      "            seconds. (Can also be a fraction of a second e.g. 0.01)\n",
      "\n"
     ]
    }
   ],
   "source": [
    "help(yf.download)"
   ]
  },
  {
   "cell_type": "code",
   "execution_count": 4,
   "id": "8d048e0e",
   "metadata": {},
   "outputs": [],
   "source": [
    "infy = yf.Ticker('INFY.NS')"
   ]
  },
  {
   "cell_type": "code",
   "execution_count": 4,
   "id": "229d1ece",
   "metadata": {},
   "outputs": [],
   "source": [
    "msft = yf.Ticker('MSFT')"
   ]
  },
  {
   "cell_type": "code",
   "execution_count": 11,
   "id": "fab7e53b",
   "metadata": {},
   "outputs": [
    {
     "data": {
      "text/html": [
       "<div>\n",
       "<style scoped>\n",
       "    .dataframe tbody tr th:only-of-type {\n",
       "        vertical-align: middle;\n",
       "    }\n",
       "\n",
       "    .dataframe tbody tr th {\n",
       "        vertical-align: top;\n",
       "    }\n",
       "\n",
       "    .dataframe thead th {\n",
       "        text-align: right;\n",
       "    }\n",
       "</style>\n",
       "<table border=\"1\" class=\"dataframe\">\n",
       "  <thead>\n",
       "    <tr style=\"text-align: right;\">\n",
       "      <th></th>\n",
       "      <th>Dividends</th>\n",
       "      <th>Stock Splits</th>\n",
       "    </tr>\n",
       "    <tr>\n",
       "      <th>Date</th>\n",
       "      <th></th>\n",
       "      <th></th>\n",
       "    </tr>\n",
       "  </thead>\n",
       "  <tbody>\n",
       "    <tr>\n",
       "      <th>1996-04-30</th>\n",
       "      <td>0.006836</td>\n",
       "      <td>0.0</td>\n",
       "    </tr>\n",
       "    <tr>\n",
       "      <th>1996-10-28</th>\n",
       "      <td>0.002930</td>\n",
       "      <td>0.0</td>\n",
       "    </tr>\n",
       "    <tr>\n",
       "      <th>1997-05-23</th>\n",
       "      <td>0.007813</td>\n",
       "      <td>0.0</td>\n",
       "    </tr>\n",
       "    <tr>\n",
       "      <th>1997-08-19</th>\n",
       "      <td>0.000000</td>\n",
       "      <td>2.0</td>\n",
       "    </tr>\n",
       "    <tr>\n",
       "      <th>1997-12-17</th>\n",
       "      <td>0.005859</td>\n",
       "      <td>0.0</td>\n",
       "    </tr>\n",
       "    <tr>\n",
       "      <th>...</th>\n",
       "      <td>...</td>\n",
       "      <td>...</td>\n",
       "    </tr>\n",
       "    <tr>\n",
       "      <th>2020-10-23</th>\n",
       "      <td>12.000000</td>\n",
       "      <td>0.0</td>\n",
       "    </tr>\n",
       "    <tr>\n",
       "      <th>2021-05-31</th>\n",
       "      <td>15.000000</td>\n",
       "      <td>0.0</td>\n",
       "    </tr>\n",
       "    <tr>\n",
       "      <th>2021-10-26</th>\n",
       "      <td>15.000000</td>\n",
       "      <td>0.0</td>\n",
       "    </tr>\n",
       "    <tr>\n",
       "      <th>2022-05-31</th>\n",
       "      <td>16.000000</td>\n",
       "      <td>0.0</td>\n",
       "    </tr>\n",
       "    <tr>\n",
       "      <th>2022-10-27</th>\n",
       "      <td>16.500000</td>\n",
       "      <td>0.0</td>\n",
       "    </tr>\n",
       "  </tbody>\n",
       "</table>\n",
       "<p>64 rows × 2 columns</p>\n",
       "</div>"
      ],
      "text/plain": [
       "            Dividends  Stock Splits\n",
       "Date                               \n",
       "1996-04-30   0.006836           0.0\n",
       "1996-10-28   0.002930           0.0\n",
       "1997-05-23   0.007813           0.0\n",
       "1997-08-19   0.000000           2.0\n",
       "1997-12-17   0.005859           0.0\n",
       "...               ...           ...\n",
       "2020-10-23  12.000000           0.0\n",
       "2021-05-31  15.000000           0.0\n",
       "2021-10-26  15.000000           0.0\n",
       "2022-05-31  16.000000           0.0\n",
       "2022-10-27  16.500000           0.0\n",
       "\n",
       "[64 rows x 2 columns]"
      ]
     },
     "execution_count": 11,
     "metadata": {},
     "output_type": "execute_result"
    }
   ],
   "source": [
    "infy.actions"
   ]
  },
  {
   "cell_type": "code",
   "execution_count": 17,
   "id": "37e347e0",
   "metadata": {},
   "outputs": [
    {
     "data": {
      "text/plain": [
       "Date\n",
       "1997-08-19    2.0\n",
       "1999-02-10    2.0\n",
       "2000-01-24    2.0\n",
       "2000-01-27    2.0\n",
       "2004-07-01    4.0\n",
       "2006-07-13    2.0\n",
       "2014-12-02    2.0\n",
       "2015-06-15    2.0\n",
       "2018-09-04    2.0\n",
       "Name: Stock Splits, dtype: float64"
      ]
     },
     "execution_count": 17,
     "metadata": {},
     "output_type": "execute_result"
    }
   ],
   "source": [
    "infy.splits"
   ]
  },
  {
   "cell_type": "code",
   "execution_count": 18,
   "id": "ea980fdc",
   "metadata": {},
   "outputs": [
    {
     "data": {
      "text/plain": [
       "Date\n",
       "1996-04-30     0.006836\n",
       "1996-10-28     0.002930\n",
       "1997-05-23     0.007813\n",
       "1997-12-17     0.005859\n",
       "1998-04-30     0.017578\n",
       "1998-11-12     0.009766\n",
       "1999-05-20     0.039063\n",
       "1999-10-28     0.023438\n",
       "2000-04-28     0.046875\n",
       "2000-10-25     0.039063\n",
       "2001-04-27     0.117188\n",
       "2001-10-18     0.117188\n",
       "2002-05-21     0.195313\n",
       "2002-10-30     0.195313\n",
       "2003-05-28     0.226563\n",
       "2003-10-16     0.226563\n",
       "2004-05-26     1.562500\n",
       "2004-10-18     0.312500\n",
       "2005-06-01     0.406250\n",
       "2005-10-17     0.406250\n",
       "2006-05-25     2.406250\n",
       "2006-10-19     0.625000\n",
       "2007-06-06     0.812500\n",
       "2007-10-18     0.750000\n",
       "2008-05-29     3.406250\n",
       "2008-10-16     1.250000\n",
       "2009-06-04     1.687500\n",
       "2009-10-15     1.250000\n",
       "2010-05-26     1.875000\n",
       "2010-10-21     3.750000\n",
       "2011-05-26     2.500000\n",
       "2011-10-20     1.875000\n",
       "2012-05-24     1.250000\n",
       "2012-10-18     1.875000\n",
       "2013-05-30     3.375000\n",
       "2013-10-17     2.500000\n",
       "2014-05-29     5.375000\n",
       "2014-10-16     3.750000\n",
       "2015-06-15     7.375000\n",
       "2015-10-16     5.000000\n",
       "2016-06-09     7.125000\n",
       "2016-10-21     5.500000\n",
       "2017-06-01     7.375000\n",
       "2017-10-31     6.500000\n",
       "2018-06-14     5.000000\n",
       "2018-10-25     7.000000\n",
       "2019-01-24     4.000000\n",
       "2019-06-13    10.500000\n",
       "2019-10-22     8.000000\n",
       "2019-10-23     8.000000\n",
       "2020-05-29     9.500000\n",
       "2020-10-23    12.000000\n",
       "2021-05-31    15.000000\n",
       "2021-10-26    15.000000\n",
       "2022-05-31    16.000000\n",
       "2022-10-27    16.500000\n",
       "Name: Dividends, dtype: float64"
      ]
     },
     "execution_count": 18,
     "metadata": {},
     "output_type": "execute_result"
    }
   ],
   "source": [
    "infy.dividends"
   ]
  },
  {
   "cell_type": "code",
   "execution_count": 27,
   "id": "0e27dd92",
   "metadata": {},
   "outputs": [],
   "source": [
    "import yahoo_fin.stock_info as si"
   ]
  },
  {
   "cell_type": "code",
   "execution_count": 32,
   "id": "f2fad074",
   "metadata": {},
   "outputs": [],
   "source": [
    "bl = si.get_balance_sheet('nflx')"
   ]
  },
  {
   "cell_type": "code",
   "execution_count": 36,
   "id": "690b16ac",
   "metadata": {},
   "outputs": [
    {
     "data": {
      "text/plain": [
       "dict_keys(['regularMarketPrice', 'preMarketPrice', 'logo_url'])"
      ]
     },
     "execution_count": 36,
     "metadata": {},
     "output_type": "execute_result"
    }
   ],
   "source": [
    "msft.info.keys()"
   ]
  },
  {
   "cell_type": "code",
   "execution_count": 3,
   "id": "dece433a",
   "metadata": {},
   "outputs": [
    {
     "data": {
      "text/plain": [
       "'0.2.12'"
      ]
     },
     "execution_count": 3,
     "metadata": {},
     "output_type": "execute_result"
    }
   ],
   "source": [
    "yf.__version__"
   ]
  },
  {
   "cell_type": "code",
   "execution_count": 9,
   "id": "5f338139",
   "metadata": {},
   "outputs": [],
   "source": [
    "from yahooquery import Ticker"
   ]
  },
  {
   "cell_type": "code",
   "execution_count": 78,
   "id": "80f79144",
   "metadata": {},
   "outputs": [],
   "source": [
    "ticker = Ticker('matrimony.ns')"
   ]
  },
  {
   "cell_type": "code",
   "execution_count": 73,
   "id": "60618b24",
   "metadata": {},
   "outputs": [],
   "source": [
    "income_statement = ticker.income_statement('q') "
   ]
  },
  {
   "cell_type": "code",
   "execution_count": 74,
   "id": "5b4af30e",
   "metadata": {},
   "outputs": [
    {
     "data": {
      "text/html": [
       "<div>\n",
       "<style scoped>\n",
       "    .dataframe tbody tr th:only-of-type {\n",
       "        vertical-align: middle;\n",
       "    }\n",
       "\n",
       "    .dataframe tbody tr th {\n",
       "        vertical-align: top;\n",
       "    }\n",
       "\n",
       "    .dataframe thead th {\n",
       "        text-align: right;\n",
       "    }\n",
       "</style>\n",
       "<table border=\"1\" class=\"dataframe\">\n",
       "  <thead>\n",
       "    <tr style=\"text-align: right;\">\n",
       "      <th></th>\n",
       "      <th>asOfDate</th>\n",
       "      <th>periodType</th>\n",
       "      <th>currencyCode</th>\n",
       "      <th>BasicAverageShares</th>\n",
       "      <th>BasicEPS</th>\n",
       "      <th>CostOfRevenue</th>\n",
       "      <th>DilutedAverageShares</th>\n",
       "      <th>DilutedEPS</th>\n",
       "      <th>DilutedNIAvailtoComStockholders</th>\n",
       "      <th>EBIT</th>\n",
       "      <th>...</th>\n",
       "      <th>SpecialIncomeCharges</th>\n",
       "      <th>TaxEffectOfUnusualItems</th>\n",
       "      <th>TaxProvision</th>\n",
       "      <th>TaxRateForCalcs</th>\n",
       "      <th>TotalExpenses</th>\n",
       "      <th>TotalOperatingIncomeAsReported</th>\n",
       "      <th>TotalRevenue</th>\n",
       "      <th>TotalUnusualItems</th>\n",
       "      <th>TotalUnusualItemsExcludingGoodwill</th>\n",
       "      <th>WriteOff</th>\n",
       "    </tr>\n",
       "    <tr>\n",
       "      <th>symbol</th>\n",
       "      <th></th>\n",
       "      <th></th>\n",
       "      <th></th>\n",
       "      <th></th>\n",
       "      <th></th>\n",
       "      <th></th>\n",
       "      <th></th>\n",
       "      <th></th>\n",
       "      <th></th>\n",
       "      <th></th>\n",
       "      <th></th>\n",
       "      <th></th>\n",
       "      <th></th>\n",
       "      <th></th>\n",
       "      <th></th>\n",
       "      <th></th>\n",
       "      <th></th>\n",
       "      <th></th>\n",
       "      <th></th>\n",
       "      <th></th>\n",
       "      <th></th>\n",
       "    </tr>\n",
       "  </thead>\n",
       "  <tbody>\n",
       "    <tr>\n",
       "      <th>infy.ns</th>\n",
       "      <td>2021-12-31</td>\n",
       "      <td>3M</td>\n",
       "      <td>USD</td>\n",
       "      <td>4.190866e+09</td>\n",
       "      <td>0.18</td>\n",
       "      <td>2.856000e+09</td>\n",
       "      <td>4.198924e+09</td>\n",
       "      <td>0.18</td>\n",
       "      <td>7.740000e+08</td>\n",
       "      <td>1.066000e+09</td>\n",
       "      <td>...</td>\n",
       "      <td>-7000000.0</td>\n",
       "      <td>1.603399e+06</td>\n",
       "      <td>2.830000e+08</td>\n",
       "      <td>0.267233</td>\n",
       "      <td>3.245000e+09</td>\n",
       "      <td>9.980000e+08</td>\n",
       "      <td>4.250000e+09</td>\n",
       "      <td>6000000.0</td>\n",
       "      <td>6000000.0</td>\n",
       "      <td>7000000.0</td>\n",
       "    </tr>\n",
       "    <tr>\n",
       "      <th>infy.ns</th>\n",
       "      <td>2022-03-31</td>\n",
       "      <td>3M</td>\n",
       "      <td>USD</td>\n",
       "      <td>4.191743e+09</td>\n",
       "      <td>0.18</td>\n",
       "      <td>2.955000e+09</td>\n",
       "      <td>4.199791e+09</td>\n",
       "      <td>0.18</td>\n",
       "      <td>7.520000e+08</td>\n",
       "      <td>1.005000e+09</td>\n",
       "      <td>...</td>\n",
       "      <td>-4000000.0</td>\n",
       "      <td>5.155311e+06</td>\n",
       "      <td>2.450000e+08</td>\n",
       "      <td>0.245491</td>\n",
       "      <td>3.356000e+09</td>\n",
       "      <td>9.200000e+08</td>\n",
       "      <td>4.280000e+09</td>\n",
       "      <td>21000000.0</td>\n",
       "      <td>21000000.0</td>\n",
       "      <td>4000000.0</td>\n",
       "    </tr>\n",
       "    <tr>\n",
       "      <th>infy.ns</th>\n",
       "      <td>2022-06-30</td>\n",
       "      <td>3M</td>\n",
       "      <td>USD</td>\n",
       "      <td>4.193748e+09</td>\n",
       "      <td>0.16</td>\n",
       "      <td>3.144000e+09</td>\n",
       "      <td>4.199492e+09</td>\n",
       "      <td>0.16</td>\n",
       "      <td>6.890000e+08</td>\n",
       "      <td>9.750000e+08</td>\n",
       "      <td>...</td>\n",
       "      <td>-6000000.0</td>\n",
       "      <td>3.170455e+06</td>\n",
       "      <td>2.790000e+08</td>\n",
       "      <td>0.288223</td>\n",
       "      <td>3.550000e+09</td>\n",
       "      <td>8.880000e+08</td>\n",
       "      <td>4.444000e+09</td>\n",
       "      <td>11000000.0</td>\n",
       "      <td>11000000.0</td>\n",
       "      <td>6000000.0</td>\n",
       "    </tr>\n",
       "    <tr>\n",
       "      <th>infy.ns</th>\n",
       "      <td>2022-09-30</td>\n",
       "      <td>3M</td>\n",
       "      <td>USD</td>\n",
       "      <td>4.155556e+09</td>\n",
       "      <td>0.18</td>\n",
       "      <td>3.170000e+09</td>\n",
       "      <td>4.155556e+09</td>\n",
       "      <td>0.18</td>\n",
       "      <td>7.480000e+08</td>\n",
       "      <td>9.790000e+08</td>\n",
       "      <td>...</td>\n",
       "      <td>NaN</td>\n",
       "      <td>0.000000e+00</td>\n",
       "      <td>2.950000e+08</td>\n",
       "      <td>0.282567</td>\n",
       "      <td>3.576000e+09</td>\n",
       "      <td>9.790000e+08</td>\n",
       "      <td>4.555000e+09</td>\n",
       "      <td>NaN</td>\n",
       "      <td>NaN</td>\n",
       "      <td>NaN</td>\n",
       "    </tr>\n",
       "    <tr>\n",
       "      <th>infy.ns</th>\n",
       "      <td>2022-12-31</td>\n",
       "      <td>3M</td>\n",
       "      <td>USD</td>\n",
       "      <td>4.210526e+09</td>\n",
       "      <td>0.19</td>\n",
       "      <td>3.230000e+09</td>\n",
       "      <td>4.210526e+09</td>\n",
       "      <td>0.19</td>\n",
       "      <td>8.000000e+08</td>\n",
       "      <td>1.001000e+09</td>\n",
       "      <td>...</td>\n",
       "      <td>NaN</td>\n",
       "      <td>0.000000e+00</td>\n",
       "      <td>2.850000e+08</td>\n",
       "      <td>0.262673</td>\n",
       "      <td>3.658000e+09</td>\n",
       "      <td>1.001000e+09</td>\n",
       "      <td>4.659000e+09</td>\n",
       "      <td>NaN</td>\n",
       "      <td>NaN</td>\n",
       "      <td>NaN</td>\n",
       "    </tr>\n",
       "    <tr>\n",
       "      <th>infy.ns</th>\n",
       "      <td>2022-12-31</td>\n",
       "      <td>TTM</td>\n",
       "      <td>USD</td>\n",
       "      <td>NaN</td>\n",
       "      <td>NaN</td>\n",
       "      <td>1.249900e+10</td>\n",
       "      <td>NaN</td>\n",
       "      <td>NaN</td>\n",
       "      <td>2.989000e+09</td>\n",
       "      <td>4.096000e+09</td>\n",
       "      <td>...</td>\n",
       "      <td>NaN</td>\n",
       "      <td>9.975092e+06</td>\n",
       "      <td>1.104000e+09</td>\n",
       "      <td>0.269597</td>\n",
       "      <td>1.412600e+10</td>\n",
       "      <td>3.788000e+09</td>\n",
       "      <td>1.793700e+10</td>\n",
       "      <td>37000000.0</td>\n",
       "      <td>37000000.0</td>\n",
       "      <td>NaN</td>\n",
       "    </tr>\n",
       "  </tbody>\n",
       "</table>\n",
       "<p>6 rows × 56 columns</p>\n",
       "</div>"
      ],
      "text/plain": [
       "          asOfDate periodType currencyCode  BasicAverageShares  BasicEPS  \\\n",
       "symbol                                                                     \n",
       "infy.ns 2021-12-31         3M          USD        4.190866e+09      0.18   \n",
       "infy.ns 2022-03-31         3M          USD        4.191743e+09      0.18   \n",
       "infy.ns 2022-06-30         3M          USD        4.193748e+09      0.16   \n",
       "infy.ns 2022-09-30         3M          USD        4.155556e+09      0.18   \n",
       "infy.ns 2022-12-31         3M          USD        4.210526e+09      0.19   \n",
       "infy.ns 2022-12-31        TTM          USD                 NaN       NaN   \n",
       "\n",
       "         CostOfRevenue  DilutedAverageShares  DilutedEPS  \\\n",
       "symbol                                                     \n",
       "infy.ns   2.856000e+09          4.198924e+09        0.18   \n",
       "infy.ns   2.955000e+09          4.199791e+09        0.18   \n",
       "infy.ns   3.144000e+09          4.199492e+09        0.16   \n",
       "infy.ns   3.170000e+09          4.155556e+09        0.18   \n",
       "infy.ns   3.230000e+09          4.210526e+09        0.19   \n",
       "infy.ns   1.249900e+10                   NaN         NaN   \n",
       "\n",
       "         DilutedNIAvailtoComStockholders          EBIT  ...  \\\n",
       "symbol                                                  ...   \n",
       "infy.ns                     7.740000e+08  1.066000e+09  ...   \n",
       "infy.ns                     7.520000e+08  1.005000e+09  ...   \n",
       "infy.ns                     6.890000e+08  9.750000e+08  ...   \n",
       "infy.ns                     7.480000e+08  9.790000e+08  ...   \n",
       "infy.ns                     8.000000e+08  1.001000e+09  ...   \n",
       "infy.ns                     2.989000e+09  4.096000e+09  ...   \n",
       "\n",
       "         SpecialIncomeCharges  TaxEffectOfUnusualItems  TaxProvision  \\\n",
       "symbol                                                                 \n",
       "infy.ns            -7000000.0             1.603399e+06  2.830000e+08   \n",
       "infy.ns            -4000000.0             5.155311e+06  2.450000e+08   \n",
       "infy.ns            -6000000.0             3.170455e+06  2.790000e+08   \n",
       "infy.ns                   NaN             0.000000e+00  2.950000e+08   \n",
       "infy.ns                   NaN             0.000000e+00  2.850000e+08   \n",
       "infy.ns                   NaN             9.975092e+06  1.104000e+09   \n",
       "\n",
       "         TaxRateForCalcs  TotalExpenses  TotalOperatingIncomeAsReported  \\\n",
       "symbol                                                                    \n",
       "infy.ns         0.267233   3.245000e+09                    9.980000e+08   \n",
       "infy.ns         0.245491   3.356000e+09                    9.200000e+08   \n",
       "infy.ns         0.288223   3.550000e+09                    8.880000e+08   \n",
       "infy.ns         0.282567   3.576000e+09                    9.790000e+08   \n",
       "infy.ns         0.262673   3.658000e+09                    1.001000e+09   \n",
       "infy.ns         0.269597   1.412600e+10                    3.788000e+09   \n",
       "\n",
       "         TotalRevenue  TotalUnusualItems  TotalUnusualItemsExcludingGoodwill  \\\n",
       "symbol                                                                         \n",
       "infy.ns  4.250000e+09          6000000.0                           6000000.0   \n",
       "infy.ns  4.280000e+09         21000000.0                          21000000.0   \n",
       "infy.ns  4.444000e+09         11000000.0                          11000000.0   \n",
       "infy.ns  4.555000e+09                NaN                                 NaN   \n",
       "infy.ns  4.659000e+09                NaN                                 NaN   \n",
       "infy.ns  1.793700e+10         37000000.0                          37000000.0   \n",
       "\n",
       "          WriteOff  \n",
       "symbol              \n",
       "infy.ns  7000000.0  \n",
       "infy.ns  4000000.0  \n",
       "infy.ns  6000000.0  \n",
       "infy.ns        NaN  \n",
       "infy.ns        NaN  \n",
       "infy.ns        NaN  \n",
       "\n",
       "[6 rows x 56 columns]"
      ]
     },
     "execution_count": 74,
     "metadata": {},
     "output_type": "execute_result"
    }
   ],
   "source": [
    "income_statement"
   ]
  },
  {
   "cell_type": "code",
   "execution_count": 23,
   "id": "82d9eb0e",
   "metadata": {},
   "outputs": [
    {
     "data": {
      "text/plain": [
       "{'ltim.ns': {'maxAge': 86400,\n",
       "  'currentPrice': 4726.0,\n",
       "  'recommendationKey': 'none',\n",
       "  'totalCash': 73333997568,\n",
       "  'totalCashPerShare': 247.75,\n",
       "  'ebitda': 36321001472,\n",
       "  'totalDebt': 15285999616,\n",
       "  'quickRatio': 2.64,\n",
       "  'currentRatio': 3.033,\n",
       "  'totalRevenue': 211805995008,\n",
       "  'debtToEquity': 9.656,\n",
       "  'revenuePerShare': 1207.679,\n",
       "  'returnOnAssets': 0.11995,\n",
       "  'returnOnEquity': 0.22900999,\n",
       "  'grossProfits': 33389000000,\n",
       "  'freeCashflow': -2523249920,\n",
       "  'operatingCashflow': 18680999936,\n",
       "  'earningsGrowth': -0.031,\n",
       "  'revenueGrowth': 1.083,\n",
       "  'grossMargins': 0.22499001,\n",
       "  'ebitdaMargins': 0.17148,\n",
       "  'operatingMargins': 0.15604,\n",
       "  'profitMargins': 0.12991999,\n",
       "  'financialCurrency': 'INR'}}"
      ]
     },
     "execution_count": 23,
     "metadata": {},
     "output_type": "execute_result"
    }
   ],
   "source": [
    "ticker.financial_data"
   ]
  },
  {
   "cell_type": "code",
   "execution_count": 24,
   "id": "ace4ab26",
   "metadata": {},
   "outputs": [
    {
     "data": {
      "text/plain": [
       "{'ltim.ns': 'No fundamentals data found for any of the summaryTypes=earningsTrend'}"
      ]
     },
     "execution_count": 24,
     "metadata": {},
     "output_type": "execute_result"
    }
   ],
   "source": [
    "ticker.earnings_trend"
   ]
  },
  {
   "cell_type": "code",
   "execution_count": 25,
   "id": "d171d608",
   "metadata": {},
   "outputs": [
    {
     "data": {
      "text/plain": [
       "{'ltim.ns': 'No fundamentals data found for any of the summaryTypes=earnings'}"
      ]
     },
     "execution_count": 25,
     "metadata": {},
     "output_type": "execute_result"
    }
   ],
   "source": [
    "ticker.earnings"
   ]
  },
  {
   "cell_type": "code",
   "execution_count": 28,
   "id": "60154bcb",
   "metadata": {},
   "outputs": [
    {
     "data": {
      "text/html": [
       "<div>\n",
       "<style scoped>\n",
       "    .dataframe tbody tr th:only-of-type {\n",
       "        vertical-align: middle;\n",
       "    }\n",
       "\n",
       "    .dataframe tbody tr th {\n",
       "        vertical-align: top;\n",
       "    }\n",
       "\n",
       "    .dataframe thead th {\n",
       "        text-align: right;\n",
       "    }\n",
       "</style>\n",
       "<table border=\"1\" class=\"dataframe\">\n",
       "  <thead>\n",
       "    <tr style=\"text-align: right;\">\n",
       "      <th></th>\n",
       "      <th>asOfDate</th>\n",
       "      <th>periodType</th>\n",
       "      <th>currencyCode</th>\n",
       "      <th>Amortization</th>\n",
       "      <th>BasicAverageShares</th>\n",
       "      <th>BasicEPS</th>\n",
       "      <th>CostOfRevenue</th>\n",
       "      <th>DepreciationAndAmortizationInIncomeStatement</th>\n",
       "      <th>DepreciationIncomeStatement</th>\n",
       "      <th>DilutedAverageShares</th>\n",
       "      <th>...</th>\n",
       "      <th>SpecialIncomeCharges</th>\n",
       "      <th>TaxEffectOfUnusualItems</th>\n",
       "      <th>TaxProvision</th>\n",
       "      <th>TaxRateForCalcs</th>\n",
       "      <th>TotalExpenses</th>\n",
       "      <th>TotalOtherFinanceCost</th>\n",
       "      <th>TotalRevenue</th>\n",
       "      <th>TotalUnusualItems</th>\n",
       "      <th>TotalUnusualItemsExcludingGoodwill</th>\n",
       "      <th>WriteOff</th>\n",
       "    </tr>\n",
       "    <tr>\n",
       "      <th>symbol</th>\n",
       "      <th></th>\n",
       "      <th></th>\n",
       "      <th></th>\n",
       "      <th></th>\n",
       "      <th></th>\n",
       "      <th></th>\n",
       "      <th></th>\n",
       "      <th></th>\n",
       "      <th></th>\n",
       "      <th></th>\n",
       "      <th></th>\n",
       "      <th></th>\n",
       "      <th></th>\n",
       "      <th></th>\n",
       "      <th></th>\n",
       "      <th></th>\n",
       "      <th></th>\n",
       "      <th></th>\n",
       "      <th></th>\n",
       "      <th></th>\n",
       "      <th></th>\n",
       "    </tr>\n",
       "  </thead>\n",
       "  <tbody>\n",
       "    <tr>\n",
       "      <th>ltim.ns</th>\n",
       "      <td>2019-03-31</td>\n",
       "      <td>12M</td>\n",
       "      <td>INR</td>\n",
       "      <td>NaN</td>\n",
       "      <td>172912774.0</td>\n",
       "      <td>87.67</td>\n",
       "      <td>5.529200e+10</td>\n",
       "      <td>1.472000e+09</td>\n",
       "      <td>1.472000e+09</td>\n",
       "      <td>175381719.0</td>\n",
       "      <td>...</td>\n",
       "      <td>-23000000.0</td>\n",
       "      <td>-5.819000e+06</td>\n",
       "      <td>5.123000e+09</td>\n",
       "      <td>0.253000</td>\n",
       "      <td>7.707400e+10</td>\n",
       "      <td>1000000.0</td>\n",
       "      <td>9.445800e+10</td>\n",
       "      <td>-2.300000e+07</td>\n",
       "      <td>-2.300000e+07</td>\n",
       "      <td>23000000.0</td>\n",
       "    </tr>\n",
       "    <tr>\n",
       "      <th>ltim.ns</th>\n",
       "      <td>2020-03-31</td>\n",
       "      <td>12M</td>\n",
       "      <td>INR</td>\n",
       "      <td>750000000.0</td>\n",
       "      <td>173823653.0</td>\n",
       "      <td>87.45</td>\n",
       "      <td>6.576600e+10</td>\n",
       "      <td>2.730000e+09</td>\n",
       "      <td>1.980000e+09</td>\n",
       "      <td>175508270.0</td>\n",
       "      <td>...</td>\n",
       "      <td>-89000000.0</td>\n",
       "      <td>3.557366e+08</td>\n",
       "      <td>4.824000e+09</td>\n",
       "      <td>0.240851</td>\n",
       "      <td>9.113400e+10</td>\n",
       "      <td>19000000.0</td>\n",
       "      <td>1.087860e+11</td>\n",
       "      <td>1.477000e+09</td>\n",
       "      <td>1.477000e+09</td>\n",
       "      <td>89000000.0</td>\n",
       "    </tr>\n",
       "    <tr>\n",
       "      <th>ltim.ns</th>\n",
       "      <td>2021-03-31</td>\n",
       "      <td>12M</td>\n",
       "      <td>INR</td>\n",
       "      <td>778000000.0</td>\n",
       "      <td>174460220.0</td>\n",
       "      <td>110.98</td>\n",
       "      <td>7.594300e+10</td>\n",
       "      <td>3.325000e+09</td>\n",
       "      <td>2.547000e+09</td>\n",
       "      <td>175596111.0</td>\n",
       "      <td>...</td>\n",
       "      <td>440000000.0</td>\n",
       "      <td>2.679662e+08</td>\n",
       "      <td>6.500000e+09</td>\n",
       "      <td>0.251140</td>\n",
       "      <td>9.964100e+10</td>\n",
       "      <td>10000000.0</td>\n",
       "      <td>1.236980e+11</td>\n",
       "      <td>1.067000e+09</td>\n",
       "      <td>1.067000e+09</td>\n",
       "      <td>131000000.0</td>\n",
       "    </tr>\n",
       "    <tr>\n",
       "      <th>ltim.ns</th>\n",
       "      <td>2022-03-31</td>\n",
       "      <td>12M</td>\n",
       "      <td>INR</td>\n",
       "      <td>950000000.0</td>\n",
       "      <td>175073125.0</td>\n",
       "      <td>131.19</td>\n",
       "      <td>9.918100e+10</td>\n",
       "      <td>3.549000e+09</td>\n",
       "      <td>2.599000e+09</td>\n",
       "      <td>175073125.0</td>\n",
       "      <td>...</td>\n",
       "      <td>-78000000.0</td>\n",
       "      <td>5.300379e+08</td>\n",
       "      <td>7.989000e+09</td>\n",
       "      <td>0.257926</td>\n",
       "      <td>1.295740e+11</td>\n",
       "      <td>55000000.0</td>\n",
       "      <td>1.566870e+11</td>\n",
       "      <td>2.055000e+09</td>\n",
       "      <td>2.055000e+09</td>\n",
       "      <td>78000000.0</td>\n",
       "    </tr>\n",
       "    <tr>\n",
       "      <th>ltim.ns</th>\n",
       "      <td>2022-12-31</td>\n",
       "      <td>TTM</td>\n",
       "      <td>INR</td>\n",
       "      <td>NaN</td>\n",
       "      <td>NaN</td>\n",
       "      <td>NaN</td>\n",
       "      <td>1.357460e+11</td>\n",
       "      <td>4.598000e+09</td>\n",
       "      <td>3.648000e+09</td>\n",
       "      <td>NaN</td>\n",
       "      <td>...</td>\n",
       "      <td>NaN</td>\n",
       "      <td>4.659798e+08</td>\n",
       "      <td>8.777000e+09</td>\n",
       "      <td>0.241691</td>\n",
       "      <td>1.781780e+11</td>\n",
       "      <td>NaN</td>\n",
       "      <td>2.118060e+11</td>\n",
       "      <td>1.928000e+09</td>\n",
       "      <td>1.928000e+09</td>\n",
       "      <td>NaN</td>\n",
       "    </tr>\n",
       "  </tbody>\n",
       "</table>\n",
       "<p>5 rows × 55 columns</p>\n",
       "</div>"
      ],
      "text/plain": [
       "          asOfDate periodType currencyCode  Amortization  BasicAverageShares  \\\n",
       "symbol                                                                         \n",
       "ltim.ns 2019-03-31        12M          INR           NaN         172912774.0   \n",
       "ltim.ns 2020-03-31        12M          INR   750000000.0         173823653.0   \n",
       "ltim.ns 2021-03-31        12M          INR   778000000.0         174460220.0   \n",
       "ltim.ns 2022-03-31        12M          INR   950000000.0         175073125.0   \n",
       "ltim.ns 2022-12-31        TTM          INR           NaN                 NaN   \n",
       "\n",
       "         BasicEPS  CostOfRevenue  \\\n",
       "symbol                             \n",
       "ltim.ns     87.67   5.529200e+10   \n",
       "ltim.ns     87.45   6.576600e+10   \n",
       "ltim.ns    110.98   7.594300e+10   \n",
       "ltim.ns    131.19   9.918100e+10   \n",
       "ltim.ns       NaN   1.357460e+11   \n",
       "\n",
       "         DepreciationAndAmortizationInIncomeStatement  \\\n",
       "symbol                                                  \n",
       "ltim.ns                                  1.472000e+09   \n",
       "ltim.ns                                  2.730000e+09   \n",
       "ltim.ns                                  3.325000e+09   \n",
       "ltim.ns                                  3.549000e+09   \n",
       "ltim.ns                                  4.598000e+09   \n",
       "\n",
       "         DepreciationIncomeStatement  DilutedAverageShares  ...  \\\n",
       "symbol                                                      ...   \n",
       "ltim.ns                 1.472000e+09           175381719.0  ...   \n",
       "ltim.ns                 1.980000e+09           175508270.0  ...   \n",
       "ltim.ns                 2.547000e+09           175596111.0  ...   \n",
       "ltim.ns                 2.599000e+09           175073125.0  ...   \n",
       "ltim.ns                 3.648000e+09                   NaN  ...   \n",
       "\n",
       "         SpecialIncomeCharges  TaxEffectOfUnusualItems  TaxProvision  \\\n",
       "symbol                                                                 \n",
       "ltim.ns           -23000000.0            -5.819000e+06  5.123000e+09   \n",
       "ltim.ns           -89000000.0             3.557366e+08  4.824000e+09   \n",
       "ltim.ns           440000000.0             2.679662e+08  6.500000e+09   \n",
       "ltim.ns           -78000000.0             5.300379e+08  7.989000e+09   \n",
       "ltim.ns                   NaN             4.659798e+08  8.777000e+09   \n",
       "\n",
       "         TaxRateForCalcs  TotalExpenses  TotalOtherFinanceCost  TotalRevenue  \\\n",
       "symbol                                                                         \n",
       "ltim.ns         0.253000   7.707400e+10              1000000.0  9.445800e+10   \n",
       "ltim.ns         0.240851   9.113400e+10             19000000.0  1.087860e+11   \n",
       "ltim.ns         0.251140   9.964100e+10             10000000.0  1.236980e+11   \n",
       "ltim.ns         0.257926   1.295740e+11             55000000.0  1.566870e+11   \n",
       "ltim.ns         0.241691   1.781780e+11                    NaN  2.118060e+11   \n",
       "\n",
       "         TotalUnusualItems  TotalUnusualItemsExcludingGoodwill     WriteOff  \n",
       "symbol                                                                       \n",
       "ltim.ns      -2.300000e+07                       -2.300000e+07   23000000.0  \n",
       "ltim.ns       1.477000e+09                        1.477000e+09   89000000.0  \n",
       "ltim.ns       1.067000e+09                        1.067000e+09  131000000.0  \n",
       "ltim.ns       2.055000e+09                        2.055000e+09   78000000.0  \n",
       "ltim.ns       1.928000e+09                        1.928000e+09          NaN  \n",
       "\n",
       "[5 rows x 55 columns]"
      ]
     },
     "execution_count": 28,
     "metadata": {},
     "output_type": "execute_result"
    }
   ],
   "source": [
    "ticker.income_statement()"
   ]
  },
  {
   "cell_type": "code",
   "execution_count": 65,
   "id": "1e98ebc9",
   "metadata": {},
   "outputs": [
    {
     "data": {
      "text/plain": [
       "dict_keys(['assetProfile', 'recommendationTrend', 'cashflowStatementHistory', 'indexTrend', 'defaultKeyStatistics', 'industryTrend', 'quoteType', 'incomeStatementHistory', 'fundOwnership', 'summaryDetail', 'insiderHolders', 'calendarEvents', 'price', 'balanceSheetHistory', 'earningsTrend', 'institutionOwnership', 'majorHoldersBreakdown', 'balanceSheetHistoryQuarterly', 'earningsHistory', 'esgScores', 'summaryProfile', 'netSharePurchaseActivity', 'insiderTransactions', 'sectorTrend', 'incomeStatementHistoryQuarterly', 'cashflowStatementHistoryQuarterly', 'earnings', 'financialData'])"
      ]
     },
     "execution_count": 65,
     "metadata": {},
     "output_type": "execute_result"
    }
   ],
   "source": [
    "ticker.all_modules['infy.ns'].keys()"
   ]
  },
  {
   "cell_type": "code",
   "execution_count": 70,
   "id": "f9dee977",
   "metadata": {},
   "outputs": [
    {
     "data": {
      "text/plain": [
       "{'trend': [{'period': '0m',\n",
       "   'strongBuy': 0,\n",
       "   'buy': 0,\n",
       "   'hold': 0,\n",
       "   'sell': 0,\n",
       "   'strongSell': 0},\n",
       "  {'period': '-1m',\n",
       "   'strongBuy': 9,\n",
       "   'buy': 12,\n",
       "   'hold': 18,\n",
       "   'sell': 8,\n",
       "   'strongSell': 1},\n",
       "  {'period': '-2m',\n",
       "   'strongBuy': 8,\n",
       "   'buy': 13,\n",
       "   'hold': 16,\n",
       "   'sell': 10,\n",
       "   'strongSell': 1},\n",
       "  {'period': '-3m',\n",
       "   'strongBuy': 17,\n",
       "   'buy': 14,\n",
       "   'hold': 14,\n",
       "   'sell': 5,\n",
       "   'strongSell': 0}],\n",
       " 'maxAge': 86400}"
      ]
     },
     "execution_count": 70,
     "metadata": {},
     "output_type": "execute_result"
    }
   ],
   "source": [
    "ticker.all_modules['infy.ns']['recommendationTrend']"
   ]
  },
  {
   "cell_type": "code",
   "execution_count": 66,
   "id": "6979a500",
   "metadata": {},
   "outputs": [
    {
     "data": {
      "text/html": [
       "<div>\n",
       "<style scoped>\n",
       "    .dataframe tbody tr th:only-of-type {\n",
       "        vertical-align: middle;\n",
       "    }\n",
       "\n",
       "    .dataframe tbody tr th {\n",
       "        vertical-align: top;\n",
       "    }\n",
       "\n",
       "    .dataframe thead th {\n",
       "        text-align: right;\n",
       "    }\n",
       "</style>\n",
       "<table border=\"1\" class=\"dataframe\">\n",
       "  <thead>\n",
       "    <tr style=\"text-align: right;\">\n",
       "      <th></th>\n",
       "      <th>maxAge</th>\n",
       "      <th>endDate</th>\n",
       "      <th>cash</th>\n",
       "      <th>shortTermInvestments</th>\n",
       "      <th>netReceivables</th>\n",
       "      <th>inventory</th>\n",
       "      <th>otherCurrentAssets</th>\n",
       "      <th>totalCurrentAssets</th>\n",
       "      <th>longTermInvestments</th>\n",
       "      <th>propertyPlantEquipment</th>\n",
       "      <th>...</th>\n",
       "      <th>minorityInterest</th>\n",
       "      <th>totalCurrentLiabilities</th>\n",
       "      <th>totalLiab</th>\n",
       "      <th>commonStock</th>\n",
       "      <th>retainedEarnings</th>\n",
       "      <th>treasuryStock</th>\n",
       "      <th>capitalSurplus</th>\n",
       "      <th>otherStockholderEquity</th>\n",
       "      <th>totalStockholderEquity</th>\n",
       "      <th>netTangibleAssets</th>\n",
       "    </tr>\n",
       "  </thead>\n",
       "  <tbody>\n",
       "    <tr>\n",
       "      <th>0</th>\n",
       "      <td>1</td>\n",
       "      <td>2022-03-31</td>\n",
       "      <td>2305000000</td>\n",
       "      <td>880000000</td>\n",
       "      <td>4609000000</td>\n",
       "      <td>25000000</td>\n",
       "      <td>783000000</td>\n",
       "      <td>8865000000</td>\n",
       "      <td>1801000000</td>\n",
       "      <td>2429000000</td>\n",
       "      <td>...</td>\n",
       "      <td>53000000</td>\n",
       "      <td>4433000000</td>\n",
       "      <td>5561000000</td>\n",
       "      <td>328000000</td>\n",
       "      <td>12842000000</td>\n",
       "      <td>-3566000000</td>\n",
       "      <td>337000000</td>\n",
       "      <td>-3566000000</td>\n",
       "      <td>9941000000</td>\n",
       "      <td>8899000000</td>\n",
       "    </tr>\n",
       "    <tr>\n",
       "      <th>1</th>\n",
       "      <td>1</td>\n",
       "      <td>2021-03-31</td>\n",
       "      <td>3380000000</td>\n",
       "      <td>320000000</td>\n",
       "      <td>3776000000</td>\n",
       "      <td>19000000</td>\n",
       "      <td>653000000</td>\n",
       "      <td>8307000000</td>\n",
       "      <td>1623000000</td>\n",
       "      <td>2519000000</td>\n",
       "      <td>...</td>\n",
       "      <td>60000000</td>\n",
       "      <td>3264000000</td>\n",
       "      <td>4323000000</td>\n",
       "      <td>332000000</td>\n",
       "      <td>12995000000</td>\n",
       "      <td>-3244000000</td>\n",
       "      <td>359000000</td>\n",
       "      <td>-3244000000</td>\n",
       "      <td>10442000000</td>\n",
       "      <td>9327000000</td>\n",
       "    </tr>\n",
       "    <tr>\n",
       "      <th>2</th>\n",
       "      <td>1</td>\n",
       "      <td>2020-03-31</td>\n",
       "      <td>2465000000</td>\n",
       "      <td>615000000</td>\n",
       "      <td>3479000000</td>\n",
       "      <td>19000000</td>\n",
       "      <td>506000000</td>\n",
       "      <td>7212000000</td>\n",
       "      <td>547000000</td>\n",
       "      <td>2414000000</td>\n",
       "      <td>...</td>\n",
       "      <td>55000000</td>\n",
       "      <td>2757000000</td>\n",
       "      <td>3559000000</td>\n",
       "      <td>332000000</td>\n",
       "      <td>11608000000</td>\n",
       "      <td>-3599000000</td>\n",
       "      <td>305000000</td>\n",
       "      <td>-3599000000</td>\n",
       "      <td>8646000000</td>\n",
       "      <td>7696000000</td>\n",
       "    </tr>\n",
       "    <tr>\n",
       "      <th>3</th>\n",
       "      <td>1</td>\n",
       "      <td>2019-03-31</td>\n",
       "      <td>2829000000</td>\n",
       "      <td>958000000</td>\n",
       "      <td>3148000000</td>\n",
       "      <td>16000000</td>\n",
       "      <td>585000000</td>\n",
       "      <td>7644000000</td>\n",
       "      <td>670000000</td>\n",
       "      <td>1931000000</td>\n",
       "      <td>...</td>\n",
       "      <td>9000000</td>\n",
       "      <td>2693000000</td>\n",
       "      <td>2852000000</td>\n",
       "      <td>339000000</td>\n",
       "      <td>11632000000</td>\n",
       "      <td>-2857000000</td>\n",
       "      <td>277000000</td>\n",
       "      <td>-2857000000</td>\n",
       "      <td>9391000000</td>\n",
       "      <td>8779000000</td>\n",
       "    </tr>\n",
       "  </tbody>\n",
       "</table>\n",
       "<p>4 rows × 29 columns</p>\n",
       "</div>"
      ],
      "text/plain": [
       "   maxAge     endDate        cash  shortTermInvestments  netReceivables  \\\n",
       "0       1  2022-03-31  2305000000             880000000      4609000000   \n",
       "1       1  2021-03-31  3380000000             320000000      3776000000   \n",
       "2       1  2020-03-31  2465000000             615000000      3479000000   \n",
       "3       1  2019-03-31  2829000000             958000000      3148000000   \n",
       "\n",
       "   inventory  otherCurrentAssets  totalCurrentAssets  longTermInvestments  \\\n",
       "0   25000000           783000000          8865000000           1801000000   \n",
       "1   19000000           653000000          8307000000           1623000000   \n",
       "2   19000000           506000000          7212000000            547000000   \n",
       "3   16000000           585000000          7644000000            670000000   \n",
       "\n",
       "   propertyPlantEquipment  ...  minorityInterest  totalCurrentLiabilities  \\\n",
       "0              2429000000  ...          53000000               4433000000   \n",
       "1              2519000000  ...          60000000               3264000000   \n",
       "2              2414000000  ...          55000000               2757000000   \n",
       "3              1931000000  ...           9000000               2693000000   \n",
       "\n",
       "    totalLiab  commonStock  retainedEarnings  treasuryStock  capitalSurplus  \\\n",
       "0  5561000000    328000000       12842000000    -3566000000       337000000   \n",
       "1  4323000000    332000000       12995000000    -3244000000       359000000   \n",
       "2  3559000000    332000000       11608000000    -3599000000       305000000   \n",
       "3  2852000000    339000000       11632000000    -2857000000       277000000   \n",
       "\n",
       "   otherStockholderEquity  totalStockholderEquity  netTangibleAssets  \n",
       "0             -3566000000              9941000000         8899000000  \n",
       "1             -3244000000             10442000000         9327000000  \n",
       "2             -3599000000              8646000000         7696000000  \n",
       "3             -2857000000              9391000000         8779000000  \n",
       "\n",
       "[4 rows x 29 columns]"
      ]
     },
     "execution_count": 66,
     "metadata": {},
     "output_type": "execute_result"
    }
   ],
   "source": [
    "pd.DataFrame(ticker.all_modules['infy.ns']['balanceSheetHistory']['balanceSheetStatements'])"
   ]
  },
  {
   "cell_type": "code",
   "execution_count": 67,
   "id": "cd0d858e",
   "metadata": {},
   "outputs": [
    {
     "data": {
      "text/html": [
       "<div>\n",
       "<style scoped>\n",
       "    .dataframe tbody tr th:only-of-type {\n",
       "        vertical-align: middle;\n",
       "    }\n",
       "\n",
       "    .dataframe tbody tr th {\n",
       "        vertical-align: top;\n",
       "    }\n",
       "\n",
       "    .dataframe thead th {\n",
       "        text-align: right;\n",
       "    }\n",
       "</style>\n",
       "<table border=\"1\" class=\"dataframe\">\n",
       "  <thead>\n",
       "    <tr style=\"text-align: right;\">\n",
       "      <th></th>\n",
       "      <th>maxAge</th>\n",
       "      <th>endDate</th>\n",
       "      <th>cash</th>\n",
       "      <th>shortTermInvestments</th>\n",
       "      <th>netReceivables</th>\n",
       "      <th>inventory</th>\n",
       "      <th>otherCurrentAssets</th>\n",
       "      <th>totalCurrentAssets</th>\n",
       "      <th>longTermInvestments</th>\n",
       "      <th>propertyPlantEquipment</th>\n",
       "      <th>...</th>\n",
       "      <th>minorityInterest</th>\n",
       "      <th>totalCurrentLiabilities</th>\n",
       "      <th>totalLiab</th>\n",
       "      <th>commonStock</th>\n",
       "      <th>retainedEarnings</th>\n",
       "      <th>treasuryStock</th>\n",
       "      <th>capitalSurplus</th>\n",
       "      <th>otherStockholderEquity</th>\n",
       "      <th>totalStockholderEquity</th>\n",
       "      <th>netTangibleAssets</th>\n",
       "    </tr>\n",
       "  </thead>\n",
       "  <tbody>\n",
       "    <tr>\n",
       "      <th>0</th>\n",
       "      <td>1</td>\n",
       "      <td>2022-12-31</td>\n",
       "      <td>1401000000</td>\n",
       "      <td>1055000000</td>\n",
       "      <td>5011000000</td>\n",
       "      <td>11000000</td>\n",
       "      <td>938000000</td>\n",
       "      <td>8753000000</td>\n",
       "      <td>1497000000</td>\n",
       "      <td>2444000000</td>\n",
       "      <td>...</td>\n",
       "      <td>51000000</td>\n",
       "      <td>4981000000</td>\n",
       "      <td>6200000000</td>\n",
       "      <td>327000000</td>\n",
       "      <td>12675000000</td>\n",
       "      <td>-4377000000</td>\n",
       "      <td>350000000</td>\n",
       "      <td>-4377000000</td>\n",
       "      <td>8975000000</td>\n",
       "      <td>7877000000</td>\n",
       "    </tr>\n",
       "    <tr>\n",
       "      <th>1</th>\n",
       "      <td>1</td>\n",
       "      <td>2022-09-30</td>\n",
       "      <td>1828000000</td>\n",
       "      <td>1448000000</td>\n",
       "      <td>4838000000</td>\n",
       "      <td>8000000</td>\n",
       "      <td>800000000</td>\n",
       "      <td>9211000000</td>\n",
       "      <td>1557000000</td>\n",
       "      <td>2379000000</td>\n",
       "      <td>...</td>\n",
       "      <td>49000000</td>\n",
       "      <td>4589000000</td>\n",
       "      <td>5763000000</td>\n",
       "      <td>328000000</td>\n",
       "      <td>13421000000</td>\n",
       "      <td>-4296000000</td>\n",
       "      <td>375000000</td>\n",
       "      <td>-4296000000</td>\n",
       "      <td>9828000000</td>\n",
       "      <td>8756000000</td>\n",
       "    </tr>\n",
       "    <tr>\n",
       "      <th>2</th>\n",
       "      <td>1</td>\n",
       "      <td>2022-06-30</td>\n",
       "      <td>1771000000</td>\n",
       "      <td>1027000000</td>\n",
       "      <td>4697000000</td>\n",
       "      <td>30000000</td>\n",
       "      <td>843000000</td>\n",
       "      <td>8682000000</td>\n",
       "      <td>1664000000</td>\n",
       "      <td>2419000000</td>\n",
       "      <td>...</td>\n",
       "      <td>50000000</td>\n",
       "      <td>4643000000</td>\n",
       "      <td>5806000000</td>\n",
       "      <td>328000000</td>\n",
       "      <td>12673000000</td>\n",
       "      <td>-4020000000</td>\n",
       "      <td>356000000</td>\n",
       "      <td>-4020000000</td>\n",
       "      <td>9337000000</td>\n",
       "      <td>8307000000</td>\n",
       "    </tr>\n",
       "    <tr>\n",
       "      <th>3</th>\n",
       "      <td>1</td>\n",
       "      <td>2022-03-31</td>\n",
       "      <td>2305000000</td>\n",
       "      <td>880000000</td>\n",
       "      <td>4609000000</td>\n",
       "      <td>25000000</td>\n",
       "      <td>783000000</td>\n",
       "      <td>8865000000</td>\n",
       "      <td>1801000000</td>\n",
       "      <td>2429000000</td>\n",
       "      <td>...</td>\n",
       "      <td>53000000</td>\n",
       "      <td>4433000000</td>\n",
       "      <td>5561000000</td>\n",
       "      <td>328000000</td>\n",
       "      <td>12842000000</td>\n",
       "      <td>-3566000000</td>\n",
       "      <td>337000000</td>\n",
       "      <td>-3566000000</td>\n",
       "      <td>9941000000</td>\n",
       "      <td>8899000000</td>\n",
       "    </tr>\n",
       "  </tbody>\n",
       "</table>\n",
       "<p>4 rows × 29 columns</p>\n",
       "</div>"
      ],
      "text/plain": [
       "   maxAge     endDate        cash  shortTermInvestments  netReceivables  \\\n",
       "0       1  2022-12-31  1401000000            1055000000      5011000000   \n",
       "1       1  2022-09-30  1828000000            1448000000      4838000000   \n",
       "2       1  2022-06-30  1771000000            1027000000      4697000000   \n",
       "3       1  2022-03-31  2305000000             880000000      4609000000   \n",
       "\n",
       "   inventory  otherCurrentAssets  totalCurrentAssets  longTermInvestments  \\\n",
       "0   11000000           938000000          8753000000           1497000000   \n",
       "1    8000000           800000000          9211000000           1557000000   \n",
       "2   30000000           843000000          8682000000           1664000000   \n",
       "3   25000000           783000000          8865000000           1801000000   \n",
       "\n",
       "   propertyPlantEquipment  ...  minorityInterest  totalCurrentLiabilities  \\\n",
       "0              2444000000  ...          51000000               4981000000   \n",
       "1              2379000000  ...          49000000               4589000000   \n",
       "2              2419000000  ...          50000000               4643000000   \n",
       "3              2429000000  ...          53000000               4433000000   \n",
       "\n",
       "    totalLiab  commonStock  retainedEarnings  treasuryStock  capitalSurplus  \\\n",
       "0  6200000000    327000000       12675000000    -4377000000       350000000   \n",
       "1  5763000000    328000000       13421000000    -4296000000       375000000   \n",
       "2  5806000000    328000000       12673000000    -4020000000       356000000   \n",
       "3  5561000000    328000000       12842000000    -3566000000       337000000   \n",
       "\n",
       "   otherStockholderEquity  totalStockholderEquity  netTangibleAssets  \n",
       "0             -4377000000              8975000000         7877000000  \n",
       "1             -4296000000              9828000000         8756000000  \n",
       "2             -4020000000              9337000000         8307000000  \n",
       "3             -3566000000              9941000000         8899000000  \n",
       "\n",
       "[4 rows x 29 columns]"
      ]
     },
     "execution_count": 67,
     "metadata": {},
     "output_type": "execute_result"
    }
   ],
   "source": [
    "pd.DataFrame(ticker.all_modules['infy.ns']['balanceSheetHistoryQuarterly']['balanceSheetStatements'])"
   ]
  },
  {
   "cell_type": "code",
   "execution_count": 79,
   "id": "7489c77e",
   "metadata": {},
   "outputs": [
    {
     "data": {
      "text/plain": [
       "{'matrimony.ns': {'address1': 'No. 94, TVH Beliciaa Towers',\n",
       "  'address2': 'Tower 2, 5th Floor MRC Nagar Raja Annamalaipuram',\n",
       "  'city': 'Chennai',\n",
       "  'zip': '600028',\n",
       "  'country': 'India',\n",
       "  'phone': '91 44 4900 1919',\n",
       "  'fax': '91 44 2463 1777',\n",
       "  'website': 'https://www.matrimony.com',\n",
       "  'industry': 'Internet Content & Information',\n",
       "  'sector': 'Communication Services',\n",
       "  'longBusinessSummary': 'Matrimony.com Limited, a consumer internet company, provides online matchmaking services on internet and mobile platforms in India and internationally. The company operates through two segments, Matchmaking Services and Marriage Services. It operates matrimonial sites, including BharatMatrimony.com, BengaliMatrimony.com, BihariMatrimony.com, GujaratiMatrimony.com, HindiMatrimony.com, KannadaMatrimony.com, KeralaMatrimony.com, MarathiMatrimony.com, MarwadiMatrimony.com, OriyaMatrimony.com, PunjabiMatrimony.com, RajasthaniMatrinomy.com, SindhiMatrimony.com, TamilMatrimony.com, TeluguMatrimony.com, UrduMatrimony.com, and ParsiMatrimony.com. It also operates regional matrimonial sites through MuslimMatrimony.com, ChristianMatrimony.com, SikhMatrimony.com, JainMatrimony.com, and BuddhistMatrimony.com; and offers social services through BharatBloodBank.com, BharatEyeBank.org, AbilityMatrimony.com, and HappyMarriages.com. In addition, it operates community based sites, such as CommunityMatrimony.com; and EliteMatrimony.com, DivorceeMatrimony.com, ManglikMatrimony.com, and DefenceMatrimony.com. Further, it operates Weddingbazaar.com and Mandap.com to provide related matrimony services that include wedding planners, venues, cards, and caterers, as well as mandap services. The company operates through 12 branch offices, 3 business centres, and 115 retail outlets. Matrimony.com Limited was founded in 1997 and is based in Chennai, India.',\n",
       "  'fullTimeEmployees': 3405,\n",
       "  'companyOfficers': [],\n",
       "  'maxAge': 86400}}"
      ]
     },
     "execution_count": 79,
     "metadata": {},
     "output_type": "execute_result"
    }
   ],
   "source": [
    "ticker.summary_profile"
   ]
  },
  {
   "cell_type": "code",
   "execution_count": 71,
   "id": "2467ed10",
   "metadata": {},
   "outputs": [
    {
     "data": {
      "text/plain": [
       "{'infy.ns': {'maxAge': 86400,\n",
       "  'currentPrice': 1496.05,\n",
       "  'targetHighPrice': 2402.07,\n",
       "  'targetLowPrice': 1161.0,\n",
       "  'targetMeanPrice': 1740.98,\n",
       "  'targetMedianPrice': 1730.5,\n",
       "  'recommendationMean': 1.9,\n",
       "  'recommendationKey': 'buy',\n",
       "  'numberOfAnalystOpinions': 44,\n",
       "  'totalCash': 2456000000,\n",
       "  'totalCashPerShare': 0.589,\n",
       "  'ebitda': 4161999872,\n",
       "  'totalDebt': 933000000,\n",
       "  'quickRatio': 1.492,\n",
       "  'currentRatio': 1.757,\n",
       "  'totalRevenue': 17937000448,\n",
       "  'debtToEquity': 10.337,\n",
       "  'revenuePerShare': 4.278,\n",
       "  'returnOnAssets': 0.15837,\n",
       "  'returnOnEquity': 0.32488,\n",
       "  'grossProfits': 5205000000,\n",
       "  'freeCashflow': 2524499968,\n",
       "  'operatingCashflow': 2889999872,\n",
       "  'earningsGrowth': 0.056,\n",
       "  'revenueGrowth': 0.096,\n",
       "  'grossMargins': 0.29693002,\n",
       "  'ebitdaMargins': 0.23202999,\n",
       "  'operatingMargins': 0.21118,\n",
       "  'profitMargins': 0.16664,\n",
       "  'financialCurrency': 'USD'}}"
      ]
     },
     "execution_count": 71,
     "metadata": {},
     "output_type": "execute_result"
    }
   ],
   "source": [
    "ticker.financial_data"
   ]
  },
  {
   "cell_type": "code",
   "execution_count": null,
   "id": "1d022168",
   "metadata": {},
   "outputs": [],
   "source": []
  }
 ],
 "metadata": {
  "kernelspec": {
   "display_name": "Python 3 (ipykernel)",
   "language": "python",
   "name": "python3"
  },
  "language_info": {
   "codemirror_mode": {
    "name": "ipython",
    "version": 3
   },
   "file_extension": ".py",
   "mimetype": "text/x-python",
   "name": "python",
   "nbconvert_exporter": "python",
   "pygments_lexer": "ipython3",
   "version": "3.9.13"
  },
  "toc": {
   "base_numbering": 1,
   "nav_menu": {},
   "number_sections": true,
   "sideBar": true,
   "skip_h1_title": false,
   "title_cell": "Table of Contents",
   "title_sidebar": "Contents",
   "toc_cell": false,
   "toc_position": {},
   "toc_section_display": true,
   "toc_window_display": false
  }
 },
 "nbformat": 4,
 "nbformat_minor": 5
}
