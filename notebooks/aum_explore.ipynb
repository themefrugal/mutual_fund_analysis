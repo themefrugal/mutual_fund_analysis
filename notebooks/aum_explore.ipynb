{
 "cells": [
  {
   "cell_type": "code",
   "execution_count": 1,
   "id": "09a1ad39",
   "metadata": {},
   "outputs": [],
   "source": [
    "import os\n",
    "import pandas as pd\n",
    "import plotly_express as px"
   ]
  },
  {
   "cell_type": "code",
   "execution_count": null,
   "id": "99710f15",
   "metadata": {},
   "outputs": [],
   "source": [
    "os.getcwd()"
   ]
  },
  {
   "cell_type": "code",
   "execution_count": null,
   "id": "d8f632b7",
   "metadata": {},
   "outputs": [],
   "source": [
    "df_sep = pd.read_excel('https://portal.amfiindia.com/spages/amsep2022repo.xls')"
   ]
  },
  {
   "cell_type": "code",
   "execution_count": null,
   "id": "6305b247",
   "metadata": {},
   "outputs": [],
   "source": [
    "df_sep.columns = ['Sr', 'Category', 'NumSchemes', 'NumFolios', 'InFlow', 'OutFlow', 'NetInFlow', 'NetAUM', 'AverageAUM', 'NumSegPortfolios', 'AUMSegPortfolios']\n",
    "df_s = df_sep.iloc[2:, 1:]"
   ]
  },
  {
   "cell_type": "code",
   "execution_count": null,
   "id": "d3d0ee33",
   "metadata": {},
   "outputs": [],
   "source": [
    "df_category = pd.read_csv('../mf_categories.csv')"
   ]
  },
  {
   "cell_type": "code",
   "execution_count": null,
   "id": "73f500c0",
   "metadata": {},
   "outputs": [],
   "source": [
    "df_x = df_s.merge(df_category, on='Category')\n",
    "df_x['Month'] = 9\n",
    "df_x['Year'] = 2022"
   ]
  },
  {
   "cell_type": "code",
   "execution_count": null,
   "id": "0eee8159",
   "metadata": {},
   "outputs": [],
   "source": [
    "df_x"
   ]
  },
  {
   "cell_type": "code",
   "execution_count": null,
   "id": "58cb996d",
   "metadata": {},
   "outputs": [],
   "source": [
    "df_filenames = pd.read_excel('../file_names.xlsx')\n",
    "df_category = pd.read_csv('../mf_categories.csv')"
   ]
  },
  {
   "cell_type": "code",
   "execution_count": null,
   "id": "fbe97750",
   "metadata": {},
   "outputs": [],
   "source": [
    "import datetime\n",
    "import plotly_express as px\n",
    "from pandas.tseries.offsets import MonthEnd"
   ]
  },
  {
   "cell_type": "code",
   "execution_count": null,
   "id": "20ce9b76",
   "metadata": {},
   "outputs": [],
   "source": [
    "list_monthly = []\n",
    "for index, row in df_filenames.iterrows():\n",
    "    if index < 12:\n",
    "        continue        \n",
    "    url = 'https://portal.amfiindia.com/spages/' + row['File']\n",
    "    df_month_data = pd.read_excel(url)\n",
    "    df_month_data.columns = ['Sr', 'Category', 'NumSchemes', 'NumFolios', 'InFlow', \n",
    "                             'OutFlow', 'NetInFlow', 'NetAUM', 'AverageAUM', \n",
    "                             'NumSegPortfolios', 'AUMSegPortfolios']\n",
    "    df_data = df_month_data.iloc[2:, 1:]\n",
    "    df_data = df_data.merge(df_category, on='Category')\n",
    "    df_data.loc[df_data['NetAUM'] == df_data[df_data['Category'] == 'ELSS'].groupby(['Class'])['NetAUM'].max().values[0], 'Structure'] = 'Open Ended Schemes'\n",
    "    df_data.loc[df_data['NetAUM'] == df_data[df_data['Category'] == 'ELSS'].groupby(['Class'])['NetAUM'].min().values[0], 'Structure'] = 'Close Ended Schemes'\n",
    "    df_data = df_data.drop_duplicates()\n",
    "    df_data['MonthNumber'] = row['MonthNumber']\n",
    "    df_data['Year'] = row['Year']\n",
    "    df_data['MonthName'] = datetime.date(1900, row['MonthNumber'], 1).strftime('%B')\n",
    "    list_monthly.append(df_data)"
   ]
  },
  {
   "cell_type": "code",
   "execution_count": null,
   "id": "d5fc8d16",
   "metadata": {},
   "outputs": [],
   "source": [
    "df_mf_aum = pd.concat(list_monthly)"
   ]
  },
  {
   "cell_type": "code",
   "execution_count": null,
   "id": "ad7c4fd4",
   "metadata": {},
   "outputs": [],
   "source": [
    "df_mf_aum['mn'] = df_mf_aum['MonthNumber'].astype(str)\n",
    "df_mf_aum['mn'] = df_mf_aum['mn'].map(lambda x: x.zfill(2))\n",
    "df_mf_aum['ymn'] = df_mf_aum['Year'].astype(str) + df_mf_aum['mn']\n",
    "df_mf_aum['Date'] = pd.to_datetime(df_mf_aum['ymn'], format=\"%Y%m\") + MonthEnd(0)"
   ]
  },
  {
   "cell_type": "code",
   "execution_count": null,
   "id": "66c94cac",
   "metadata": {},
   "outputs": [],
   "source": [
    "df_mf_aum.to_csv('../mf_aum.csv')"
   ]
  },
  {
   "cell_type": "code",
   "execution_count": null,
   "id": "91aa78a4",
   "metadata": {},
   "outputs": [],
   "source": [
    "sel_structure = 'Open Ended Schemes'\n",
    "sel_class = 'Growth/Equity Oriented Schemes'\n",
    "sel_measure = 'NetInFlow'\n",
    "df_sel = df_mf_aum[(df_mf_aum['Class'] == sel_class) & (df_mf_aum['Structure'] == sel_structure)][['Category', sel_measure, 'Date']]\n",
    "df_sel_long = pd.melt(df_sel, id_vars=['Category', 'Date'], value_vars=[sel_measure])\n",
    "px.line(df_sel_long, x='Date', y='value', color='Category', labels={'value':sel_measure+'(Cr)'})"
   ]
  },
  {
   "cell_type": "code",
   "execution_count": null,
   "id": "f99e0494",
   "metadata": {},
   "outputs": [],
   "source": [
    "df_inflows = pd.DataFrame(df_mf_aum.groupby(['Structure', 'Class', 'Date'])['NetInFlow'].aggregate('sum')).reset_index()"
   ]
  },
  {
   "cell_type": "code",
   "execution_count": null,
   "id": "4e1aa541",
   "metadata": {},
   "outputs": [],
   "source": [
    "df_inflows.head()"
   ]
  },
  {
   "cell_type": "code",
   "execution_count": null,
   "id": "be8b2218",
   "metadata": {},
   "outputs": [],
   "source": [
    "sel_structure = 'Open Ended Schemes'\n",
    "sel_class = 'Growth/Equity Oriented Schemes'\n",
    "#sel_class = 'Income/Debt Oriented Schemes'\n",
    "sel_measure = 'NetInFlow'\n",
    "df_selected = df_inflows[(df_inflows['Class'] == sel_class) & (df_inflows['Structure'] == sel_structure)]\n",
    "px.line(df_selected, x='Date', y=sel_measure, color='Class', labels={sel_measure:sel_measure + '(Cr)'})"
   ]
  },
  {
   "cell_type": "code",
   "execution_count": null,
   "id": "511dc344",
   "metadata": {},
   "outputs": [],
   "source": []
  }
 ],
 "metadata": {
  "kernelspec": {
   "display_name": "Python 3 (ipykernel)",
   "language": "python",
   "name": "python3"
  },
  "language_info": {
   "codemirror_mode": {
    "name": "ipython",
    "version": 3
   },
   "file_extension": ".py",
   "mimetype": "text/x-python",
   "name": "python",
   "nbconvert_exporter": "python",
   "pygments_lexer": "ipython3",
   "version": "3.9.13"
  },
  "toc": {
   "base_numbering": 1,
   "nav_menu": {},
   "number_sections": true,
   "sideBar": true,
   "skip_h1_title": false,
   "title_cell": "Table of Contents",
   "title_sidebar": "Contents",
   "toc_cell": false,
   "toc_position": {},
   "toc_section_display": true,
   "toc_window_display": false
  }
 },
 "nbformat": 4,
 "nbformat_minor": 5
}
